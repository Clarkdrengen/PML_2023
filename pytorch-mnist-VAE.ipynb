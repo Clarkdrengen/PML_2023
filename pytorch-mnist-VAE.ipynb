{
  "cells": [
    {
      "cell_type": "markdown",
      "metadata": {
        "id": "view-in-github",
        "colab_type": "text"
      },
      "source": [
        "<a href=\"https://colab.research.google.com/github/Clarkdrengen/PML_2023/blob/main/pytorch-mnist-VAE.ipynb\" target=\"_parent\"><img src=\"https://colab.research.google.com/assets/colab-badge.svg\" alt=\"Open In Colab\"/></a>"
      ]
    },
    {
      "cell_type": "code",
      "execution_count": 35,
      "metadata": {
        "id": "CD77VzBXCVVj"
      },
      "outputs": [],
      "source": [
        "# prerequisites\n",
        "import torch\n",
        "import torch.nn as nn\n",
        "import torch.nn.functional as F\n",
        "import torch.optim as optim\n",
        "import torchvision\n",
        "from torchvision import datasets, transforms\n",
        "from torch.autograd import Variable\n",
        "from torchvision.utils import save_image\n",
        "import numpy as np\n",
        "\n",
        "bs = 100\n",
        "# MNIST Dataset\n",
        "train_dataset = datasets.MNIST(root='./mnist_data/', train=True, transform=transforms.ToTensor(), download=True)\n",
        "test_dataset = datasets.MNIST(root='./mnist_data/', train=False, transform=transforms.ToTensor(), download=False)\n",
        "\n",
        "# Data Loader (Input Pipeline)\n",
        "train_loader = torch.utils.data.DataLoader(dataset=train_dataset, batch_size=bs, shuffle=True)\n",
        "test_loader = torch.utils.data.DataLoader(dataset=test_dataset, batch_size=bs, shuffle=False)"
      ]
    },
    {
      "cell_type": "code",
      "source": [
        "# Device configuration\n",
        "device = torch.device('cuda' if torch.cuda.is_available() else 'cpu')"
      ],
      "metadata": {
        "id": "10bPJRoHuyRw"
      },
      "execution_count": 14,
      "outputs": []
    },
    {
      "cell_type": "code",
      "source": [
        "# Hyper-parameters\n",
        "image_size = 784\n",
        "#h_dim = 400\n",
        "#z_dim = 20\n",
        "num_epochs = 15\n",
        "x_dim=784, \n",
        "h_dim1= 512, \n",
        "h_dim2=256, \n",
        "z_dim=2\n",
        "#learning_rate = 1e-3\n"
      ],
      "metadata": {
        "id": "0hOOO4cSvEe_"
      },
      "execution_count": 17,
      "outputs": []
    },
    {
      "cell_type": "code",
      "execution_count": 20,
      "metadata": {
        "id": "w_QfmQfFCVVm"
      },
      "outputs": [],
      "source": [
        "class VAE(nn.Module):\n",
        "    def __init__(self, x_dim, h_dim1, h_dim2, z_dim):\n",
        "        super(VAE, self).__init__()\n",
        "        \n",
        "        # encoder part\n",
        "        self.fc1 = nn.Linear(x_dim, h_dim1)\n",
        "        self.fc2 = nn.Linear(h_dim1, h_dim2)\n",
        "        self.fc31 = nn.Linear(h_dim2, z_dim)\n",
        "        self.fc32 = nn.Linear(h_dim2, z_dim)\n",
        "        # decoder part\n",
        "        self.fc4 = nn.Linear(z_dim, h_dim2)\n",
        "        self.fc5 = nn.Linear(h_dim2, h_dim1)\n",
        "        self.fc6 = nn.Linear(h_dim1, x_dim)\n",
        "        \n",
        "    def encoder(self, x):\n",
        "        h = F.relu(self.fc1(x))\n",
        "        h = F.relu(self.fc2(h))\n",
        "        return self.fc31(h), self.fc32(h) # mu, log_var\n",
        "    \n",
        "    def sampling(self, mu, log_var):\n",
        "        std = torch.exp(0.5*log_var)\n",
        "        eps = torch.randn_like(std)\n",
        "        return eps.mul(std).add_(mu) # return z sample\n",
        "        \n",
        "    def decoder(self, z):\n",
        "        h = F.relu(self.fc4(z))\n",
        "        h = F.relu(self.fc5(h))\n",
        "        return F.sigmoid(self.fc6(h)) \n",
        "    \n",
        "    def forward(self, x):\n",
        "        mu, log_var = self.encoder(x.view(-1, 784))\n",
        "        z = self.sampling(mu, log_var)\n",
        "        return self.decoder(z), mu, log_var\n",
        "\n",
        "# build model\n",
        "vae = VAE(x_dim=image_size , h_dim1= 512, h_dim2=256, z_dim=2)\n",
        "if torch.cuda.is_available():\n",
        "    vae.cuda()"
      ]
    },
    {
      "cell_type": "code",
      "execution_count": 21,
      "metadata": {
        "colab": {
          "base_uri": "https://localhost:8080/"
        },
        "id": "tpDxsTKbCVVn",
        "outputId": "b4c28c40-95b6-432e-efaf-5ce7e3631b43"
      },
      "outputs": [
        {
          "output_type": "execute_result",
          "data": {
            "text/plain": [
              "VAE(\n",
              "  (fc1): Linear(in_features=784, out_features=512, bias=True)\n",
              "  (fc2): Linear(in_features=512, out_features=256, bias=True)\n",
              "  (fc31): Linear(in_features=256, out_features=2, bias=True)\n",
              "  (fc32): Linear(in_features=256, out_features=2, bias=True)\n",
              "  (fc4): Linear(in_features=2, out_features=256, bias=True)\n",
              "  (fc5): Linear(in_features=256, out_features=512, bias=True)\n",
              "  (fc6): Linear(in_features=512, out_features=784, bias=True)\n",
              ")"
            ]
          },
          "metadata": {},
          "execution_count": 21
        }
      ],
      "source": [
        "vae"
      ]
    },
    {
      "cell_type": "code",
      "execution_count": 22,
      "metadata": {
        "id": "57_yzNE3CVVo"
      },
      "outputs": [],
      "source": [
        "optimizer = optim.Adam(vae.parameters())\n",
        "# return reconstruction error + KL divergence losses\n",
        "def loss_function(recon_x, x, mu, log_var):\n",
        "    BCE = F.binary_cross_entropy(recon_x, x.view(-1, 784), reduction='sum')\n",
        "    KLD = -0.5 * torch.sum(1 + log_var - mu.pow(2) - log_var.exp())\n",
        "    return BCE + KLD"
      ]
    },
    {
      "cell_type": "code",
      "execution_count": 23,
      "metadata": {
        "id": "-peubnfICVVo"
      },
      "outputs": [],
      "source": [
        "def train(epoch):\n",
        "    vae.train()\n",
        "    train_loss = 0\n",
        "    for batch_idx, (data, _) in enumerate(train_loader):\n",
        "        data = data.cuda()\n",
        "        optimizer.zero_grad()\n",
        "        \n",
        "        recon_batch, mu, log_var = vae(data)\n",
        "        loss = loss_function(recon_batch, data, mu, log_var)\n",
        "        \n",
        "        loss.backward()\n",
        "        train_loss += loss.item()\n",
        "        optimizer.step()\n",
        "        \n",
        "        if batch_idx % 100 == 0:\n",
        "            print('Train Epoch: {} [{}/{} ({:.0f}%)]\\tLoss: {:.6f}'.format(\n",
        "                epoch, batch_idx * len(data), len(train_loader.dataset),\n",
        "                100. * batch_idx / len(train_loader), loss.item() / len(data)))\n",
        "    print('====> Epoch: {} Average loss: {:.4f}'.format(epoch, train_loss / len(train_loader.dataset)))"
      ]
    },
    {
      "cell_type": "code",
      "execution_count": 24,
      "metadata": {
        "id": "uhEPsQmSCVVo"
      },
      "outputs": [],
      "source": [
        "def test():\n",
        "    vae.eval()\n",
        "    test_loss= 0\n",
        "    with torch.no_grad():\n",
        "        for data, _ in test_loader:\n",
        "            data = data.cuda()\n",
        "            recon, mu, log_var = vae(data)\n",
        "            \n",
        "            # sum up batch loss\n",
        "            test_loss += loss_function(recon, data, mu, log_var).item()\n",
        "        \n",
        "    test_loss /= len(test_loader.dataset)\n",
        "    print('====> Test set loss: {:.4f}'.format(test_loss))"
      ]
    },
    {
      "cell_type": "code",
      "execution_count": 25,
      "metadata": {
        "scrolled": true,
        "colab": {
          "base_uri": "https://localhost:8080/"
        },
        "id": "R_kXSrxoCVVp",
        "outputId": "a0dc10b2-1ec2-4f00-dc34-6e88183e3ab7"
      },
      "outputs": [
        {
          "output_type": "stream",
          "name": "stdout",
          "text": [
            "Train Epoch: 1 [0/60000 (0%)]\tLoss: 545.107617\n",
            "Train Epoch: 1 [10000/60000 (17%)]\tLoss: 192.576113\n",
            "Train Epoch: 1 [20000/60000 (33%)]\tLoss: 175.437539\n",
            "Train Epoch: 1 [30000/60000 (50%)]\tLoss: 171.885781\n",
            "Train Epoch: 1 [40000/60000 (67%)]\tLoss: 171.408398\n",
            "Train Epoch: 1 [50000/60000 (83%)]\tLoss: 162.017295\n",
            "====> Epoch: 1 Average loss: 178.9173\n",
            "====> Test set loss: 160.9131\n",
            "Train Epoch: 2 [0/60000 (0%)]\tLoss: 157.458838\n",
            "Train Epoch: 2 [10000/60000 (17%)]\tLoss: 160.325977\n",
            "Train Epoch: 2 [20000/60000 (33%)]\tLoss: 160.882354\n",
            "Train Epoch: 2 [30000/60000 (50%)]\tLoss: 157.053799\n",
            "Train Epoch: 2 [40000/60000 (67%)]\tLoss: 148.554336\n",
            "Train Epoch: 2 [50000/60000 (83%)]\tLoss: 155.327422\n",
            "====> Epoch: 2 Average loss: 157.8621\n",
            "====> Test set loss: 154.6467\n",
            "Train Epoch: 3 [0/60000 (0%)]\tLoss: 153.432881\n",
            "Train Epoch: 3 [10000/60000 (17%)]\tLoss: 145.577197\n",
            "Train Epoch: 3 [20000/60000 (33%)]\tLoss: 149.222295\n",
            "Train Epoch: 3 [30000/60000 (50%)]\tLoss: 151.561787\n",
            "Train Epoch: 3 [40000/60000 (67%)]\tLoss: 151.172393\n",
            "Train Epoch: 3 [50000/60000 (83%)]\tLoss: 156.946260\n",
            "====> Epoch: 3 Average loss: 152.4619\n",
            "====> Test set loss: 150.7846\n",
            "Train Epoch: 4 [0/60000 (0%)]\tLoss: 155.715273\n",
            "Train Epoch: 4 [10000/60000 (17%)]\tLoss: 147.690977\n",
            "Train Epoch: 4 [20000/60000 (33%)]\tLoss: 157.924619\n",
            "Train Epoch: 4 [30000/60000 (50%)]\tLoss: 150.048389\n",
            "Train Epoch: 4 [40000/60000 (67%)]\tLoss: 148.267871\n",
            "Train Epoch: 4 [50000/60000 (83%)]\tLoss: 149.569385\n",
            "====> Epoch: 4 Average loss: 149.4962\n",
            "====> Test set loss: 148.4072\n",
            "Train Epoch: 5 [0/60000 (0%)]\tLoss: 157.183828\n",
            "Train Epoch: 5 [10000/60000 (17%)]\tLoss: 156.110234\n",
            "Train Epoch: 5 [20000/60000 (33%)]\tLoss: 136.141230\n",
            "Train Epoch: 5 [30000/60000 (50%)]\tLoss: 153.113086\n",
            "Train Epoch: 5 [40000/60000 (67%)]\tLoss: 144.360527\n",
            "Train Epoch: 5 [50000/60000 (83%)]\tLoss: 146.570898\n",
            "====> Epoch: 5 Average loss: 147.3708\n",
            "====> Test set loss: 146.6378\n",
            "Train Epoch: 6 [0/60000 (0%)]\tLoss: 149.790479\n",
            "Train Epoch: 6 [10000/60000 (17%)]\tLoss: 145.140596\n",
            "Train Epoch: 6 [20000/60000 (33%)]\tLoss: 145.273691\n",
            "Train Epoch: 6 [30000/60000 (50%)]\tLoss: 146.887539\n",
            "Train Epoch: 6 [40000/60000 (67%)]\tLoss: 143.686348\n",
            "Train Epoch: 6 [50000/60000 (83%)]\tLoss: 139.369248\n",
            "====> Epoch: 6 Average loss: 146.0434\n",
            "====> Test set loss: 146.2348\n",
            "Train Epoch: 7 [0/60000 (0%)]\tLoss: 151.380596\n",
            "Train Epoch: 7 [10000/60000 (17%)]\tLoss: 151.915469\n",
            "Train Epoch: 7 [20000/60000 (33%)]\tLoss: 150.430068\n",
            "Train Epoch: 7 [30000/60000 (50%)]\tLoss: 137.035508\n",
            "Train Epoch: 7 [40000/60000 (67%)]\tLoss: 140.340918\n",
            "Train Epoch: 7 [50000/60000 (83%)]\tLoss: 140.878398\n",
            "====> Epoch: 7 Average loss: 144.9489\n",
            "====> Test set loss: 145.2239\n",
            "Train Epoch: 8 [0/60000 (0%)]\tLoss: 145.122617\n",
            "Train Epoch: 8 [10000/60000 (17%)]\tLoss: 142.349023\n",
            "Train Epoch: 8 [20000/60000 (33%)]\tLoss: 141.639199\n",
            "Train Epoch: 8 [30000/60000 (50%)]\tLoss: 143.996689\n",
            "Train Epoch: 8 [40000/60000 (67%)]\tLoss: 143.432559\n",
            "Train Epoch: 8 [50000/60000 (83%)]\tLoss: 140.694043\n",
            "====> Epoch: 8 Average loss: 143.8704\n",
            "====> Test set loss: 144.1369\n",
            "Train Epoch: 9 [0/60000 (0%)]\tLoss: 140.472402\n",
            "Train Epoch: 9 [10000/60000 (17%)]\tLoss: 143.902607\n",
            "Train Epoch: 9 [20000/60000 (33%)]\tLoss: 137.115352\n",
            "Train Epoch: 9 [30000/60000 (50%)]\tLoss: 152.205146\n",
            "Train Epoch: 9 [40000/60000 (67%)]\tLoss: 148.836240\n",
            "Train Epoch: 9 [50000/60000 (83%)]\tLoss: 148.778975\n",
            "====> Epoch: 9 Average loss: 143.1558\n",
            "====> Test set loss: 143.6348\n",
            "Train Epoch: 10 [0/60000 (0%)]\tLoss: 145.924014\n",
            "Train Epoch: 10 [10000/60000 (17%)]\tLoss: 144.495234\n",
            "Train Epoch: 10 [20000/60000 (33%)]\tLoss: 144.246895\n",
            "Train Epoch: 10 [30000/60000 (50%)]\tLoss: 133.218193\n",
            "Train Epoch: 10 [40000/60000 (67%)]\tLoss: 137.582686\n",
            "Train Epoch: 10 [50000/60000 (83%)]\tLoss: 151.362793\n",
            "====> Epoch: 10 Average loss: 142.3379\n",
            "====> Test set loss: 142.7860\n",
            "Train Epoch: 11 [0/60000 (0%)]\tLoss: 140.872891\n",
            "Train Epoch: 11 [10000/60000 (17%)]\tLoss: 139.483994\n",
            "Train Epoch: 11 [20000/60000 (33%)]\tLoss: 148.681992\n",
            "Train Epoch: 11 [30000/60000 (50%)]\tLoss: 148.390586\n",
            "Train Epoch: 11 [40000/60000 (67%)]\tLoss: 133.844541\n",
            "Train Epoch: 11 [50000/60000 (83%)]\tLoss: 145.696748\n",
            "====> Epoch: 11 Average loss: 141.7356\n",
            "====> Test set loss: 142.0766\n",
            "Train Epoch: 12 [0/60000 (0%)]\tLoss: 136.967520\n",
            "Train Epoch: 12 [10000/60000 (17%)]\tLoss: 147.810547\n",
            "Train Epoch: 12 [20000/60000 (33%)]\tLoss: 136.170459\n",
            "Train Epoch: 12 [30000/60000 (50%)]\tLoss: 141.706113\n",
            "Train Epoch: 12 [40000/60000 (67%)]\tLoss: 143.599473\n",
            "Train Epoch: 12 [50000/60000 (83%)]\tLoss: 139.680684\n",
            "====> Epoch: 12 Average loss: 141.2182\n",
            "====> Test set loss: 142.1264\n",
            "Train Epoch: 13 [0/60000 (0%)]\tLoss: 146.516162\n",
            "Train Epoch: 13 [10000/60000 (17%)]\tLoss: 136.288262\n",
            "Train Epoch: 13 [20000/60000 (33%)]\tLoss: 142.646094\n",
            "Train Epoch: 13 [30000/60000 (50%)]\tLoss: 144.400596\n",
            "Train Epoch: 13 [40000/60000 (67%)]\tLoss: 139.697188\n",
            "Train Epoch: 13 [50000/60000 (83%)]\tLoss: 149.320352\n",
            "====> Epoch: 13 Average loss: 140.6425\n",
            "====> Test set loss: 141.4096\n",
            "Train Epoch: 14 [0/60000 (0%)]\tLoss: 131.743926\n",
            "Train Epoch: 14 [10000/60000 (17%)]\tLoss: 136.520635\n",
            "Train Epoch: 14 [20000/60000 (33%)]\tLoss: 132.689414\n",
            "Train Epoch: 14 [30000/60000 (50%)]\tLoss: 139.420859\n",
            "Train Epoch: 14 [40000/60000 (67%)]\tLoss: 132.620908\n",
            "Train Epoch: 14 [50000/60000 (83%)]\tLoss: 136.678633\n",
            "====> Epoch: 14 Average loss: 140.1938\n",
            "====> Test set loss: 141.0871\n",
            "Train Epoch: 15 [0/60000 (0%)]\tLoss: 145.851768\n",
            "Train Epoch: 15 [10000/60000 (17%)]\tLoss: 140.060654\n",
            "Train Epoch: 15 [20000/60000 (33%)]\tLoss: 147.222744\n",
            "Train Epoch: 15 [30000/60000 (50%)]\tLoss: 143.141221\n",
            "Train Epoch: 15 [40000/60000 (67%)]\tLoss: 137.347559\n",
            "Train Epoch: 15 [50000/60000 (83%)]\tLoss: 141.900313\n",
            "====> Epoch: 15 Average loss: 140.0235\n",
            "====> Test set loss: 141.4004\n"
          ]
        }
      ],
      "source": [
        "for epoch in range(1, num_epochs + 1):\n",
        "    train(epoch)\n",
        "    test()"
      ]
    },
    {
      "cell_type": "code",
      "source": [
        "import matplotlib.pyplot as plt"
      ],
      "metadata": {
        "id": "pctjC7qfSyjw"
      },
      "execution_count": 26,
      "outputs": []
    },
    {
      "cell_type": "code",
      "execution_count": 27,
      "metadata": {
        "colab": {
          "base_uri": "https://localhost:8080/",
          "height": 466
        },
        "id": "SUKR-O7eCVVp",
        "outputId": "26dc39af-7538-422d-8157-5664d18c93b4"
      },
      "outputs": [
        {
          "output_type": "stream",
          "name": "stdout",
          "text": [
            "<class 'torch.Tensor'>\n",
            "torch.Size([64, 784])\n"
          ]
        },
        {
          "output_type": "display_data",
          "data": {
            "text/plain": [
              "<Figure size 640x480 with 1 Axes>"
            ],
            "image/png": "[encoded data removed]"
          },
          "metadata": {}
        }
      ],
      "source": [
        "with torch.no_grad():\n",
        "    z = torch.randn(64, 2).cuda()\n",
        "    sample = vae.decoder(z).cuda()\n",
        "    print(sample.__class__)\n",
        "    print(sample.size())\n",
        "\n",
        "    sample = sample.cpu() # use .cpu().numpy() to move off the GPU ## NOTE: moving to numpy is redundant and unhelpful \n",
        "    image = sample[0].reshape(28,28)    # shows the first of 64 randimly generated pictures\n",
        "    plt.imshow(image, cmap=\"gray\")\n",
        "  \n",
        "\n",
        "    #plt.imshow(sample[0].reshape(28,28), cmap=\"gray\")\n",
        "    #save_image(sample.view(64, 1, 28, 28), './samples/sample_' + '.png')"
      ]
    },
    {
      "cell_type": "code",
      "source": [
        "#plt.imshow(sample[0].reshape(28,28).cpu().numpy().reshape(28,28), cmap=\"gray\")\n",
        "\n",
        "images = sample[:5].reshape((-1, 28, 28))  # se\n",
        "\n",
        "fig, axes = plt.subplots(nrows=1, ncols=5)  # create a 4x4 grid of subplots\n",
        "for i, ax in enumerate(axes.flat):\n",
        "    ax.imshow(images[i], cmap='gray')  # display image on the current subplot\n",
        "\n",
        "[axi.set_axis_off() for axi in axes.ravel()] # kill axes h/t https://stackoverflow.com/questions/25862026/turn-off-axes-in-subplots\n",
        "fig.suptitle('Awesome title', fontsize=10, y=.65) # awesome title h/t https://www.geeksforgeeks.org/how-to-set-a-single-main-title-for-all-the-subplots-in-matplotlib/\n",
        "plt.show()"
      ],
      "metadata": {
        "colab": {
          "base_uri": "https://localhost:8080/",
          "height": 154
        },
        "id": "3v31ghJVWMqK",
        "outputId": "9c7859fe-ea3f-48f9-85ba-c04acd36e0c7"
      },
      "execution_count": 28,
      "outputs": [
        {
          "output_type": "display_data",
          "data": {
            "text/plain": [
              "<Figure size 640x480 with 5 Axes>"
            ],
            "image/png": "[encoded data removed]"
          },
          "metadata": {}
        }
      ]
    },
    {
      "cell_type": "code",
      "source": [
        "\n",
        "\n",
        "fig, axes = plt.subplots(nrows=1, ncols=5)  # create a 4x4 grid of subplots\n",
        "for i, ax in enumerate(axes.flat):\n",
        "    ax.imshow(images[i], cmap='gray')  # display image on the current subplot\n",
        "\n",
        "[axi.set_axis_off() for axi in axes.ravel()] # kill axes h/t https://stackoverflow.com/questions/25862026/turn-off-axes-in-subplots\n",
        "fig.suptitle('Awesome title', fontsize=10, y=.65) # awesome title h/t https://www.geeksforgeeks.org/how-to-set-a-single-main-title-for-all-the-subplots-in-matplotlib/\n",
        "plt.show()"
      ],
      "metadata": {
        "colab": {
          "base_uri": "https://localhost:8080/",
          "height": 154
        },
        "id": "HxjJcbLrV1hS",
        "outputId": "523330a3-3360-45f3-8277-36188f27bdbd"
      },
      "execution_count": 12,
      "outputs": [
        {
          "output_type": "display_data",
          "data": {
            "text/plain": [
              "<Figure size 640x480 with 5 Axes>"
            ],
            "image/png": "[encoded data removed]"
          },
          "metadata": {}
        }
      ]
    },
    {
      "cell_type": "code",
      "source": [
        "# now create five images similarly to MNIST_data_wrangling.ipynb"
      ],
      "metadata": {
        "id": "8M-W6kXSS1FO"
      },
      "execution_count": 13,
      "outputs": []
    },
    {
      "cell_type": "code",
      "source": [
        "## now create an image of estimated images and ground truth\n",
        "# read https://stackoverflow.com/questions/66667949/pytorch-mnist-autoencoder-to-learn-10-digit-classification\n",
        "\n",
        "\n",
        "## run first five training images through the encoder\n",
        "\n",
        "\n",
        "### from https://github.com/dataflowr/notebooks/blob/master/HW3/VAE_clustering_empty.ipynb\n",
        "\n",
        "def show(img):\n",
        "    npimg = img.numpy()\n",
        "    plt.imshow(np.transpose(npimg, (1,2,0)), interpolation='nearest')\n",
        "    plt.suptitle('Images from test set with reconstruction', fontsize=10, y=.67)\n",
        "    plt.axis('off')\n",
        "    plt.show()\n",
        "\n",
        "def plot_reconstruction(vae, n=8):\n",
        "    \n",
        "    x,_ = next(iter(test_loader))\n",
        "    x = x[:n,:,:,:].to(device)\n",
        "    try:\n",
        "        out, _, _, log_p = vae(x.view(-1, image_size)) \n",
        "    except:\n",
        "        out, _, _ = vae(x.view(-1, image_size))\n",
        "    print(x.size()) \n",
        "    x_concat = torch.cat([x.view(-1, 1, 28, 28), out.view(-1, 1, 28, 28)], dim=2)\n",
        "    out_grid = torchvision.utils.make_grid(x_concat).cpu().data\n",
        "    show(out_grid)\n",
        "\n",
        "plot_reconstruction(vae)"
      ],
      "metadata": {
        "colab": {
          "base_uri": "https://localhost:8080/",
          "height": 200
        },
        "id": "nkKRKKD3Wh_j",
        "outputId": "d0e49a8a-8e90-492b-a18e-6c27cddb8b08"
      },
      "execution_count": 71,
      "outputs": [
        {
          "output_type": "stream",
          "name": "stdout",
          "text": [
            "torch.Size([8, 1, 28, 28])\n"
          ]
        },
        {
          "output_type": "display_data",
          "data": {
            "text/plain": [
              "<Figure size 640x480 with 1 Axes>"
            ],
            "image/png": "[encoded data removed]"
          },
          "metadata": {}
        }
      ]
    },
    {
      "cell_type": "code",
      "source": [],
      "metadata": {
        "id": "zEMyoBQUxsnZ"
      },
      "execution_count": 71,
      "outputs": []
    },
    {
      "cell_type": "code",
      "source": [],
      "metadata": {
        "id": "ObS6ny9wyNbD"
      },
      "execution_count": null,
      "outputs": []
    }
  ],
  "metadata": {
    "kernelspec": {
      "display_name": "Python 3",
      "language": "python",
      "name": "python3"
    },
    "language_info": {
      "codemirror_mode": {
        "name": "ipython",
        "version": 3
      },
      "file_extension": ".py",
      "mimetype": "text/x-python",
      "name": "python",
      "nbconvert_exporter": "python",
      "pygments_lexer": "ipython3",
      "version": "3.5.4"
    },
    "colab": {
      "provenance": [],
      "include_colab_link": true
    },
    "accelerator": "GPU",
    "gpuClass": "standard"
  },
  "nbformat": 4,
  "nbformat_minor": 0
}