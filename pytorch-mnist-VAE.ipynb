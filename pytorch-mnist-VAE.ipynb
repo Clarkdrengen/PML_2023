{
  "cells": [
    {
      "cell_type": "markdown",
      "metadata": {
        "id": "view-in-github",
        "colab_type": "text"
      },
      "source": [
        "<a href=\"https://colab.research.google.com/github/Clarkdrengen/PML_2023/blob/main/pytorch-mnist-VAE.ipynb\" target=\"_parent\"><img src=\"https://colab.research.google.com/assets/colab-badge.svg\" alt=\"Open In Colab\"/></a>"
      ]
    },
    {
      "cell_type": "code",
      "execution_count": 1,
      "metadata": {
        "id": "NZkUZwpQaPyJ"
      },
      "outputs": [],
      "source": [
        "\"\"\"\n",
        "Import necessary libraries to create a variational autoencoder\n",
        "The code is mainly developed using the PyTorch library\n",
        "\"\"\"\n",
        "import torch\n",
        "import torch.nn as nn\n",
        "import torch.nn.functional as F\n",
        "from torchvision import datasets, transforms\n",
        "from torchvision.utils import save_image"
      ]
    },
    {
      "cell_type": "code",
      "execution_count": 2,
      "metadata": {
        "id": "8HiWZxh5aPyM"
      },
      "outputs": [],
      "source": [
        "\"\"\"\n",
        "Determine if any GPUs are available \n",
        "\"\"\"\n",
        "device = torch.device('cuda' if torch.cuda.is_available() else 'cpu')"
      ]
    },
    {
      "cell_type": "code",
      "execution_count": 3,
      "metadata": {
        "id": "yXIC0Z0naPyN"
      },
      "outputs": [],
      "source": [
        "\"\"\"\n",
        "Initialize Hyperparameters\n",
        "\"\"\"\n",
        "batch_size = 128\n",
        "learning_rate = 1e-3\n",
        "num_epochs = 10"
      ]
    },
    {
      "cell_type": "code",
      "execution_count": 4,
      "metadata": {
        "colab": {
          "base_uri": "https://localhost:8080/"
        },
        "id": "nvJRXVPgaPyN",
        "outputId": "e08fcd0a-61f1-461f-a7a3-91c433dde0bc"
      },
      "outputs": [
        {
          "output_type": "stream",
          "name": "stdout",
          "text": [
            "Downloading http://yann.lecun.com/exdb/mnist/train-images-idx3-ubyte.gz\n",
            "Downloading http://yann.lecun.com/exdb/mnist/train-images-idx3-ubyte.gz to data/MNIST/raw/train-images-idx3-ubyte.gz\n"
          ]
        },
        {
          "output_type": "stream",
          "name": "stderr",
          "text": [
            "100%|██████████| 9912422/9912422 [00:00<00:00, 70691723.46it/s]\n"
          ]
        },
        {
          "output_type": "stream",
          "name": "stdout",
          "text": [
            "Extracting data/MNIST/raw/train-images-idx3-ubyte.gz to data/MNIST/raw\n",
            "\n",
            "Downloading http://yann.lecun.com/exdb/mnist/train-labels-idx1-ubyte.gz\n",
            "Downloading http://yann.lecun.com/exdb/mnist/train-labels-idx1-ubyte.gz to data/MNIST/raw/train-labels-idx1-ubyte.gz\n"
          ]
        },
        {
          "output_type": "stream",
          "name": "stderr",
          "text": [
            "100%|██████████| 28881/28881 [00:00<00:00, 86587343.69it/s]\n"
          ]
        },
        {
          "output_type": "stream",
          "name": "stdout",
          "text": [
            "Extracting data/MNIST/raw/train-labels-idx1-ubyte.gz to data/MNIST/raw\n",
            "\n",
            "Downloading http://yann.lecun.com/exdb/mnist/t10k-images-idx3-ubyte.gz\n",
            "Downloading http://yann.lecun.com/exdb/mnist/t10k-images-idx3-ubyte.gz to data/MNIST/raw/t10k-images-idx3-ubyte.gz\n"
          ]
        },
        {
          "output_type": "stream",
          "name": "stderr",
          "text": [
            "100%|██████████| 1648877/1648877 [00:00<00:00, 24268158.93it/s]\n"
          ]
        },
        {
          "output_type": "stream",
          "name": "stdout",
          "text": [
            "Extracting data/MNIST/raw/t10k-images-idx3-ubyte.gz to data/MNIST/raw\n",
            "\n",
            "Downloading http://yann.lecun.com/exdb/mnist/t10k-labels-idx1-ubyte.gz\n",
            "Downloading http://yann.lecun.com/exdb/mnist/t10k-labels-idx1-ubyte.gz to data/MNIST/raw/t10k-labels-idx1-ubyte.gz\n"
          ]
        },
        {
          "output_type": "stream",
          "name": "stderr",
          "text": [
            "100%|██████████| 4542/4542 [00:00<00:00, 17688513.25it/s]\n"
          ]
        },
        {
          "output_type": "stream",
          "name": "stdout",
          "text": [
            "Extracting data/MNIST/raw/t10k-labels-idx1-ubyte.gz to data/MNIST/raw\n",
            "\n"
          ]
        }
      ],
      "source": [
        "\"\"\"\n",
        "Create dataloaders to feed data into the neural network\n",
        "Default MNIST dataset is used and standard train/test split is performed\n",
        "\"\"\"\n",
        "train_loader = torch.utils.data.DataLoader(\n",
        "    datasets.MNIST('data', train=True, download=True,\n",
        "                    transform=transforms.ToTensor()),\n",
        "    batch_size=batch_size, shuffle=True)\n",
        "test_loader = torch.utils.data.DataLoader(\n",
        "    datasets.MNIST('data', train=False, transform=transforms.ToTensor()),\n",
        "    batch_size=1)"
      ]
    },
    {
      "cell_type": "code",
      "execution_count": 5,
      "metadata": {
        "id": "1Wo5cV7vaPyO"
      },
      "outputs": [],
      "source": [
        "\"\"\"\n",
        "A Convolutional Variational Autoencoder\n",
        "\"\"\"\n",
        "class VAE(nn.Module):\n",
        "    def __init__(self, imgChannels=1, featureDim=32*20*20, zDim=256):\n",
        "        super(VAE, self).__init__()\n",
        "        \n",
        "        # Initializing the 2 convolutional layers and 2 full-connected layers for the encoder\n",
        "        self.encConv1 = nn.Conv2d(imgChannels, 16, 5)\n",
        "        self.encConv2 = nn.Conv2d(16, 32, 5) \n",
        "        self.encFC1 = nn.Linear(featureDim, zDim)\n",
        "        self.encFC2 = nn.Linear(featureDim, zDim)\n",
        "        \n",
        "        # Initializing the fully-connected layer and 2 convolutional layers for decoder\n",
        "        self.decFC1 = nn.Linear(zDim, featureDim)\n",
        "        self.decConv1 = nn.ConvTranspose2d(32, 16, 5)\n",
        "        self.decConv2 = nn.ConvTranspose2d(16, imgChannels, 5)\n",
        "        \n",
        "    def encoder(self, x):\n",
        "        \n",
        "        # Input is fed into 2 convolutional layers sequentially\n",
        "        # The output feature map are fed into 2 fully-connected layers to predict mean (mu) and variance (logVar)\n",
        "        # Mu and logVar are used for generating middle representation z and KL divergence loss\n",
        "        x = F.relu(self.encConv1(x))\n",
        "        x = F.relu(self.encConv2(x))\n",
        "        x = x.view(-1, 32*20*20)\n",
        "        mu = self.encFC1(x)\n",
        "        logVar = self.encFC2(x)\n",
        "        return mu, logVar\n",
        "    \n",
        "    def reparameterize(self, mu, logVar):\n",
        "        \n",
        "        #Reparameterization takes in the input mu and logVar and sample the mu + std * eps\n",
        "        std = torch.exp(logVar/2)\n",
        "        eps = torch.randn_like(std)\n",
        "        return mu + std * eps\n",
        "    \n",
        "    def decoder(self, z):\n",
        "        \n",
        "        # z is fed back into a fully-connected layers and then into two transpose convolutional layers\n",
        "        # The generated output is the same size of the original input\n",
        "        x = F.relu(self.decFC1(z))\n",
        "        x = x.view(-1, 32, 20, 20)\n",
        "        x = F.relu(self.decConv1(x))\n",
        "        x = torch.sigmoid(self.decConv2(x))\n",
        "        return x\n",
        "        \n",
        "    def forward(self, x):\n",
        "        \n",
        "        # The entire pipeline of the VAE: encoder -> reparameterization -> decoder\n",
        "        # output, mu, and logVar are returned for loss computation\n",
        "        mu, logVar = self.encoder(x)\n",
        "        z = self.reparameterize(mu, logVar)\n",
        "        out = self.decoder(z)\n",
        "        return out, mu, logVar\n",
        "    "
      ]
    },
    {
      "cell_type": "code",
      "execution_count": 6,
      "metadata": {
        "id": "tuKXhmnnaPyV"
      },
      "outputs": [],
      "source": [
        "\"\"\"\n",
        "Initialize the network and the Adam optimizer\n",
        "\"\"\"\n",
        "net = VAE().to(device)\n",
        "optimizer = torch.optim.Adam(net.parameters(), lr=learning_rate)"
      ]
    },
    {
      "cell_type": "code",
      "execution_count": 7,
      "metadata": {
        "colab": {
          "base_uri": "https://localhost:8080/"
        },
        "id": "jY4GpRGMaPyW",
        "outputId": "74eb4f17-93cc-46b3-f78a-f27d707fc7ad"
      },
      "outputs": [
        {
          "output_type": "stream",
          "name": "stderr",
          "text": [
            "/usr/local/lib/python3.9/dist-packages/torch/nn/_reduction.py:42: UserWarning: size_average and reduce args will be deprecated, please use reduction='sum' instead.\n",
            "  warnings.warn(warning.format(ret))\n"
          ]
        },
        {
          "output_type": "stream",
          "name": "stdout",
          "text": [
            "Epoch 0: Loss 12256.3359375\n",
            "Epoch 1: Loss 10986.283203125\n",
            "Epoch 2: Loss 10915.537109375\n",
            "Epoch 3: Loss 10687.529296875\n",
            "Epoch 4: Loss 10275.15234375\n",
            "Epoch 5: Loss 9949.4951171875\n",
            "Epoch 6: Loss 9972.990234375\n",
            "Epoch 7: Loss 9955.0498046875\n",
            "Epoch 8: Loss 10428.9140625\n",
            "Epoch 9: Loss 9842.19921875\n"
          ]
        }
      ],
      "source": [
        "\"\"\"\n",
        "Training the network for a given number of epochs\n",
        "The loss after every epoch is printed\n",
        "\"\"\"\n",
        "for epoch in range(num_epochs):\n",
        "    for idx, data in enumerate(train_loader, 0):\n",
        "        imgs, _ = data\n",
        "        imgs = imgs.to(device)\n",
        "        \n",
        "        # Feeding a batch of images into the network to obtain the output image, mu, and logVar\n",
        "        out, mu, logVar = net(imgs)\n",
        "        \n",
        "        # The loss is the BCE loss combined with the KL divergence to ensure the distribution is learnt\n",
        "        kl_divergence = -0.5 * torch.sum(1 + logVar - mu.pow(2) - logVar.exp())\n",
        "        loss = F.binary_cross_entropy(out, imgs, size_average=False) + kl_divergence\n",
        "        \n",
        "        # Backpropagation based on the loss\n",
        "        optimizer.zero_grad()\n",
        "        loss.backward()\n",
        "        optimizer.step()\n",
        "        \n",
        "    print('Epoch {}: Loss {}'.format(epoch, loss))\n",
        "        "
      ]
    },
    {
      "cell_type": "code",
      "source": [
        "!ls"
      ],
      "metadata": {
        "colab": {
          "base_uri": "https://localhost:8080/"
        },
        "id": "ikYHRcZLe98u",
        "outputId": "a2164c2f-1c47-4978-e460-6bc5966227a0"
      },
      "execution_count": 11,
      "outputs": [
        {
          "output_type": "stream",
          "name": "stdout",
          "text": [
            "data  PML_2023\tsample_data\n"
          ]
        }
      ]
    },
    {
      "cell_type": "code",
      "source": [
        "torch.save(net, 'PML_2023/ConvNet.pt')"
      ],
      "metadata": {
        "id": "oPG81tUoezim"
      },
      "execution_count": 12,
      "outputs": []
    },
    {
      "cell_type": "code",
      "execution_count": 13,
      "metadata": {
        "colab": {
          "base_uri": "https://localhost:8080/",
          "height": 287
        },
        "id": "ZOa15XL7aPyX",
        "outputId": "84c2c3db-ea52-4135-e733-2abc97b48684"
      },
      "outputs": [
        {
          "output_type": "display_data",
          "data": {
            "text/plain": [
              "<Figure size 640x480 with 2 Axes>"
            ],
            "image/png": "[encoded data removed]"
          },
          "metadata": {}
        }
      ],
      "source": [
        "\"\"\"\n",
        "The following part takes a random image from test loader to feed into the VAE.\n",
        "Both the original image and generated image from the distribution are shown.\n",
        "\"\"\"\n",
        "\n",
        "import matplotlib.pyplot as plt\n",
        "import numpy as np\n",
        "import random\n",
        "\n",
        "net.eval()\n",
        "with torch.no_grad():\n",
        "    for data in random.sample(list(test_loader), 1):\n",
        "        imgs, _ = data\n",
        "        imgs = imgs.to(device)\n",
        "        img = np.transpose(imgs[0].cpu().numpy(), [1,2,0])\n",
        "        plt.subplot(121)\n",
        "        plt.imshow(np.squeeze(img))\n",
        "        out, mu, logVAR = net(imgs)\n",
        "        outimg = np.transpose(out[0].cpu().numpy(), [1,2,0])\n",
        "        plt.subplot(122)\n",
        "        plt.imshow(np.squeeze(outimg))"
      ]
    },
    {
      "cell_type": "markdown",
      "source": [
        "## Load generic VAE for comparison"
      ],
      "metadata": {
        "id": "nTe-8S4gk3tM"
      }
    },
    {
      "cell_type": "code",
      "execution_count": 15,
      "metadata": {
        "colab": {
          "base_uri": "https://localhost:8080/"
        },
        "id": "TDSaRpXDaPyY",
        "outputId": "32d1f556-0c01-4fca-907c-ee7a18bee6e3"
      },
      "outputs": [
        {
          "output_type": "stream",
          "name": "stdout",
          "text": [
            "Downloading http://yann.lecun.com/exdb/mnist/train-images-idx3-ubyte.gz\n",
            "Downloading http://yann.lecun.com/exdb/mnist/train-images-idx3-ubyte.gz to ./mnist_data/MNIST/raw/train-images-idx3-ubyte.gz\n"
          ]
        },
        {
          "output_type": "stream",
          "name": "stderr",
          "text": [
            "100%|██████████| 9912422/9912422 [00:00<00:00, 91534519.97it/s]\n"
          ]
        },
        {
          "output_type": "stream",
          "name": "stdout",
          "text": [
            "Extracting ./mnist_data/MNIST/raw/train-images-idx3-ubyte.gz to ./mnist_data/MNIST/raw\n",
            "\n",
            "Downloading http://yann.lecun.com/exdb/mnist/train-labels-idx1-ubyte.gz\n",
            "Downloading http://yann.lecun.com/exdb/mnist/train-labels-idx1-ubyte.gz to ./mnist_data/MNIST/raw/train-labels-idx1-ubyte.gz\n"
          ]
        },
        {
          "output_type": "stream",
          "name": "stderr",
          "text": [
            "100%|██████████| 28881/28881 [00:00<00:00, 114386868.58it/s]\n"
          ]
        },
        {
          "output_type": "stream",
          "name": "stdout",
          "text": [
            "Extracting ./mnist_data/MNIST/raw/train-labels-idx1-ubyte.gz to ./mnist_data/MNIST/raw\n",
            "\n",
            "Downloading http://yann.lecun.com/exdb/mnist/t10k-images-idx3-ubyte.gz\n",
            "Downloading http://yann.lecun.com/exdb/mnist/t10k-images-idx3-ubyte.gz to ./mnist_data/MNIST/raw/t10k-images-idx3-ubyte.gz\n"
          ]
        },
        {
          "output_type": "stream",
          "name": "stderr",
          "text": [
            "100%|██████████| 1648877/1648877 [00:00<00:00, 24253180.37it/s]\n"
          ]
        },
        {
          "output_type": "stream",
          "name": "stdout",
          "text": [
            "Extracting ./mnist_data/MNIST/raw/t10k-images-idx3-ubyte.gz to ./mnist_data/MNIST/raw\n",
            "\n",
            "Downloading http://yann.lecun.com/exdb/mnist/t10k-labels-idx1-ubyte.gz\n",
            "Downloading http://yann.lecun.com/exdb/mnist/t10k-labels-idx1-ubyte.gz to ./mnist_data/MNIST/raw/t10k-labels-idx1-ubyte.gz\n"
          ]
        },
        {
          "output_type": "stream",
          "name": "stderr",
          "text": [
            "100%|██████████| 4542/4542 [00:00<00:00, 14699482.07it/s]\n"
          ]
        },
        {
          "output_type": "stream",
          "name": "stdout",
          "text": [
            "Extracting ./mnist_data/MNIST/raw/t10k-labels-idx1-ubyte.gz to ./mnist_data/MNIST/raw\n",
            "\n"
          ]
        }
      ],
      "source": [
        "# prerequisites\n",
        "import torch\n",
        "import torch.nn as nn\n",
        "import torch.nn.functional as F\n",
        "import torch.optim as optim\n",
        "import torchvision\n",
        "from torchvision import datasets, transforms\n",
        "from torch.autograd import Variable\n",
        "from torchvision.utils import save_image\n",
        "import numpy as np\n",
        "import matplotlib.pyplot as plt\n",
        "\n",
        "bs = 100\n",
        "# MNIST Dataset\n",
        "train_dataset = datasets.MNIST(root='./mnist_data/', train=True, transform=transforms.ToTensor(), download=True)\n",
        "test_dataset = datasets.MNIST(root='./mnist_data/', train=False, transform=transforms.ToTensor(), download=False)\n",
        "\n",
        "# Data Loader (Input Pipeline)\n",
        "train_loader = torch.utils.data.DataLoader(dataset=train_dataset, batch_size=bs, shuffle=True)\n",
        "test_loader = torch.utils.data.DataLoader(dataset=test_dataset, batch_size=bs, shuffle=False)"
      ]
    },
    {
      "cell_type": "code",
      "source": [
        "# Device configuration\n",
        "device = torch.device('cuda' if torch.cuda.is_available() else 'cpu')"
      ],
      "metadata": {
        "id": "KtjPyQe6k9Ny"
      },
      "execution_count": 16,
      "outputs": []
    },
    {
      "cell_type": "code",
      "source": [
        "# Hyper-parameters\n",
        "image_size = 784\n",
        "#h_dim = 400\n",
        "#z_dim = 20\n",
        "num_epochs = 50\n",
        "x_dim=784, \n",
        "h_dim1= 512, \n",
        "h_dim2=256, \n",
        "z_dim=2\n",
        "learning_rate = 1e-3"
      ],
      "metadata": {
        "id": "LaoGCObKk97H"
      },
      "execution_count": 24,
      "outputs": []
    },
    {
      "cell_type": "code",
      "source": [
        "class VAE(nn.Module):\n",
        "    def __init__(self, x_dim, h_dim1, h_dim2, z_dim):\n",
        "        super(VAE, self).__init__()\n",
        "        \n",
        "        # encoder part\n",
        "        self.fc1 = nn.Linear(x_dim, h_dim1)\n",
        "        self.fc2 = nn.Linear(h_dim1, h_dim2)\n",
        "        self.fc31 = nn.Linear(h_dim2, z_dim)\n",
        "        self.fc32 = nn.Linear(h_dim2, z_dim)\n",
        "        # decoder part\n",
        "        self.fc4 = nn.Linear(z_dim, h_dim2)\n",
        "        self.fc5 = nn.Linear(h_dim2, h_dim1)\n",
        "        self.fc6 = nn.Linear(h_dim1, x_dim)\n",
        "        \n",
        "    def encoder(self, x):\n",
        "        h = F.relu(self.fc1(x))\n",
        "        h = F.relu(self.fc2(h))\n",
        "        return self.fc31(h), self.fc32(h) # mu, log_var\n",
        "    \n",
        "    def sampling(self, mu, log_var):\n",
        "        std = torch.exp(0.5*log_var)\n",
        "        eps = torch.randn_like(std)\n",
        "        return eps.mul(std).add_(mu) # return z sample\n",
        "        \n",
        "    def decoder(self, z):\n",
        "        h = F.relu(self.fc4(z))\n",
        "        h = F.relu(self.fc5(h))\n",
        "        return F.sigmoid(self.fc6(h)) \n",
        "    \n",
        "    def forward(self, x):\n",
        "        mu, log_var = self.encoder(x.view(-1, 784))\n",
        "        z = self.sampling(mu, log_var)\n",
        "        return self.decoder(z), mu, log_var\n",
        "\n",
        "# build model\n",
        "#vae = VAE(x_dim=image_size , h_dim1= 512, h_dim2=256, z_dim=2)\n",
        "vae = VAE(x_dim=image_size , h_dim1= 512, h_dim2=256, z_dim=z_dim)\n",
        "if torch.cuda.is_available():\n",
        "    vae.cuda()"
      ],
      "metadata": {
        "id": "Nga64sE1lAjV"
      },
      "execution_count": 25,
      "outputs": []
    },
    {
      "cell_type": "code",
      "source": [
        "vae.parameters"
      ],
      "metadata": {
        "colab": {
          "base_uri": "https://localhost:8080/"
        },
        "id": "RCBc46hvlH6a",
        "outputId": "c381da7b-684e-46db-a8cc-dcd14372b15a"
      },
      "execution_count": 26,
      "outputs": [
        {
          "output_type": "execute_result",
          "data": {
            "text/plain": [
              "<bound method Module.parameters of VAE(\n",
              "  (fc1): Linear(in_features=784, out_features=512, bias=True)\n",
              "  (fc2): Linear(in_features=512, out_features=256, bias=True)\n",
              "  (fc31): Linear(in_features=256, out_features=2, bias=True)\n",
              "  (fc32): Linear(in_features=256, out_features=2, bias=True)\n",
              "  (fc4): Linear(in_features=2, out_features=256, bias=True)\n",
              "  (fc5): Linear(in_features=256, out_features=512, bias=True)\n",
              "  (fc6): Linear(in_features=512, out_features=784, bias=True)\n",
              ")>"
            ]
          },
          "metadata": {},
          "execution_count": 26
        }
      ]
    },
    {
      "cell_type": "code",
      "source": [
        "optimizer = optim.Adam(vae.parameters(), lr=learning_rate)\n",
        "# return reconstruction error + KL divergence losses\n",
        "def loss_function(recon_x, x, mu, log_var):\n",
        "    BCE = F.binary_cross_entropy(recon_x, x.view(-1, 784), reduction='sum')\n",
        "    KLD = -0.5 * torch.sum(1 + log_var - mu.pow(2) - log_var.exp())\n",
        "    return BCE + KLD"
      ],
      "metadata": {
        "id": "XxbM7XXDlIeF"
      },
      "execution_count": 27,
      "outputs": []
    },
    {
      "cell_type": "code",
      "source": [
        "def train(epoch):\n",
        "    vae.train()\n",
        "    train_loss = 0\n",
        "    for batch_idx, (data, _) in enumerate(train_loader):\n",
        "        if torch.cuda.is_available():\n",
        "          data = data.cuda()\n",
        "        optimizer.zero_grad()\n",
        "        \n",
        "        recon_batch, mu, log_var = vae(data)\n",
        "        loss = loss_function(recon_batch, data, mu, log_var)\n",
        "        \n",
        "        loss.backward()\n",
        "        train_loss += loss.item()\n",
        "        optimizer.step()\n",
        "        \n",
        "        if batch_idx % 100 == 0:\n",
        "            print('Train Epoch: {} [{}/{} ({:.0f}%)]\\tLoss: {:.6f}'.format(\n",
        "                epoch, batch_idx * len(data), len(train_loader.dataset),\n",
        "                100. * batch_idx / len(train_loader), loss.item() / len(data)))\n",
        "    print('====> Epoch: {} Average loss: {:.4f}'.format(epoch, train_loss / len(train_loader.dataset)))"
      ],
      "metadata": {
        "id": "ZiXHdpXHlMxn"
      },
      "execution_count": 28,
      "outputs": []
    },
    {
      "cell_type": "code",
      "source": [
        "def test():\n",
        "    vae.eval()\n",
        "    test_loss= 0\n",
        "    with torch.no_grad():\n",
        "        for data, _ in test_loader:\n",
        "            if torch.cuda.is_available():\n",
        "              data = data.cuda()\n",
        "            recon, mu, log_var = vae(data)\n",
        "            \n",
        "            # sum up batch loss\n",
        "            test_loss += loss_function(recon, data, mu, log_var).item()\n",
        "        \n",
        "    test_loss /= len(test_loader.dataset)\n",
        "    print('====> Test set loss: {:.4f}'.format(test_loss))"
      ],
      "metadata": {
        "id": "Rwn_fCbKlPym"
      },
      "execution_count": 29,
      "outputs": []
    },
    {
      "cell_type": "code",
      "source": [
        "for epoch in range(1, num_epochs + 1):\n",
        "    train(epoch)\n",
        "    test()"
      ],
      "metadata": {
        "colab": {
          "base_uri": "https://localhost:8080/"
        },
        "id": "lmJ7507mlQZH",
        "outputId": "b53f4228-35bb-43a2-c578-a1c2d19582d3"
      },
      "execution_count": 30,
      "outputs": [
        {
          "output_type": "stream",
          "name": "stdout",
          "text": [
            "Train Epoch: 1 [0/60000 (0%)]\tLoss: 545.091016\n",
            "Train Epoch: 1 [10000/60000 (17%)]\tLoss: 190.893789\n",
            "Train Epoch: 1 [20000/60000 (33%)]\tLoss: 167.428906\n",
            "Train Epoch: 1 [30000/60000 (50%)]\tLoss: 171.218184\n",
            "Train Epoch: 1 [40000/60000 (67%)]\tLoss: 168.723809\n",
            "Train Epoch: 1 [50000/60000 (83%)]\tLoss: 161.871689\n",
            "====> Epoch: 1 Average loss: 178.7854\n",
            "====> Test set loss: 161.0679\n",
            "Train Epoch: 2 [0/60000 (0%)]\tLoss: 165.337559\n",
            "Train Epoch: 2 [10000/60000 (17%)]\tLoss: 153.766494\n",
            "Train Epoch: 2 [20000/60000 (33%)]\tLoss: 154.633457\n",
            "Train Epoch: 2 [30000/60000 (50%)]\tLoss: 164.140332\n",
            "Train Epoch: 2 [40000/60000 (67%)]\tLoss: 159.095811\n",
            "Train Epoch: 2 [50000/60000 (83%)]\tLoss: 152.961992\n",
            "====> Epoch: 2 Average loss: 157.8183\n",
            "====> Test set loss: 154.8225\n",
            "Train Epoch: 3 [0/60000 (0%)]\tLoss: 153.219238\n",
            "Train Epoch: 3 [10000/60000 (17%)]\tLoss: 154.658447\n",
            "Train Epoch: 3 [20000/60000 (33%)]\tLoss: 156.197070\n",
            "Train Epoch: 3 [30000/60000 (50%)]\tLoss: 145.482910\n",
            "Train Epoch: 3 [40000/60000 (67%)]\tLoss: 152.150977\n",
            "Train Epoch: 3 [50000/60000 (83%)]\tLoss: 156.577305\n",
            "====> Epoch: 3 Average loss: 153.0740\n",
            "====> Test set loss: 151.5003\n",
            "Train Epoch: 4 [0/60000 (0%)]\tLoss: 152.716455\n",
            "Train Epoch: 4 [10000/60000 (17%)]\tLoss: 149.923701\n",
            "Train Epoch: 4 [20000/60000 (33%)]\tLoss: 150.295566\n",
            "Train Epoch: 4 [30000/60000 (50%)]\tLoss: 145.794707\n",
            "Train Epoch: 4 [40000/60000 (67%)]\tLoss: 152.214531\n",
            "Train Epoch: 4 [50000/60000 (83%)]\tLoss: 142.989551\n",
            "====> Epoch: 4 Average loss: 150.1747\n",
            "====> Test set loss: 149.3206\n",
            "Train Epoch: 5 [0/60000 (0%)]\tLoss: 145.265957\n",
            "Train Epoch: 5 [10000/60000 (17%)]\tLoss: 147.869297\n",
            "Train Epoch: 5 [20000/60000 (33%)]\tLoss: 154.240693\n",
            "Train Epoch: 5 [30000/60000 (50%)]\tLoss: 144.224473\n",
            "Train Epoch: 5 [40000/60000 (67%)]\tLoss: 152.522910\n",
            "Train Epoch: 5 [50000/60000 (83%)]\tLoss: 148.561270\n",
            "====> Epoch: 5 Average loss: 148.2283\n",
            "====> Test set loss: 148.1095\n",
            "Train Epoch: 6 [0/60000 (0%)]\tLoss: 142.352266\n",
            "Train Epoch: 6 [10000/60000 (17%)]\tLoss: 147.902988\n",
            "Train Epoch: 6 [20000/60000 (33%)]\tLoss: 144.184072\n",
            "Train Epoch: 6 [30000/60000 (50%)]\tLoss: 134.860264\n",
            "Train Epoch: 6 [40000/60000 (67%)]\tLoss: 147.147236\n",
            "Train Epoch: 6 [50000/60000 (83%)]\tLoss: 148.704111\n",
            "====> Epoch: 6 Average loss: 146.8781\n",
            "====> Test set loss: 147.0151\n",
            "Train Epoch: 7 [0/60000 (0%)]\tLoss: 143.214766\n",
            "Train Epoch: 7 [10000/60000 (17%)]\tLoss: 156.406582\n",
            "Train Epoch: 7 [20000/60000 (33%)]\tLoss: 143.893320\n",
            "Train Epoch: 7 [30000/60000 (50%)]\tLoss: 137.333740\n",
            "Train Epoch: 7 [40000/60000 (67%)]\tLoss: 143.847568\n",
            "Train Epoch: 7 [50000/60000 (83%)]\tLoss: 148.810391\n",
            "====> Epoch: 7 Average loss: 145.7124\n",
            "====> Test set loss: 146.0712\n",
            "Train Epoch: 8 [0/60000 (0%)]\tLoss: 150.173008\n",
            "Train Epoch: 8 [10000/60000 (17%)]\tLoss: 154.182871\n",
            "Train Epoch: 8 [20000/60000 (33%)]\tLoss: 142.263457\n",
            "Train Epoch: 8 [30000/60000 (50%)]\tLoss: 144.001045\n",
            "Train Epoch: 8 [40000/60000 (67%)]\tLoss: 142.492617\n",
            "Train Epoch: 8 [50000/60000 (83%)]\tLoss: 141.461699\n",
            "====> Epoch: 8 Average loss: 144.8285\n",
            "====> Test set loss: 145.0348\n",
            "Train Epoch: 9 [0/60000 (0%)]\tLoss: 137.092178\n",
            "Train Epoch: 9 [10000/60000 (17%)]\tLoss: 149.908076\n",
            "Train Epoch: 9 [20000/60000 (33%)]\tLoss: 157.672148\n",
            "Train Epoch: 9 [30000/60000 (50%)]\tLoss: 137.365430\n",
            "Train Epoch: 9 [40000/60000 (67%)]\tLoss: 152.344932\n",
            "Train Epoch: 9 [50000/60000 (83%)]\tLoss: 148.612861\n",
            "====> Epoch: 9 Average loss: 144.2143\n",
            "====> Test set loss: 144.2593\n",
            "Train Epoch: 10 [0/60000 (0%)]\tLoss: 147.594541\n",
            "Train Epoch: 10 [10000/60000 (17%)]\tLoss: 143.499824\n",
            "Train Epoch: 10 [20000/60000 (33%)]\tLoss: 147.052461\n",
            "Train Epoch: 10 [30000/60000 (50%)]\tLoss: 141.993965\n",
            "Train Epoch: 10 [40000/60000 (67%)]\tLoss: 149.892002\n",
            "Train Epoch: 10 [50000/60000 (83%)]\tLoss: 145.155059\n",
            "====> Epoch: 10 Average loss: 143.5375\n",
            "====> Test set loss: 144.2963\n",
            "Train Epoch: 11 [0/60000 (0%)]\tLoss: 141.615967\n",
            "Train Epoch: 11 [10000/60000 (17%)]\tLoss: 137.326953\n",
            "Train Epoch: 11 [20000/60000 (33%)]\tLoss: 139.525840\n",
            "Train Epoch: 11 [30000/60000 (50%)]\tLoss: 143.468984\n",
            "Train Epoch: 11 [40000/60000 (67%)]\tLoss: 142.310635\n",
            "Train Epoch: 11 [50000/60000 (83%)]\tLoss: 143.183242\n",
            "====> Epoch: 11 Average loss: 142.9336\n",
            "====> Test set loss: 143.3983\n",
            "Train Epoch: 12 [0/60000 (0%)]\tLoss: 144.471074\n",
            "Train Epoch: 12 [10000/60000 (17%)]\tLoss: 146.239346\n",
            "Train Epoch: 12 [20000/60000 (33%)]\tLoss: 133.411416\n",
            "Train Epoch: 12 [30000/60000 (50%)]\tLoss: 136.050693\n",
            "Train Epoch: 12 [40000/60000 (67%)]\tLoss: 137.197236\n",
            "Train Epoch: 12 [50000/60000 (83%)]\tLoss: 142.639141\n",
            "====> Epoch: 12 Average loss: 142.3501\n",
            "====> Test set loss: 143.2320\n",
            "Train Epoch: 13 [0/60000 (0%)]\tLoss: 137.684209\n",
            "Train Epoch: 13 [10000/60000 (17%)]\tLoss: 141.009648\n",
            "Train Epoch: 13 [20000/60000 (33%)]\tLoss: 139.894971\n",
            "Train Epoch: 13 [30000/60000 (50%)]\tLoss: 146.789736\n",
            "Train Epoch: 13 [40000/60000 (67%)]\tLoss: 137.671416\n",
            "Train Epoch: 13 [50000/60000 (83%)]\tLoss: 143.163643\n",
            "====> Epoch: 13 Average loss: 142.0859\n",
            "====> Test set loss: 142.9645\n",
            "Train Epoch: 14 [0/60000 (0%)]\tLoss: 141.062422\n",
            "Train Epoch: 14 [10000/60000 (17%)]\tLoss: 138.890967\n",
            "Train Epoch: 14 [20000/60000 (33%)]\tLoss: 141.192881\n",
            "Train Epoch: 14 [30000/60000 (50%)]\tLoss: 149.484297\n",
            "Train Epoch: 14 [40000/60000 (67%)]\tLoss: 142.873008\n",
            "Train Epoch: 14 [50000/60000 (83%)]\tLoss: 141.652549\n",
            "====> Epoch: 14 Average loss: 141.8230\n",
            "====> Test set loss: 142.6467\n",
            "Train Epoch: 15 [0/60000 (0%)]\tLoss: 149.115928\n",
            "Train Epoch: 15 [10000/60000 (17%)]\tLoss: 135.411826\n",
            "Train Epoch: 15 [20000/60000 (33%)]\tLoss: 134.810674\n",
            "Train Epoch: 15 [30000/60000 (50%)]\tLoss: 149.688398\n",
            "Train Epoch: 15 [40000/60000 (67%)]\tLoss: 140.879814\n",
            "Train Epoch: 15 [50000/60000 (83%)]\tLoss: 143.315410\n",
            "====> Epoch: 15 Average loss: 141.2697\n",
            "====> Test set loss: 142.8191\n",
            "Train Epoch: 16 [0/60000 (0%)]\tLoss: 140.110654\n",
            "Train Epoch: 16 [10000/60000 (17%)]\tLoss: 140.601885\n",
            "Train Epoch: 16 [20000/60000 (33%)]\tLoss: 144.513730\n",
            "Train Epoch: 16 [30000/60000 (50%)]\tLoss: 147.222979\n",
            "Train Epoch: 16 [40000/60000 (67%)]\tLoss: 137.576533\n",
            "Train Epoch: 16 [50000/60000 (83%)]\tLoss: 151.190664\n",
            "====> Epoch: 16 Average loss: 140.9413\n",
            "====> Test set loss: 141.9648\n",
            "Train Epoch: 17 [0/60000 (0%)]\tLoss: 140.013574\n",
            "Train Epoch: 17 [10000/60000 (17%)]\tLoss: 142.494687\n",
            "Train Epoch: 17 [20000/60000 (33%)]\tLoss: 137.806348\n",
            "Train Epoch: 17 [30000/60000 (50%)]\tLoss: 138.463994\n",
            "Train Epoch: 17 [40000/60000 (67%)]\tLoss: 141.054219\n",
            "Train Epoch: 17 [50000/60000 (83%)]\tLoss: 142.521943\n",
            "====> Epoch: 17 Average loss: 140.6936\n",
            "====> Test set loss: 141.4575\n",
            "Train Epoch: 18 [0/60000 (0%)]\tLoss: 145.088525\n",
            "Train Epoch: 18 [10000/60000 (17%)]\tLoss: 140.625371\n",
            "Train Epoch: 18 [20000/60000 (33%)]\tLoss: 137.488877\n",
            "Train Epoch: 18 [30000/60000 (50%)]\tLoss: 129.947197\n",
            "Train Epoch: 18 [40000/60000 (67%)]\tLoss: 136.691113\n",
            "Train Epoch: 18 [50000/60000 (83%)]\tLoss: 138.573311\n",
            "====> Epoch: 18 Average loss: 140.2696\n",
            "====> Test set loss: 142.0198\n",
            "Train Epoch: 19 [0/60000 (0%)]\tLoss: 143.174668\n",
            "Train Epoch: 19 [10000/60000 (17%)]\tLoss: 139.037090\n",
            "Train Epoch: 19 [20000/60000 (33%)]\tLoss: 141.853350\n",
            "Train Epoch: 19 [30000/60000 (50%)]\tLoss: 134.190449\n",
            "Train Epoch: 19 [40000/60000 (67%)]\tLoss: 130.099053\n",
            "Train Epoch: 19 [50000/60000 (83%)]\tLoss: 146.986514\n",
            "====> Epoch: 19 Average loss: 139.8479\n",
            "====> Test set loss: 140.9215\n",
            "Train Epoch: 20 [0/60000 (0%)]\tLoss: 133.961816\n",
            "Train Epoch: 20 [10000/60000 (17%)]\tLoss: 132.628936\n",
            "Train Epoch: 20 [20000/60000 (33%)]\tLoss: 145.797031\n",
            "Train Epoch: 20 [30000/60000 (50%)]\tLoss: 147.431436\n",
            "Train Epoch: 20 [40000/60000 (67%)]\tLoss: 125.516367\n",
            "Train Epoch: 20 [50000/60000 (83%)]\tLoss: 143.602754\n",
            "====> Epoch: 20 Average loss: 139.8013\n",
            "====> Test set loss: 140.9153\n",
            "Train Epoch: 21 [0/60000 (0%)]\tLoss: 137.531338\n",
            "Train Epoch: 21 [10000/60000 (17%)]\tLoss: 142.573057\n",
            "Train Epoch: 21 [20000/60000 (33%)]\tLoss: 144.233311\n",
            "Train Epoch: 21 [30000/60000 (50%)]\tLoss: 142.553809\n",
            "Train Epoch: 21 [40000/60000 (67%)]\tLoss: 133.596758\n",
            "Train Epoch: 21 [50000/60000 (83%)]\tLoss: 145.040947\n",
            "====> Epoch: 21 Average loss: 139.4066\n",
            "====> Test set loss: 140.3659\n",
            "Train Epoch: 22 [0/60000 (0%)]\tLoss: 139.980771\n",
            "Train Epoch: 22 [10000/60000 (17%)]\tLoss: 134.746328\n",
            "Train Epoch: 22 [20000/60000 (33%)]\tLoss: 144.595449\n",
            "Train Epoch: 22 [30000/60000 (50%)]\tLoss: 133.663809\n",
            "Train Epoch: 22 [40000/60000 (67%)]\tLoss: 140.031152\n",
            "Train Epoch: 22 [50000/60000 (83%)]\tLoss: 142.684316\n",
            "====> Epoch: 22 Average loss: 139.1649\n",
            "====> Test set loss: 140.4763\n",
            "Train Epoch: 23 [0/60000 (0%)]\tLoss: 142.165811\n",
            "Train Epoch: 23 [10000/60000 (17%)]\tLoss: 137.214961\n",
            "Train Epoch: 23 [20000/60000 (33%)]\tLoss: 132.710918\n",
            "Train Epoch: 23 [30000/60000 (50%)]\tLoss: 137.655244\n",
            "Train Epoch: 23 [40000/60000 (67%)]\tLoss: 140.584736\n",
            "Train Epoch: 23 [50000/60000 (83%)]\tLoss: 137.119170\n",
            "====> Epoch: 23 Average loss: 139.2200\n",
            "====> Test set loss: 140.9910\n",
            "Train Epoch: 24 [0/60000 (0%)]\tLoss: 140.528535\n",
            "Train Epoch: 24 [10000/60000 (17%)]\tLoss: 144.974980\n",
            "Train Epoch: 24 [20000/60000 (33%)]\tLoss: 138.360654\n",
            "Train Epoch: 24 [30000/60000 (50%)]\tLoss: 139.987578\n",
            "Train Epoch: 24 [40000/60000 (67%)]\tLoss: 137.426758\n",
            "Train Epoch: 24 [50000/60000 (83%)]\tLoss: 136.024893\n",
            "====> Epoch: 24 Average loss: 138.9658\n",
            "====> Test set loss: 140.3262\n",
            "Train Epoch: 25 [0/60000 (0%)]\tLoss: 128.043799\n",
            "Train Epoch: 25 [10000/60000 (17%)]\tLoss: 137.279102\n",
            "Train Epoch: 25 [20000/60000 (33%)]\tLoss: 139.828174\n",
            "Train Epoch: 25 [30000/60000 (50%)]\tLoss: 140.962383\n",
            "Train Epoch: 25 [40000/60000 (67%)]\tLoss: 137.525986\n",
            "Train Epoch: 25 [50000/60000 (83%)]\tLoss: 125.760664\n",
            "====> Epoch: 25 Average loss: 138.7130\n",
            "====> Test set loss: 139.7830\n",
            "Train Epoch: 26 [0/60000 (0%)]\tLoss: 140.093740\n",
            "Train Epoch: 26 [10000/60000 (17%)]\tLoss: 144.352754\n",
            "Train Epoch: 26 [20000/60000 (33%)]\tLoss: 135.730684\n",
            "Train Epoch: 26 [30000/60000 (50%)]\tLoss: 138.969180\n",
            "Train Epoch: 26 [40000/60000 (67%)]\tLoss: 135.688789\n",
            "Train Epoch: 26 [50000/60000 (83%)]\tLoss: 136.747246\n",
            "====> Epoch: 26 Average loss: 138.5209\n",
            "====> Test set loss: 140.2359\n",
            "Train Epoch: 27 [0/60000 (0%)]\tLoss: 130.557197\n",
            "Train Epoch: 27 [10000/60000 (17%)]\tLoss: 140.634912\n",
            "Train Epoch: 27 [20000/60000 (33%)]\tLoss: 141.778770\n",
            "Train Epoch: 27 [30000/60000 (50%)]\tLoss: 135.545410\n",
            "Train Epoch: 27 [40000/60000 (67%)]\tLoss: 144.394453\n",
            "Train Epoch: 27 [50000/60000 (83%)]\tLoss: 134.250195\n",
            "====> Epoch: 27 Average loss: 138.7293\n",
            "====> Test set loss: 139.6691\n",
            "Train Epoch: 28 [0/60000 (0%)]\tLoss: 139.324082\n",
            "Train Epoch: 28 [10000/60000 (17%)]\tLoss: 133.939961\n",
            "Train Epoch: 28 [20000/60000 (33%)]\tLoss: 138.823867\n",
            "Train Epoch: 28 [30000/60000 (50%)]\tLoss: 144.575000\n",
            "Train Epoch: 28 [40000/60000 (67%)]\tLoss: 144.037695\n",
            "Train Epoch: 28 [50000/60000 (83%)]\tLoss: 138.247285\n",
            "====> Epoch: 28 Average loss: 137.9854\n",
            "====> Test set loss: 139.4628\n",
            "Train Epoch: 29 [0/60000 (0%)]\tLoss: 129.812773\n",
            "Train Epoch: 29 [10000/60000 (17%)]\tLoss: 142.774697\n",
            "Train Epoch: 29 [20000/60000 (33%)]\tLoss: 145.328623\n",
            "Train Epoch: 29 [30000/60000 (50%)]\tLoss: 136.208613\n",
            "Train Epoch: 29 [40000/60000 (67%)]\tLoss: 138.254824\n",
            "Train Epoch: 29 [50000/60000 (83%)]\tLoss: 130.013945\n",
            "====> Epoch: 29 Average loss: 138.0972\n",
            "====> Test set loss: 139.6266\n",
            "Train Epoch: 30 [0/60000 (0%)]\tLoss: 141.829717\n",
            "Train Epoch: 30 [10000/60000 (17%)]\tLoss: 141.535996\n",
            "Train Epoch: 30 [20000/60000 (33%)]\tLoss: 136.998125\n",
            "Train Epoch: 30 [30000/60000 (50%)]\tLoss: 126.959453\n",
            "Train Epoch: 30 [40000/60000 (67%)]\tLoss: 136.565410\n",
            "Train Epoch: 30 [50000/60000 (83%)]\tLoss: 137.182930\n",
            "====> Epoch: 30 Average loss: 137.9104\n",
            "====> Test set loss: 139.5030\n",
            "Train Epoch: 31 [0/60000 (0%)]\tLoss: 143.295840\n",
            "Train Epoch: 31 [10000/60000 (17%)]\tLoss: 137.577881\n",
            "Train Epoch: 31 [20000/60000 (33%)]\tLoss: 139.695684\n",
            "Train Epoch: 31 [30000/60000 (50%)]\tLoss: 139.398438\n",
            "Train Epoch: 31 [40000/60000 (67%)]\tLoss: 146.985889\n",
            "Train Epoch: 31 [50000/60000 (83%)]\tLoss: 140.307686\n",
            "====> Epoch: 31 Average loss: 137.7267\n",
            "====> Test set loss: 139.7863\n",
            "Train Epoch: 32 [0/60000 (0%)]\tLoss: 141.496025\n",
            "Train Epoch: 32 [10000/60000 (17%)]\tLoss: 143.148867\n",
            "Train Epoch: 32 [20000/60000 (33%)]\tLoss: 140.864727\n",
            "Train Epoch: 32 [30000/60000 (50%)]\tLoss: 139.748906\n",
            "Train Epoch: 32 [40000/60000 (67%)]\tLoss: 129.380732\n",
            "Train Epoch: 32 [50000/60000 (83%)]\tLoss: 137.866592\n",
            "====> Epoch: 32 Average loss: 137.5056\n",
            "====> Test set loss: 139.4199\n",
            "Train Epoch: 33 [0/60000 (0%)]\tLoss: 132.661963\n",
            "Train Epoch: 33 [10000/60000 (17%)]\tLoss: 134.992793\n",
            "Train Epoch: 33 [20000/60000 (33%)]\tLoss: 145.265225\n",
            "Train Epoch: 33 [30000/60000 (50%)]\tLoss: 131.231914\n",
            "Train Epoch: 33 [40000/60000 (67%)]\tLoss: 145.527402\n",
            "Train Epoch: 33 [50000/60000 (83%)]\tLoss: 139.361270\n",
            "====> Epoch: 33 Average loss: 137.5481\n",
            "====> Test set loss: 138.9614\n",
            "Train Epoch: 34 [0/60000 (0%)]\tLoss: 130.671143\n",
            "Train Epoch: 34 [10000/60000 (17%)]\tLoss: 134.452725\n",
            "Train Epoch: 34 [20000/60000 (33%)]\tLoss: 147.614375\n",
            "Train Epoch: 34 [30000/60000 (50%)]\tLoss: 128.770059\n",
            "Train Epoch: 34 [40000/60000 (67%)]\tLoss: 133.945146\n",
            "Train Epoch: 34 [50000/60000 (83%)]\tLoss: 125.842764\n",
            "====> Epoch: 34 Average loss: 137.5657\n",
            "====> Test set loss: 139.2203\n",
            "Train Epoch: 35 [0/60000 (0%)]\tLoss: 140.100117\n",
            "Train Epoch: 35 [10000/60000 (17%)]\tLoss: 135.272510\n",
            "Train Epoch: 35 [20000/60000 (33%)]\tLoss: 136.962061\n",
            "Train Epoch: 35 [30000/60000 (50%)]\tLoss: 131.296348\n",
            "Train Epoch: 35 [40000/60000 (67%)]\tLoss: 141.460703\n",
            "Train Epoch: 35 [50000/60000 (83%)]\tLoss: 135.467959\n",
            "====> Epoch: 35 Average loss: 137.3534\n",
            "====> Test set loss: 139.1596\n",
            "Train Epoch: 36 [0/60000 (0%)]\tLoss: 139.548291\n",
            "Train Epoch: 36 [10000/60000 (17%)]\tLoss: 144.036748\n",
            "Train Epoch: 36 [20000/60000 (33%)]\tLoss: 144.063613\n",
            "Train Epoch: 36 [30000/60000 (50%)]\tLoss: 137.954697\n",
            "Train Epoch: 36 [40000/60000 (67%)]\tLoss: 135.828965\n",
            "Train Epoch: 36 [50000/60000 (83%)]\tLoss: 136.717129\n",
            "====> Epoch: 36 Average loss: 137.2752\n",
            "====> Test set loss: 139.2158\n",
            "Train Epoch: 37 [0/60000 (0%)]\tLoss: 142.168447\n",
            "Train Epoch: 37 [10000/60000 (17%)]\tLoss: 139.661543\n",
            "Train Epoch: 37 [20000/60000 (33%)]\tLoss: 139.932842\n",
            "Train Epoch: 37 [30000/60000 (50%)]\tLoss: 138.477393\n",
            "Train Epoch: 37 [40000/60000 (67%)]\tLoss: 141.868477\n",
            "Train Epoch: 37 [50000/60000 (83%)]\tLoss: 136.968125\n",
            "====> Epoch: 37 Average loss: 136.9221\n",
            "====> Test set loss: 139.2300\n",
            "Train Epoch: 38 [0/60000 (0%)]\tLoss: 141.789219\n",
            "Train Epoch: 38 [10000/60000 (17%)]\tLoss: 138.070010\n",
            "Train Epoch: 38 [20000/60000 (33%)]\tLoss: 136.640840\n",
            "Train Epoch: 38 [30000/60000 (50%)]\tLoss: 141.322051\n",
            "Train Epoch: 38 [40000/60000 (67%)]\tLoss: 135.493857\n",
            "Train Epoch: 38 [50000/60000 (83%)]\tLoss: 133.576748\n",
            "====> Epoch: 38 Average loss: 136.8924\n",
            "====> Test set loss: 139.2064\n",
            "Train Epoch: 39 [0/60000 (0%)]\tLoss: 135.239893\n",
            "Train Epoch: 39 [10000/60000 (17%)]\tLoss: 136.117568\n",
            "Train Epoch: 39 [20000/60000 (33%)]\tLoss: 134.004170\n",
            "Train Epoch: 39 [30000/60000 (50%)]\tLoss: 143.988125\n",
            "Train Epoch: 39 [40000/60000 (67%)]\tLoss: 137.739531\n",
            "Train Epoch: 39 [50000/60000 (83%)]\tLoss: 142.666104\n",
            "====> Epoch: 39 Average loss: 136.7561\n",
            "====> Test set loss: 138.7010\n",
            "Train Epoch: 40 [0/60000 (0%)]\tLoss: 140.485752\n",
            "Train Epoch: 40 [10000/60000 (17%)]\tLoss: 139.419688\n",
            "Train Epoch: 40 [20000/60000 (33%)]\tLoss: 141.468545\n",
            "Train Epoch: 40 [30000/60000 (50%)]\tLoss: 135.758691\n",
            "Train Epoch: 40 [40000/60000 (67%)]\tLoss: 134.810352\n",
            "Train Epoch: 40 [50000/60000 (83%)]\tLoss: 135.649453\n",
            "====> Epoch: 40 Average loss: 136.8595\n",
            "====> Test set loss: 139.3698\n",
            "Train Epoch: 41 [0/60000 (0%)]\tLoss: 142.711953\n",
            "Train Epoch: 41 [10000/60000 (17%)]\tLoss: 138.937109\n",
            "Train Epoch: 41 [20000/60000 (33%)]\tLoss: 136.142393\n",
            "Train Epoch: 41 [30000/60000 (50%)]\tLoss: 133.954805\n",
            "Train Epoch: 41 [40000/60000 (67%)]\tLoss: 142.294355\n",
            "Train Epoch: 41 [50000/60000 (83%)]\tLoss: 138.947119\n",
            "====> Epoch: 41 Average loss: 137.1176\n",
            "====> Test set loss: 139.2170\n",
            "Train Epoch: 42 [0/60000 (0%)]\tLoss: 138.908652\n",
            "Train Epoch: 42 [10000/60000 (17%)]\tLoss: 136.137139\n",
            "Train Epoch: 42 [20000/60000 (33%)]\tLoss: 127.870547\n",
            "Train Epoch: 42 [30000/60000 (50%)]\tLoss: 131.025029\n",
            "Train Epoch: 42 [40000/60000 (67%)]\tLoss: 143.462490\n",
            "Train Epoch: 42 [50000/60000 (83%)]\tLoss: 140.405996\n",
            "====> Epoch: 42 Average loss: 136.6325\n",
            "====> Test set loss: 138.2777\n",
            "Train Epoch: 43 [0/60000 (0%)]\tLoss: 142.525322\n",
            "Train Epoch: 43 [10000/60000 (17%)]\tLoss: 132.817109\n",
            "Train Epoch: 43 [20000/60000 (33%)]\tLoss: 140.343740\n",
            "Train Epoch: 43 [30000/60000 (50%)]\tLoss: 133.130068\n",
            "Train Epoch: 43 [40000/60000 (67%)]\tLoss: 139.905430\n",
            "Train Epoch: 43 [50000/60000 (83%)]\tLoss: 145.808730\n",
            "====> Epoch: 43 Average loss: 136.7859\n",
            "====> Test set loss: 138.6258\n",
            "Train Epoch: 44 [0/60000 (0%)]\tLoss: 134.025029\n",
            "Train Epoch: 44 [10000/60000 (17%)]\tLoss: 140.317920\n",
            "Train Epoch: 44 [20000/60000 (33%)]\tLoss: 135.910117\n",
            "Train Epoch: 44 [30000/60000 (50%)]\tLoss: 132.993809\n",
            "Train Epoch: 44 [40000/60000 (67%)]\tLoss: 134.528799\n",
            "Train Epoch: 44 [50000/60000 (83%)]\tLoss: 131.490059\n",
            "====> Epoch: 44 Average loss: 136.4403\n",
            "====> Test set loss: 139.0088\n",
            "Train Epoch: 45 [0/60000 (0%)]\tLoss: 136.085146\n",
            "Train Epoch: 45 [10000/60000 (17%)]\tLoss: 133.514902\n",
            "Train Epoch: 45 [20000/60000 (33%)]\tLoss: 128.742402\n",
            "Train Epoch: 45 [30000/60000 (50%)]\tLoss: 139.481465\n",
            "Train Epoch: 45 [40000/60000 (67%)]\tLoss: 145.295205\n",
            "Train Epoch: 45 [50000/60000 (83%)]\tLoss: 142.329893\n",
            "====> Epoch: 45 Average loss: 136.4657\n",
            "====> Test set loss: 138.6107\n",
            "Train Epoch: 46 [0/60000 (0%)]\tLoss: 130.963066\n",
            "Train Epoch: 46 [10000/60000 (17%)]\tLoss: 139.172080\n",
            "Train Epoch: 46 [20000/60000 (33%)]\tLoss: 139.056436\n",
            "Train Epoch: 46 [30000/60000 (50%)]\tLoss: 136.972031\n",
            "Train Epoch: 46 [40000/60000 (67%)]\tLoss: 129.660527\n",
            "Train Epoch: 46 [50000/60000 (83%)]\tLoss: 136.166816\n",
            "====> Epoch: 46 Average loss: 136.0845\n",
            "====> Test set loss: 138.2688\n",
            "Train Epoch: 47 [0/60000 (0%)]\tLoss: 138.093232\n",
            "Train Epoch: 47 [10000/60000 (17%)]\tLoss: 133.038945\n",
            "Train Epoch: 47 [20000/60000 (33%)]\tLoss: 137.927178\n",
            "Train Epoch: 47 [30000/60000 (50%)]\tLoss: 130.715215\n",
            "Train Epoch: 47 [40000/60000 (67%)]\tLoss: 134.295527\n",
            "Train Epoch: 47 [50000/60000 (83%)]\tLoss: 135.886777\n",
            "====> Epoch: 47 Average loss: 136.2150\n",
            "====> Test set loss: 138.4091\n",
            "Train Epoch: 48 [0/60000 (0%)]\tLoss: 143.338408\n",
            "Train Epoch: 48 [10000/60000 (17%)]\tLoss: 144.587900\n",
            "Train Epoch: 48 [20000/60000 (33%)]\tLoss: 130.893027\n",
            "Train Epoch: 48 [30000/60000 (50%)]\tLoss: 130.593730\n",
            "Train Epoch: 48 [40000/60000 (67%)]\tLoss: 142.827861\n",
            "Train Epoch: 48 [50000/60000 (83%)]\tLoss: 134.115020\n",
            "====> Epoch: 48 Average loss: 136.0535\n",
            "====> Test set loss: 138.6076\n",
            "Train Epoch: 49 [0/60000 (0%)]\tLoss: 140.739629\n",
            "Train Epoch: 49 [10000/60000 (17%)]\tLoss: 132.004092\n",
            "Train Epoch: 49 [20000/60000 (33%)]\tLoss: 140.872441\n",
            "Train Epoch: 49 [30000/60000 (50%)]\tLoss: 134.429551\n",
            "Train Epoch: 49 [40000/60000 (67%)]\tLoss: 143.741279\n",
            "Train Epoch: 49 [50000/60000 (83%)]\tLoss: 127.960010\n",
            "====> Epoch: 49 Average loss: 135.9801\n",
            "====> Test set loss: 138.3031\n",
            "Train Epoch: 50 [0/60000 (0%)]\tLoss: 140.310039\n",
            "Train Epoch: 50 [10000/60000 (17%)]\tLoss: 148.009863\n",
            "Train Epoch: 50 [20000/60000 (33%)]\tLoss: 135.782051\n",
            "Train Epoch: 50 [30000/60000 (50%)]\tLoss: 139.294658\n",
            "Train Epoch: 50 [40000/60000 (67%)]\tLoss: 132.570098\n",
            "Train Epoch: 50 [50000/60000 (83%)]\tLoss: 129.988916\n",
            "====> Epoch: 50 Average loss: 135.7165\n",
            "====> Test set loss: 138.5999\n"
          ]
        }
      ]
    },
    {
      "cell_type": "code",
      "source": [
        "# store ground truth test images\n",
        "test_images_ground_truth, _ = next(iter(test_loader))"
      ],
      "metadata": {
        "id": "hAFYZQdwsacb"
      },
      "execution_count": 32,
      "outputs": []
    },
    {
      "cell_type": "code",
      "source": [
        "## now create an image of estimated images and ground truth\n",
        "# h/t https://stackoverflow.com/questions/66667949/pytorch-mnist-autoencoder-to-learn-10-digit-classification\n",
        "\n",
        "## run first five training images through the encoder\n",
        "### from https://github.com/dataflowr/notebooks/blob/master/HW3/VAE_clustering_empty.ipynb\n",
        "\n",
        "def show(img):\n",
        "    npimg = img.cpu().numpy()\n",
        "    plt.imshow(np.transpose(npimg, (1,2,0)), interpolation='nearest')\n",
        "    plt.suptitle('Test set reconstruction VAE & CovnNet VAE', fontsize=10, y=.67)\n",
        "    plt.axis('off')\n",
        "    plt.show()\n",
        "\n",
        "def plot_reconstruction(vae, n=12):\n",
        "    \n",
        "    #x,_ = next(iter(test_loader))\n",
        "    x = test_images_ground_truth\n",
        "    x = x[:n,:,:,:].to(device)\n",
        "    try:\n",
        "        out, _, _, log_p = vae(x.view(-1, image_size)) \n",
        "    except:\n",
        "        out, _, _ = vae(x.view(-1, image_size))\n",
        "    x_concat = torch.cat([x.view(-1, 1, 28, 28), out.view(-1, 1, 28, 28)], dim=0)\n",
        "    out_grid = torchvision.utils.make_grid(x_concat, nrow=12)#.cpu().data\n",
        "    show(out_grid)\n",
        "    print(x_concat.size())\n",
        "\n",
        "plot_reconstruction(vae)"
      ],
      "metadata": {
        "colab": {
          "base_uri": "https://localhost:8080/",
          "height": 181
        },
        "id": "7Z7qqh5FlXu6",
        "outputId": "fcfcaf9c-2b9e-41e8-aec7-29e4a9b91533"
      },
      "execution_count": 39,
      "outputs": [
        {
          "output_type": "display_data",
          "data": {
            "text/plain": [
              "<Figure size 640x480 with 1 Axes>"
            ],
            "image/png": "[encoded data removed]"
          },
          "metadata": {}
        },
        {
          "output_type": "stream",
          "name": "stdout",
          "text": [
            "torch.Size([24, 1, 28, 28])\n"
          ]
        }
      ]
    },
    {
      "cell_type": "code",
      "source": [
        "## now create an image of estimated images and ground truth\n",
        "# h/t https://stackoverflow.com/questions/66667949/pytorch-mnist-autoencoder-to-learn-10-digit-classification\n",
        "\n",
        "## run first five training images through the encoder\n",
        "### from https://github.com/dataflowr/notebooks/blob/master/HW3/VAE_clustering_empty.ipynb\n",
        "\n",
        "def show(img):\n",
        "    npimg = img.cpu().numpy()\n",
        "    plt.imshow(np.transpose(npimg, (1,2,0)), interpolation='nearest')\n",
        "    plt.suptitle('Test set reconstruction VAE & ConvNet VAE', fontsize=10, y=.67)\n",
        "    plt.axis('off')\n",
        "    plt.show()\n",
        "\n",
        "def plot_reconstruction(vae, n=12):\n",
        "    \n",
        "    x = test_images_ground_truth\n",
        "    x = x[:n,:,:,:].to(device)\n",
        "    print(\"Ground truth images reformatted are of dimension\", x.size())\n",
        "    try:\n",
        "        out, _, _, log_p = vae(x.view(-1, image_size)) \n",
        "    except:\n",
        "        out, _, _ = vae(x.view(-1, image_size))\n",
        "    x_concat = torch.cat([x.view(-1, 1, 28, 28), out.view(-1, 1, 28, 28)], dim=0)\n",
        "    print(\"Concatenated object containing both ground truth & generic VAE is of size\", out.size())\n",
        "    ##\n",
        "    out, mu, logVAR = net(x)\n",
        "    \n",
        "    \n",
        "    x_concat = torch.cat([x_concat, out.view(-1, 1, 28, 28)], dim=0)\n",
        "    print(\"Concatenated object also containing ConvNet VAE is of size\", x_concat.size())\n",
        "\n",
        "    print(out.size())\n",
        "    print(out.type())\n",
        "    ##\n",
        "    out_grid = torchvision.utils.make_grid(x_concat, nrow=12)#.cpu().data\n",
        "    show(out_grid)\n",
        "    print(x_concat.size())\n",
        "\n",
        "plot_reconstruction(vae)"
      ],
      "metadata": {
        "colab": {
          "base_uri": "https://localhost:8080/",
          "height": 291
        },
        "id": "dAbGnY4mxOKk",
        "outputId": "48f4232d-a335-4092-ffbb-35e828c1f757"
      },
      "execution_count": 62,
      "outputs": [
        {
          "output_type": "stream",
          "name": "stdout",
          "text": [
            "Ground truth images reformatted are of dimension torch.Size([12, 1, 28, 28])\n",
            "Concatenated object containing both ground truth & generic VAE is of size torch.Size([12, 784])\n",
            "Concatenated object also containing ConvNet VAE is of size torch.Size([36, 1, 28, 28])\n",
            "torch.Size([12, 1, 28, 28])\n",
            "torch.FloatTensor\n"
          ]
        },
        {
          "output_type": "display_data",
          "data": {
            "text/plain": [
              "<Figure size 640x480 with 1 Axes>"
            ],
            "image/png": "[encoded data removed]"
          },
          "metadata": {}
        },
        {
          "output_type": "stream",
          "name": "stdout",
          "text": [
            "torch.Size([36, 1, 28, 28])\n"
          ]
        }
      ]
    },
    {
      "cell_type": "code",
      "source": [
        "x = test_images_ground_truth\n",
        "print(x.size())\n",
        "\n",
        "\n",
        "#out, _, _ = net(x.view(-1, image_size))"
      ],
      "metadata": {
        "colab": {
          "base_uri": "https://localhost:8080/"
        },
        "id": "gWUsU-KBxley",
        "outputId": "033312ca-0728-4ab7-a52e-6e78ea82f006"
      },
      "execution_count": 46,
      "outputs": [
        {
          "output_type": "stream",
          "name": "stdout",
          "text": [
            "torch.Size([100, 1, 28, 28])\n"
          ]
        }
      ]
    },
    {
      "cell_type": "markdown",
      "source": [
        "prev\n"
      ],
      "metadata": {
        "id": "j3AWs4yCtc_8"
      }
    },
    {
      "cell_type": "code",
      "source": [
        "\"\"\"\n",
        "The following part takes a random image from test loader to feed into the VAE.\n",
        "Both the original image and generated image from the distribution are shown.\n",
        "\"\"\"\n",
        "\n",
        "import matplotlib.pyplot as plt\n",
        "import numpy as np\n",
        "import random\n",
        "\n",
        "net.eval()\n",
        "with torch.no_grad():\n",
        "    for data in random.sample(list(test_loader), 1):\n",
        "        imgs, _ = data\n",
        "        imgs = imgs.to(device)\n",
        "        print(imgs.type())\n",
        "        print(imgs.size())\n",
        "\n",
        "\n",
        "        img = np.transpose(imgs[0].cpu().numpy(), [1,2,0])\n",
        "        #plt.subplot(121)\n",
        "        #plt.imshow(np.squeeze(img))\n",
        "        out, mu, logVAR = net(imgs)\n",
        "        print(out.__class__)\n",
        "        print(out.size())\n",
        "        outimg = np.transpose(out[0].cpu().numpy(), [1,2,0])\n",
        "        print(outimg.__class__)\n",
        "\n",
        "        #plt.subplot(122)\n",
        "        #plt.imshow(np.squeeze(outimg))"
      ],
      "metadata": {
        "colab": {
          "base_uri": "https://localhost:8080/"
        },
        "id": "DlIL1AWdlcfj",
        "outputId": "f92424f9-dc0d-4cb7-d0ae-df28410a8777"
      },
      "execution_count": 54,
      "outputs": [
        {
          "output_type": "stream",
          "name": "stdout",
          "text": [
            "torch.FloatTensor\n",
            "torch.Size([100, 1, 28, 28])\n",
            "<class 'torch.Tensor'>\n",
            "torch.Size([100, 1, 28, 28])\n",
            "<class 'numpy.ndarray'>\n"
          ]
        }
      ]
    },
    {
      "cell_type": "code",
      "source": [
        "2+2"
      ],
      "metadata": {
        "colab": {
          "base_uri": "https://localhost:8080/"
        },
        "id": "_i1kaPryuJlX",
        "outputId": "b901b601-bf47-489f-a2cb-1e943b4cb4c7"
      },
      "execution_count": 34,
      "outputs": [
        {
          "output_type": "execute_result",
          "data": {
            "text/plain": [
              "4"
            ]
          },
          "metadata": {},
          "execution_count": 34
        }
      ]
    },
    {
      "cell_type": "code",
      "source": [],
      "metadata": {
        "id": "6MB01CZZuKKj"
      },
      "execution_count": null,
      "outputs": []
    }
  ],
  "metadata": {
    "kernelspec": {
      "display_name": "Python 3",
      "language": "python",
      "name": "python3"
    },
    "language_info": {
      "codemirror_mode": {
        "name": "ipython",
        "version": 3
      },
      "file_extension": ".py",
      "mimetype": "text/x-python",
      "name": "python",
      "nbconvert_exporter": "python",
      "pygments_lexer": "ipython3",
      "version": "3.7.4"
    },
    "colab": {
      "provenance": [],
      "include_colab_link": true
    }
  },
  "nbformat": 4,
  "nbformat_minor": 0
}