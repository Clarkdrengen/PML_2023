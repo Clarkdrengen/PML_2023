{
  "cells": [
    {
      "cell_type": "markdown",
      "metadata": {
        "id": "view-in-github",
        "colab_type": "text"
      },
      "source": [
        "<a href=\"https://colab.research.google.com/github/Clarkdrengen/PML_2023/blob/main/pytorch-mnist-VAE.ipynb\" target=\"_parent\"><img src=\"https://colab.research.google.com/assets/colab-badge.svg\" alt=\"Open In Colab\"/></a>"
      ]
    },
    {
      "cell_type": "code",
      "execution_count": 1,
      "metadata": {
        "id": "CD77VzBXCVVj",
        "colab": {
          "base_uri": "https://localhost:8080/"
        },
        "outputId": "697cec5c-063c-49e1-cf41-bc4a4fdc8d67"
      },
      "outputs": [
        {
          "output_type": "stream",
          "name": "stdout",
          "text": [
            "Downloading http://yann.lecun.com/exdb/mnist/train-images-idx3-ubyte.gz\n",
            "Downloading http://yann.lecun.com/exdb/mnist/train-images-idx3-ubyte.gz to ./mnist_data/MNIST/raw/train-images-idx3-ubyte.gz\n"
          ]
        },
        {
          "output_type": "stream",
          "name": "stderr",
          "text": [
            "100%|██████████| 9912422/9912422 [00:00<00:00, 214882656.41it/s]"
          ]
        },
        {
          "output_type": "stream",
          "name": "stdout",
          "text": [
            "Extracting ./mnist_data/MNIST/raw/train-images-idx3-ubyte.gz to ./mnist_data/MNIST/raw\n"
          ]
        },
        {
          "output_type": "stream",
          "name": "stderr",
          "text": [
            "\n"
          ]
        },
        {
          "output_type": "stream",
          "name": "stdout",
          "text": [
            "\n",
            "Downloading http://yann.lecun.com/exdb/mnist/train-labels-idx1-ubyte.gz\n",
            "Downloading http://yann.lecun.com/exdb/mnist/train-labels-idx1-ubyte.gz to ./mnist_data/MNIST/raw/train-labels-idx1-ubyte.gz\n"
          ]
        },
        {
          "output_type": "stream",
          "name": "stderr",
          "text": [
            "100%|██████████| 28881/28881 [00:00<00:00, 110525268.09it/s]\n"
          ]
        },
        {
          "output_type": "stream",
          "name": "stdout",
          "text": [
            "Extracting ./mnist_data/MNIST/raw/train-labels-idx1-ubyte.gz to ./mnist_data/MNIST/raw\n",
            "\n",
            "Downloading http://yann.lecun.com/exdb/mnist/t10k-images-idx3-ubyte.gz\n",
            "Downloading http://yann.lecun.com/exdb/mnist/t10k-images-idx3-ubyte.gz to ./mnist_data/MNIST/raw/t10k-images-idx3-ubyte.gz\n"
          ]
        },
        {
          "output_type": "stream",
          "name": "stderr",
          "text": [
            "100%|██████████| 1648877/1648877 [00:00<00:00, 69512733.78it/s]"
          ]
        },
        {
          "output_type": "stream",
          "name": "stdout",
          "text": [
            "Extracting ./mnist_data/MNIST/raw/t10k-images-idx3-ubyte.gz to ./mnist_data/MNIST/raw\n"
          ]
        },
        {
          "output_type": "stream",
          "name": "stderr",
          "text": [
            "\n"
          ]
        },
        {
          "output_type": "stream",
          "name": "stdout",
          "text": [
            "\n",
            "Downloading http://yann.lecun.com/exdb/mnist/t10k-labels-idx1-ubyte.gz\n",
            "Downloading http://yann.lecun.com/exdb/mnist/t10k-labels-idx1-ubyte.gz to ./mnist_data/MNIST/raw/t10k-labels-idx1-ubyte.gz\n"
          ]
        },
        {
          "output_type": "stream",
          "name": "stderr",
          "text": [
            "100%|██████████| 4542/4542 [00:00<00:00, 14586928.61it/s]\n"
          ]
        },
        {
          "output_type": "stream",
          "name": "stdout",
          "text": [
            "Extracting ./mnist_data/MNIST/raw/t10k-labels-idx1-ubyte.gz to ./mnist_data/MNIST/raw\n",
            "\n"
          ]
        }
      ],
      "source": [
        "# prerequisites\n",
        "import torch\n",
        "import torch.nn as nn\n",
        "import torch.nn.functional as F\n",
        "import torch.optim as optim\n",
        "import torchvision\n",
        "from torchvision import datasets, transforms\n",
        "from torch.autograd import Variable\n",
        "from torchvision.utils import save_image\n",
        "import numpy as np\n",
        "\n",
        "bs = 100\n",
        "# MNIST Dataset\n",
        "train_dataset = datasets.MNIST(root='./mnist_data/', train=True, transform=transforms.ToTensor(), download=True)\n",
        "test_dataset = datasets.MNIST(root='./mnist_data/', train=False, transform=transforms.ToTensor(), download=False)\n",
        "\n",
        "# Data Loader (Input Pipeline)\n",
        "train_loader = torch.utils.data.DataLoader(dataset=train_dataset, batch_size=bs, shuffle=True)\n",
        "test_loader = torch.utils.data.DataLoader(dataset=test_dataset, batch_size=bs, shuffle=False)"
      ]
    },
    {
      "cell_type": "code",
      "source": [
        "# Device configuration\n",
        "device = torch.device('cuda' if torch.cuda.is_available() else 'cpu')"
      ],
      "metadata": {
        "id": "10bPJRoHuyRw"
      },
      "execution_count": 2,
      "outputs": []
    },
    {
      "cell_type": "code",
      "source": [
        "# Hyper-parameters\n",
        "image_size = 784\n",
        "#h_dim = 400\n",
        "#z_dim = 20\n",
        "num_epochs = 10#50\n",
        "x_dim=784, \n",
        "h_dim1= 512, \n",
        "h_dim2=256, \n",
        "z_dim=2\n",
        "#learning_rate = 1e-3\n"
      ],
      "metadata": {
        "id": "0hOOO4cSvEe_"
      },
      "execution_count": 3,
      "outputs": []
    },
    {
      "cell_type": "code",
      "execution_count": 4,
      "metadata": {
        "id": "w_QfmQfFCVVm"
      },
      "outputs": [],
      "source": [
        "class VAE(nn.Module):\n",
        "    def __init__(self, x_dim, h_dim1, h_dim2, z_dim):\n",
        "        super(VAE, self).__init__()\n",
        "        \n",
        "        # encoder part\n",
        "        self.fc1 = nn.Linear(x_dim, h_dim1)\n",
        "        self.fc2 = nn.Linear(h_dim1, h_dim2)\n",
        "        self.fc31 = nn.Linear(h_dim2, z_dim)\n",
        "        self.fc32 = nn.Linear(h_dim2, z_dim)\n",
        "        # decoder part\n",
        "        self.fc4 = nn.Linear(z_dim, h_dim2)\n",
        "        self.fc5 = nn.Linear(h_dim2, h_dim1)\n",
        "        self.fc6 = nn.Linear(h_dim1, x_dim)\n",
        "        \n",
        "    def encoder(self, x):\n",
        "        h = F.relu(self.fc1(x))\n",
        "        h = F.relu(self.fc2(h))\n",
        "        return self.fc31(h), self.fc32(h) # mu, log_var\n",
        "    \n",
        "    def sampling(self, mu, log_var):\n",
        "        std = torch.exp(0.5*log_var)\n",
        "        eps = torch.randn_like(std)\n",
        "        return eps.mul(std).add_(mu) # return z sample\n",
        "        \n",
        "    def decoder(self, z):\n",
        "        h = F.relu(self.fc4(z))\n",
        "        h = F.relu(self.fc5(h))\n",
        "        return F.sigmoid(self.fc6(h)) \n",
        "    \n",
        "    def forward(self, x):\n",
        "        mu, log_var = self.encoder(x.view(-1, 784))\n",
        "        z = self.sampling(mu, log_var)\n",
        "        return self.decoder(z), mu, log_var\n",
        "\n",
        "# build model\n",
        "#vae = VAE(x_dim=image_size , h_dim1= 512, h_dim2=256, z_dim=2)\n",
        "vae = VAE(x_dim=image_size , h_dim1= 512, h_dim2=256, z_dim=z_dim)\n",
        "if torch.cuda.is_available():\n",
        "    vae.cuda()"
      ]
    },
    {
      "cell_type": "code",
      "execution_count": 5,
      "metadata": {
        "colab": {
          "base_uri": "https://localhost:8080/"
        },
        "id": "tpDxsTKbCVVn",
        "outputId": "5fd112ec-5942-4ccf-8580-ba38b01e1181"
      },
      "outputs": [
        {
          "output_type": "execute_result",
          "data": {
            "text/plain": [
              "VAE(\n",
              "  (fc1): Linear(in_features=784, out_features=512, bias=True)\n",
              "  (fc2): Linear(in_features=512, out_features=256, bias=True)\n",
              "  (fc31): Linear(in_features=256, out_features=2, bias=True)\n",
              "  (fc32): Linear(in_features=256, out_features=2, bias=True)\n",
              "  (fc4): Linear(in_features=2, out_features=256, bias=True)\n",
              "  (fc5): Linear(in_features=256, out_features=512, bias=True)\n",
              "  (fc6): Linear(in_features=512, out_features=784, bias=True)\n",
              ")"
            ]
          },
          "metadata": {},
          "execution_count": 5
        }
      ],
      "source": [
        "vae"
      ]
    },
    {
      "cell_type": "code",
      "execution_count": 6,
      "metadata": {
        "id": "57_yzNE3CVVo"
      },
      "outputs": [],
      "source": [
        "optimizer = optim.Adam(vae.parameters())\n",
        "# return reconstruction error + KL divergence losses\n",
        "def loss_function(recon_x, x, mu, log_var):\n",
        "    BCE = F.binary_cross_entropy(recon_x, x.view(-1, 784), reduction='sum')\n",
        "    KLD = -0.5 * torch.sum(1 + log_var - mu.pow(2) - log_var.exp())\n",
        "    return BCE + KLD"
      ]
    },
    {
      "cell_type": "code",
      "execution_count": 7,
      "metadata": {
        "id": "-peubnfICVVo"
      },
      "outputs": [],
      "source": [
        "def train(epoch):\n",
        "    vae.train()\n",
        "    train_loss = 0\n",
        "    for batch_idx, (data, _) in enumerate(train_loader):\n",
        "        if torch.cuda.is_available():\n",
        "          data = data.cuda()\n",
        "        optimizer.zero_grad()\n",
        "        \n",
        "        recon_batch, mu, log_var = vae(data)\n",
        "        loss = loss_function(recon_batch, data, mu, log_var)\n",
        "        \n",
        "        loss.backward()\n",
        "        train_loss += loss.item()\n",
        "        optimizer.step()\n",
        "        \n",
        "        if batch_idx % 100 == 0:\n",
        "            print('Train Epoch: {} [{}/{} ({:.0f}%)]\\tLoss: {:.6f}'.format(\n",
        "                epoch, batch_idx * len(data), len(train_loader.dataset),\n",
        "                100. * batch_idx / len(train_loader), loss.item() / len(data)))\n",
        "    print('====> Epoch: {} Average loss: {:.4f}'.format(epoch, train_loss / len(train_loader.dataset)))"
      ]
    },
    {
      "cell_type": "code",
      "execution_count": 8,
      "metadata": {
        "id": "uhEPsQmSCVVo"
      },
      "outputs": [],
      "source": [
        "def test():\n",
        "    vae.eval()\n",
        "    test_loss= 0\n",
        "    with torch.no_grad():\n",
        "        for data, _ in test_loader:\n",
        "            if torch.cuda.is_available():\n",
        "              data = data.cuda()\n",
        "            recon, mu, log_var = vae(data)\n",
        "            \n",
        "            # sum up batch loss\n",
        "            test_loss += loss_function(recon, data, mu, log_var).item()\n",
        "        \n",
        "    test_loss /= len(test_loader.dataset)\n",
        "    print('====> Test set loss: {:.4f}'.format(test_loss))"
      ]
    },
    {
      "cell_type": "code",
      "source": [
        "device"
      ],
      "metadata": {
        "colab": {
          "base_uri": "https://localhost:8080/"
        },
        "id": "5vknXrgeRgwA",
        "outputId": "33fe8732-422c-41a7-c466-4869b65cd6a9"
      },
      "execution_count": 9,
      "outputs": [
        {
          "output_type": "execute_result",
          "data": {
            "text/plain": [
              "device(type='cuda')"
            ]
          },
          "metadata": {},
          "execution_count": 9
        }
      ]
    },
    {
      "cell_type": "code",
      "execution_count": 10,
      "metadata": {
        "scrolled": true,
        "colab": {
          "base_uri": "https://localhost:8080/"
        },
        "id": "R_kXSrxoCVVp",
        "outputId": "2cbb67bf-a511-4698-d970-f24d99fa58cd"
      },
      "outputs": [
        {
          "output_type": "stream",
          "name": "stdout",
          "text": [
            "Train Epoch: 1 [0/60000 (0%)]\tLoss: 543.514219\n",
            "Train Epoch: 1 [10000/60000 (17%)]\tLoss: 184.934023\n",
            "Train Epoch: 1 [20000/60000 (33%)]\tLoss: 181.192988\n",
            "Train Epoch: 1 [30000/60000 (50%)]\tLoss: 172.980918\n",
            "Train Epoch: 1 [40000/60000 (67%)]\tLoss: 171.309590\n",
            "Train Epoch: 1 [50000/60000 (83%)]\tLoss: 163.885645\n",
            "====> Epoch: 1 Average loss: 179.5235\n",
            "====> Test set loss: 162.3471\n",
            "Train Epoch: 2 [0/60000 (0%)]\tLoss: 154.259033\n",
            "Train Epoch: 2 [10000/60000 (17%)]\tLoss: 154.631699\n",
            "Train Epoch: 2 [20000/60000 (33%)]\tLoss: 168.192773\n",
            "Train Epoch: 2 [30000/60000 (50%)]\tLoss: 155.241777\n",
            "Train Epoch: 2 [40000/60000 (67%)]\tLoss: 154.806064\n",
            "Train Epoch: 2 [50000/60000 (83%)]\tLoss: 147.451934\n",
            "====> Epoch: 2 Average loss: 157.9057\n",
            "====> Test set loss: 155.2329\n",
            "Train Epoch: 3 [0/60000 (0%)]\tLoss: 156.103516\n",
            "Train Epoch: 3 [10000/60000 (17%)]\tLoss: 153.689844\n",
            "Train Epoch: 3 [20000/60000 (33%)]\tLoss: 154.592080\n",
            "Train Epoch: 3 [30000/60000 (50%)]\tLoss: 155.289639\n",
            "Train Epoch: 3 [40000/60000 (67%)]\tLoss: 146.106328\n",
            "Train Epoch: 3 [50000/60000 (83%)]\tLoss: 157.115732\n",
            "====> Epoch: 3 Average loss: 152.4764\n",
            "====> Test set loss: 151.4530\n",
            "Train Epoch: 4 [0/60000 (0%)]\tLoss: 150.584287\n",
            "Train Epoch: 4 [10000/60000 (17%)]\tLoss: 151.461982\n",
            "Train Epoch: 4 [20000/60000 (33%)]\tLoss: 150.639854\n",
            "Train Epoch: 4 [30000/60000 (50%)]\tLoss: 152.084883\n",
            "Train Epoch: 4 [40000/60000 (67%)]\tLoss: 147.471465\n",
            "Train Epoch: 4 [50000/60000 (83%)]\tLoss: 147.145254\n",
            "====> Epoch: 4 Average loss: 149.2308\n",
            "====> Test set loss: 149.1371\n",
            "Train Epoch: 5 [0/60000 (0%)]\tLoss: 145.920811\n",
            "Train Epoch: 5 [10000/60000 (17%)]\tLoss: 151.659502\n",
            "Train Epoch: 5 [20000/60000 (33%)]\tLoss: 149.521611\n",
            "Train Epoch: 5 [30000/60000 (50%)]\tLoss: 148.661475\n",
            "Train Epoch: 5 [40000/60000 (67%)]\tLoss: 150.474229\n",
            "Train Epoch: 5 [50000/60000 (83%)]\tLoss: 146.197607\n",
            "====> Epoch: 5 Average loss: 147.0081\n",
            "====> Test set loss: 146.9236\n",
            "Train Epoch: 6 [0/60000 (0%)]\tLoss: 141.596846\n",
            "Train Epoch: 6 [10000/60000 (17%)]\tLoss: 150.554092\n",
            "Train Epoch: 6 [20000/60000 (33%)]\tLoss: 144.134424\n",
            "Train Epoch: 6 [30000/60000 (50%)]\tLoss: 138.254023\n",
            "Train Epoch: 6 [40000/60000 (67%)]\tLoss: 148.428027\n",
            "Train Epoch: 6 [50000/60000 (83%)]\tLoss: 144.396455\n",
            "====> Epoch: 6 Average loss: 145.4253\n",
            "====> Test set loss: 145.4634\n",
            "Train Epoch: 7 [0/60000 (0%)]\tLoss: 144.950977\n",
            "Train Epoch: 7 [10000/60000 (17%)]\tLoss: 141.556494\n",
            "Train Epoch: 7 [20000/60000 (33%)]\tLoss: 149.203506\n",
            "Train Epoch: 7 [30000/60000 (50%)]\tLoss: 142.510234\n",
            "Train Epoch: 7 [40000/60000 (67%)]\tLoss: 140.729980\n",
            "Train Epoch: 7 [50000/60000 (83%)]\tLoss: 140.352334\n",
            "====> Epoch: 7 Average loss: 144.1950\n",
            "====> Test set loss: 145.0419\n",
            "Train Epoch: 8 [0/60000 (0%)]\tLoss: 143.410127\n",
            "Train Epoch: 8 [10000/60000 (17%)]\tLoss: 144.982285\n",
            "Train Epoch: 8 [20000/60000 (33%)]\tLoss: 139.313164\n",
            "Train Epoch: 8 [30000/60000 (50%)]\tLoss: 148.503535\n",
            "Train Epoch: 8 [40000/60000 (67%)]\tLoss: 145.371309\n",
            "Train Epoch: 8 [50000/60000 (83%)]\tLoss: 144.669092\n",
            "====> Epoch: 8 Average loss: 143.3389\n",
            "====> Test set loss: 143.7570\n",
            "Train Epoch: 9 [0/60000 (0%)]\tLoss: 150.689482\n",
            "Train Epoch: 9 [10000/60000 (17%)]\tLoss: 139.566865\n",
            "Train Epoch: 9 [20000/60000 (33%)]\tLoss: 142.025703\n",
            "Train Epoch: 9 [30000/60000 (50%)]\tLoss: 136.855791\n",
            "Train Epoch: 9 [40000/60000 (67%)]\tLoss: 138.712529\n",
            "Train Epoch: 9 [50000/60000 (83%)]\tLoss: 140.364463\n",
            "====> Epoch: 9 Average loss: 142.5710\n",
            "====> Test set loss: 143.2550\n",
            "Train Epoch: 10 [0/60000 (0%)]\tLoss: 134.853828\n",
            "Train Epoch: 10 [10000/60000 (17%)]\tLoss: 145.316592\n",
            "Train Epoch: 10 [20000/60000 (33%)]\tLoss: 145.734824\n",
            "Train Epoch: 10 [30000/60000 (50%)]\tLoss: 138.758770\n",
            "Train Epoch: 10 [40000/60000 (67%)]\tLoss: 131.026377\n",
            "Train Epoch: 10 [50000/60000 (83%)]\tLoss: 142.803604\n",
            "====> Epoch: 10 Average loss: 142.0618\n",
            "====> Test set loss: 142.6795\n"
          ]
        }
      ],
      "source": [
        "for epoch in range(1, num_epochs + 1):\n",
        "    train(epoch)\n",
        "    test()"
      ]
    },
    {
      "cell_type": "code",
      "source": [
        "import matplotlib.pyplot as plt\n",
        "device = torch.device(\"cuda:0\" if torch.cuda.is_available() else \"cpu\")"
      ],
      "metadata": {
        "id": "pctjC7qfSyjw"
      },
      "execution_count": 11,
      "outputs": []
    },
    {
      "cell_type": "code",
      "execution_count": 12,
      "metadata": {
        "colab": {
          "base_uri": "https://localhost:8080/",
          "height": 466
        },
        "id": "SUKR-O7eCVVp",
        "outputId": "743f475e-c203-4201-8960-2a10acbcf67e"
      },
      "outputs": [
        {
          "output_type": "stream",
          "name": "stdout",
          "text": [
            "<class 'torch.Tensor'>\n",
            "torch.Size([64, 784])\n"
          ]
        },
        {
          "output_type": "display_data",
          "data": {
            "text/plain": [
              "<Figure size 640x480 with 1 Axes>"
            ],
            "image/png": "[encoded data removed]"
          },
          "metadata": {}
        }
      ],
      "source": [
        "with torch.no_grad():\n",
        "    #z = torch.randn(64, 2).cuda()\n",
        "    z = torch.randn(64, 2).to(device)\n",
        "    #sample = vae.decoder(z).cuda()\n",
        "    sample = vae.decoder(z).to(device)\n",
        "    print(sample.__class__)\n",
        "    print(sample.size())\n",
        "\n",
        "    sample = sample.cpu() # use .cpu().numpy() to move off the GPU ## NOTE: moving to numpy is redundant and unhelpful \n",
        "    image = sample[0].reshape(28,28)    # shows the first of 64 randimly generated pictures\n",
        "    plt.imshow(image, cmap=\"gray\")\n",
        "  \n",
        "\n",
        "    #plt.imshow(sample[0].reshape(28,28), cmap=\"gray\")\n",
        "    #save_image(sample.view(64, 1, 28, 28), './samples/sample_' + '.png')"
      ]
    },
    {
      "cell_type": "code",
      "source": [
        "#plt.imshow(sample[0].reshape(28,28).cpu().numpy().reshape(28,28), cmap=\"gray\")\n",
        "\n",
        "images = sample[:5].reshape((-1, 28, 28))  # se\n",
        "\n",
        "fig, axes = plt.subplots(nrows=1, ncols=5)  # create a 4x4 grid of subplots\n",
        "for i, ax in enumerate(axes.flat):\n",
        "    ax.imshow(images[i], cmap='gray')  # display image on the current subplot\n",
        "\n",
        "[axi.set_axis_off() for axi in axes.ravel()] # kill axes h/t https://stackoverflow.com/questions/25862026/turn-off-axes-in-subplots\n",
        "fig.suptitle('Awesome title', fontsize=10, y=.65) # awesome title h/t https://www.geeksforgeeks.org/how-to-set-a-single-main-title-for-all-the-subplots-in-matplotlib/\n",
        "plt.show()"
      ],
      "metadata": {
        "colab": {
          "base_uri": "https://localhost:8080/",
          "height": 154
        },
        "id": "3v31ghJVWMqK",
        "outputId": "28f61fec-efea-497f-89f9-a03250c1f284"
      },
      "execution_count": 13,
      "outputs": [
        {
          "output_type": "display_data",
          "data": {
            "text/plain": [
              "<Figure size 640x480 with 5 Axes>"
            ],
            "image/png": "[encoded data removed]"
          },
          "metadata": {}
        }
      ]
    },
    {
      "cell_type": "code",
      "source": [
        "# store ground truth test images\n",
        "test_images_ground_truth, _ = next(iter(test_loader))"
      ],
      "metadata": {
        "id": "v1vyCPZbiLit"
      },
      "execution_count": 24,
      "outputs": []
    },
    {
      "cell_type": "code",
      "source": [
        "## now create an image of estimated images and ground truth\n",
        "# h/t https://stackoverflow.com/questions/66667949/pytorch-mnist-autoencoder-to-learn-10-digit-classification\n",
        "\n",
        "## run first five training images through the encoder\n",
        "### from https://github.com/dataflowr/notebooks/blob/master/HW3/VAE_clustering_empty.ipynb\n",
        "\n",
        "def show(img):\n",
        "    npimg = img.cpu().numpy()\n",
        "    plt.imshow(np.transpose(npimg, (1,2,0)), interpolation='nearest')\n",
        "    plt.suptitle('Test set with reconstruction for z_dim=2', fontsize=10, y=.67)\n",
        "    plt.axis('off')\n",
        "    plt.show()\n",
        "\n",
        "def plot_reconstruction(vae, n=12):\n",
        "    \n",
        "    #x,_ = next(iter(test_loader))\n",
        "    x = test_images_ground_truth\n",
        "    x = x[:n,:,:,:].to(device)\n",
        "    try:\n",
        "        out, _, _, log_p = vae(x.view(-1, image_size)) \n",
        "    except:\n",
        "        out, _, _ = vae(x.view(-1, image_size))\n",
        "    print(x.size()) \n",
        "    x_concat = torch.cat([x.view(-1, 1, 28, 28), out.view(-1, 1, 28, 28)], dim=0)\n",
        "    out_grid = torchvision.utils.make_grid(x_concat, nrow=12)#.cpu().data\n",
        "    show(out_grid)\n",
        "\n",
        "plot_reconstruction(vae)"
      ],
      "metadata": {
        "colab": {
          "base_uri": "https://localhost:8080/",
          "height": 181
        },
        "id": "nkKRKKD3Wh_j",
        "outputId": "273a54f5-bd2e-42c6-8339-0cb4dd98e78b"
      },
      "execution_count": 25,
      "outputs": [
        {
          "output_type": "stream",
          "name": "stdout",
          "text": [
            "torch.Size([12, 1, 28, 28])\n"
          ]
        },
        {
          "output_type": "display_data",
          "data": {
            "text/plain": [
              "<Figure size 640x480 with 1 Axes>"
            ],
            "image/png": "[encoded data removed]"
          },
          "metadata": {}
        }
      ]
    },
    {
      "cell_type": "markdown",
      "source": [
        "##Now adjust model to include convolutions"
      ],
      "metadata": {
        "id": "uhk1hc_SiaoB"
      }
    },
    {
      "cell_type": "code",
      "source": [
        "import torch.nn.functional as F\n",
        "\n",
        "class ConvolutionalVAE(nn.Module):\n",
        "    def __init__(self, x_dim, h_dim1, h_dim2, z_dim):\n",
        "        super(ConvolutionalVAE, self).__init__()\n",
        "        \n",
        "        # Encoder\n",
        "        self.encoder = nn.Sequential(\n",
        "            nn.Conv2d(x_dim, h_dim1, kernel_size=3, stride=1, padding=1),\n",
        "            nn.ReLU(),\n",
        "            nn.MaxPool2d(kernel_size=2, stride=2),\n",
        "            nn.Conv2d(h_dim1, h_dim2, kernel_size=3, stride=1, padding=1),\n",
        "            nn.ReLU(),\n",
        "            nn.MaxPool2d(kernel_size=2, stride=2),\n",
        "            nn.Flatten()\n",
        "        )\n",
        "        \n",
        "        self.fc31 = nn.Linear(h_dim2 * 7 * 7, z_dim)\n",
        "        self.fc32 = nn.Linear(h_dim2 * 7 * 7, z_dim)\n",
        "        \n",
        "        # Decoder\n",
        "        self.fc4 = nn.Linear(z_dim, h_dim2 * 7 * 7)\n",
        "        self.decoder = nn.Sequential(\n",
        "            nn.ConvTranspose2d(h_dim2, h_dim1, kernel_size=2, stride=2),\n",
        "            nn.ReLU(),\n",
        "            nn.ConvTranspose2d(h_dim1, x_dim, kernel_size=2, stride=2),\n",
        "            nn.Sigmoid()\n",
        "        )\n",
        "    \n",
        "    def encode(self, x):\n",
        "        x = self.encoder(x)\n",
        "        return self.fc31(x), self.fc32(x) # mu, log_var\n",
        "    \n",
        "    def sampling(self, mu, log_var):\n",
        "        std = torch.exp(0.5 * log_var)\n",
        "        eps = torch.randn_like(std)\n",
        "        return eps * std + mu # return z sample\n",
        "        \n",
        "    def decode(self, z):\n",
        "        h = F.relu(self.fc4(z))\n",
        "        h = h.view(-1, h_dim2, 7, 7)\n",
        "        return self.decoder(h)\n",
        "    \n",
        "    def forward(self, x):\n",
        "        x = x.view(-1, x_dim, 28, 28) # Reshape the input if necessary\n",
        "        mu, log_var = self.encode(x)\n",
        "        z = self.sampling(mu, log_var)\n",
        "        return self.decode(z), mu, log_var\n",
        "\n",
        "\n",
        "# build model\n",
        "#vae = VAE(x_dim=image_size , h_dim1= 512, h_dim2=256, z_dim=2)\n",
        "vae = VAE(x_dim=image_size , h_dim1= 512, h_dim2=256, z_dim=z_dim)\n",
        "if torch.cuda.is_available():\n",
        "    vae.cuda()"
      ],
      "metadata": {
        "id": "lY1u1fxOaMGh"
      },
      "execution_count": 26,
      "outputs": []
    },
    {
      "cell_type": "code",
      "source": [
        "image_channels = 1\n",
        "conv_vae = ConvolutionalVAE(x_dim=image_channels, h_dim1=32, h_dim2=64, z_dim=2)\n",
        "if torch.cuda.is_available():\n",
        "    conv_vae.cuda()"
      ],
      "metadata": {
        "colab": {
          "base_uri": "https://localhost:8080/",
          "height": 222
        },
        "id": "9jMX_YwdhetS",
        "outputId": "c7e4a7d9-077c-4aeb-d42d-d27d89124459"
      },
      "execution_count": 1,
      "outputs": [
        {
          "output_type": "error",
          "ename": "NameError",
          "evalue": "ignored",
          "traceback": [
            "\u001b[0;31m---------------------------------------------------------------------------\u001b[0m",
            "\u001b[0;31mNameError\u001b[0m                                 Traceback (most recent call last)",
            "\u001b[0;32m<ipython-input-1-bf18969127d6>\u001b[0m in \u001b[0;36m<cell line: 2>\u001b[0;34m()\u001b[0m\n\u001b[1;32m      1\u001b[0m \u001b[0mimage_channels\u001b[0m \u001b[0;34m=\u001b[0m \u001b[0;36m1\u001b[0m\u001b[0;34m\u001b[0m\u001b[0;34m\u001b[0m\u001b[0m\n\u001b[0;32m----> 2\u001b[0;31m \u001b[0mconv_vae\u001b[0m \u001b[0;34m=\u001b[0m \u001b[0mConvolutionalVAE\u001b[0m\u001b[0;34m(\u001b[0m\u001b[0mx_dim\u001b[0m\u001b[0;34m=\u001b[0m\u001b[0mimage_channels\u001b[0m\u001b[0;34m,\u001b[0m \u001b[0mh_dim1\u001b[0m\u001b[0;34m=\u001b[0m\u001b[0;36m32\u001b[0m\u001b[0;34m,\u001b[0m \u001b[0mh_dim2\u001b[0m\u001b[0;34m=\u001b[0m\u001b[0;36m64\u001b[0m\u001b[0;34m,\u001b[0m \u001b[0mz_dim\u001b[0m\u001b[0;34m=\u001b[0m\u001b[0;36m2\u001b[0m\u001b[0;34m)\u001b[0m\u001b[0;34m\u001b[0m\u001b[0;34m\u001b[0m\u001b[0m\n\u001b[0m\u001b[1;32m      3\u001b[0m \u001b[0;32mif\u001b[0m \u001b[0mtorch\u001b[0m\u001b[0;34m.\u001b[0m\u001b[0mcuda\u001b[0m\u001b[0;34m.\u001b[0m\u001b[0mis_available\u001b[0m\u001b[0;34m(\u001b[0m\u001b[0;34m)\u001b[0m\u001b[0;34m:\u001b[0m\u001b[0;34m\u001b[0m\u001b[0;34m\u001b[0m\u001b[0m\n\u001b[1;32m      4\u001b[0m     \u001b[0mconv_vae\u001b[0m\u001b[0;34m.\u001b[0m\u001b[0mcuda\u001b[0m\u001b[0;34m(\u001b[0m\u001b[0;34m)\u001b[0m\u001b[0;34m\u001b[0m\u001b[0;34m\u001b[0m\u001b[0m\n",
            "\u001b[0;31mNameError\u001b[0m: name 'ConvolutionalVAE' is not defined"
          ]
        }
      ]
    },
    {
      "cell_type": "code",
      "source": [
        "def train(epoch):\n",
        "    conv_vae.train()\n",
        "    train_loss = 0\n",
        "    for batch_idx, (data, _) in enumerate(train_loader):\n",
        "        if torch.cuda.is_available():\n",
        "          data = data.cuda()\n",
        "        optimizer.zero_grad()\n",
        "        \n",
        "        recon_batch, mu, log_var = conv_vae(data)\n",
        "        loss = loss_function(recon_batch, data, mu, log_var)\n",
        "        \n",
        "        loss.backward()\n",
        "        train_loss += loss.item()\n",
        "        optimizer.step()\n",
        "        \n",
        "        if batch_idx % 100 == 0:\n",
        "            print('Train Epoch: {} [{}/{} ({:.0f}%)]\\tLoss: {:.6f}'.format(\n",
        "                epoch, batch_idx * len(data), len(train_loader.dataset),\n",
        "                100. * batch_idx / len(train_loader), loss.item() / len(data)))\n",
        "    print('====> Epoch: {} Average loss: {:.4f}'.format(epoch, train_loss / len(train_loader.dataset)))"
      ],
      "metadata": {
        "id": "T085q7hTiBNV"
      },
      "execution_count": null,
      "outputs": []
    },
    {
      "cell_type": "code",
      "source": [
        "def test():\n",
        "    conv_vae.eval()\n",
        "    test_loss= 0\n",
        "    with torch.no_grad():\n",
        "        for data, _ in test_loader:\n",
        "            if torch.cuda.is_available():\n",
        "              data = data.cuda()\n",
        "            recon, mu, log_var = conv_vae(data)\n",
        "            \n",
        "            # sum up batch loss\n",
        "            test_loss += loss_function(recon, data, mu, log_var).item()\n",
        "        \n",
        "    test_loss /= len(test_loader.dataset)\n",
        "    print('====> Test set loss: {:.4f}'.format(test_loss))"
      ],
      "metadata": {
        "id": "hRF1ivm2kHK6"
      },
      "execution_count": 35,
      "outputs": []
    },
    {
      "cell_type": "code",
      "source": [
        "for epoch in range(1, num_epochs + 1):\n",
        "    train(epoch)\n",
        "    test()"
      ],
      "metadata": {
        "colab": {
          "base_uri": "https://localhost:8080/",
          "height": 353
        },
        "id": "0hftKw6tkJMm",
        "outputId": "dc38c2c5-06de-427f-c198-335f0a1b7012"
      },
      "execution_count": 36,
      "outputs": [
        {
          "output_type": "error",
          "ename": "TypeError",
          "evalue": "ignored",
          "traceback": [
            "\u001b[0;31m---------------------------------------------------------------------------\u001b[0m",
            "\u001b[0;31mTypeError\u001b[0m                                 Traceback (most recent call last)",
            "\u001b[0;32m<ipython-input-36-f8740bd9c6f6>\u001b[0m in \u001b[0;36m<cell line: 1>\u001b[0;34m()\u001b[0m\n\u001b[1;32m      1\u001b[0m \u001b[0;32mfor\u001b[0m \u001b[0mepoch\u001b[0m \u001b[0;32min\u001b[0m \u001b[0mrange\u001b[0m\u001b[0;34m(\u001b[0m\u001b[0;36m1\u001b[0m\u001b[0;34m,\u001b[0m \u001b[0mnum_epochs\u001b[0m \u001b[0;34m+\u001b[0m \u001b[0;36m1\u001b[0m\u001b[0;34m)\u001b[0m\u001b[0;34m:\u001b[0m\u001b[0;34m\u001b[0m\u001b[0;34m\u001b[0m\u001b[0m\n\u001b[0;32m----> 2\u001b[0;31m     \u001b[0mtrain\u001b[0m\u001b[0;34m(\u001b[0m\u001b[0mepoch\u001b[0m\u001b[0;34m)\u001b[0m\u001b[0;34m\u001b[0m\u001b[0;34m\u001b[0m\u001b[0m\n\u001b[0m\u001b[1;32m      3\u001b[0m     \u001b[0mtest\u001b[0m\u001b[0;34m(\u001b[0m\u001b[0;34m)\u001b[0m\u001b[0;34m\u001b[0m\u001b[0;34m\u001b[0m\u001b[0m\n",
            "\u001b[0;32m<ipython-input-34-09fef8ba8ab1>\u001b[0m in \u001b[0;36mtrain\u001b[0;34m(epoch)\u001b[0m\n\u001b[1;32m      7\u001b[0m         \u001b[0moptimizer\u001b[0m\u001b[0;34m.\u001b[0m\u001b[0mzero_grad\u001b[0m\u001b[0;34m(\u001b[0m\u001b[0;34m)\u001b[0m\u001b[0;34m\u001b[0m\u001b[0;34m\u001b[0m\u001b[0m\n\u001b[1;32m      8\u001b[0m \u001b[0;34m\u001b[0m\u001b[0m\n\u001b[0;32m----> 9\u001b[0;31m         \u001b[0mrecon_batch\u001b[0m\u001b[0;34m,\u001b[0m \u001b[0mmu\u001b[0m\u001b[0;34m,\u001b[0m \u001b[0mlog_var\u001b[0m \u001b[0;34m=\u001b[0m \u001b[0mconv_vae\u001b[0m\u001b[0;34m(\u001b[0m\u001b[0mdata\u001b[0m\u001b[0;34m)\u001b[0m\u001b[0;34m\u001b[0m\u001b[0;34m\u001b[0m\u001b[0m\n\u001b[0m\u001b[1;32m     10\u001b[0m         \u001b[0mloss\u001b[0m \u001b[0;34m=\u001b[0m \u001b[0mloss_function\u001b[0m\u001b[0;34m(\u001b[0m\u001b[0mrecon_batch\u001b[0m\u001b[0;34m,\u001b[0m \u001b[0mdata\u001b[0m\u001b[0;34m,\u001b[0m \u001b[0mmu\u001b[0m\u001b[0;34m,\u001b[0m \u001b[0mlog_var\u001b[0m\u001b[0;34m)\u001b[0m\u001b[0;34m\u001b[0m\u001b[0;34m\u001b[0m\u001b[0m\n\u001b[1;32m     11\u001b[0m \u001b[0;34m\u001b[0m\u001b[0m\n",
            "\u001b[0;32m/usr/local/lib/python3.9/dist-packages/torch/nn/modules/module.py\u001b[0m in \u001b[0;36m_call_impl\u001b[0;34m(self, *args, **kwargs)\u001b[0m\n\u001b[1;32m   1499\u001b[0m                 \u001b[0;32mor\u001b[0m \u001b[0m_global_backward_pre_hooks\u001b[0m \u001b[0;32mor\u001b[0m \u001b[0m_global_backward_hooks\u001b[0m\u001b[0;34m\u001b[0m\u001b[0;34m\u001b[0m\u001b[0m\n\u001b[1;32m   1500\u001b[0m                 or _global_forward_hooks or _global_forward_pre_hooks):\n\u001b[0;32m-> 1501\u001b[0;31m             \u001b[0;32mreturn\u001b[0m \u001b[0mforward_call\u001b[0m\u001b[0;34m(\u001b[0m\u001b[0;34m*\u001b[0m\u001b[0margs\u001b[0m\u001b[0;34m,\u001b[0m \u001b[0;34m**\u001b[0m\u001b[0mkwargs\u001b[0m\u001b[0;34m)\u001b[0m\u001b[0;34m\u001b[0m\u001b[0;34m\u001b[0m\u001b[0m\n\u001b[0m\u001b[1;32m   1502\u001b[0m         \u001b[0;31m# Do not call functions when jit is used\u001b[0m\u001b[0;34m\u001b[0m\u001b[0;34m\u001b[0m\u001b[0m\n\u001b[1;32m   1503\u001b[0m         \u001b[0mfull_backward_hooks\u001b[0m\u001b[0;34m,\u001b[0m \u001b[0mnon_full_backward_hooks\u001b[0m \u001b[0;34m=\u001b[0m \u001b[0;34m[\u001b[0m\u001b[0;34m]\u001b[0m\u001b[0;34m,\u001b[0m \u001b[0;34m[\u001b[0m\u001b[0;34m]\u001b[0m\u001b[0;34m\u001b[0m\u001b[0;34m\u001b[0m\u001b[0m\n",
            "\u001b[0;32m<ipython-input-26-2362038342fd>\u001b[0m in \u001b[0;36mforward\u001b[0;34m(self, x)\u001b[0m\n\u001b[1;32m     43\u001b[0m \u001b[0;34m\u001b[0m\u001b[0m\n\u001b[1;32m     44\u001b[0m     \u001b[0;32mdef\u001b[0m \u001b[0mforward\u001b[0m\u001b[0;34m(\u001b[0m\u001b[0mself\u001b[0m\u001b[0;34m,\u001b[0m \u001b[0mx\u001b[0m\u001b[0;34m)\u001b[0m\u001b[0;34m:\u001b[0m\u001b[0;34m\u001b[0m\u001b[0;34m\u001b[0m\u001b[0m\n\u001b[0;32m---> 45\u001b[0;31m         \u001b[0mx\u001b[0m \u001b[0;34m=\u001b[0m \u001b[0mx\u001b[0m\u001b[0;34m.\u001b[0m\u001b[0mview\u001b[0m\u001b[0;34m(\u001b[0m\u001b[0;34m-\u001b[0m\u001b[0;36m1\u001b[0m\u001b[0;34m,\u001b[0m \u001b[0mx_dim\u001b[0m\u001b[0;34m,\u001b[0m \u001b[0;36m28\u001b[0m\u001b[0;34m,\u001b[0m \u001b[0;36m28\u001b[0m\u001b[0;34m)\u001b[0m \u001b[0;31m# Reshape the input if necessary\u001b[0m\u001b[0;34m\u001b[0m\u001b[0;34m\u001b[0m\u001b[0m\n\u001b[0m\u001b[1;32m     46\u001b[0m         \u001b[0mmu\u001b[0m\u001b[0;34m,\u001b[0m \u001b[0mlog_var\u001b[0m \u001b[0;34m=\u001b[0m \u001b[0mself\u001b[0m\u001b[0;34m.\u001b[0m\u001b[0mencode\u001b[0m\u001b[0;34m(\u001b[0m\u001b[0mx\u001b[0m\u001b[0;34m)\u001b[0m\u001b[0;34m\u001b[0m\u001b[0;34m\u001b[0m\u001b[0m\n\u001b[1;32m     47\u001b[0m         \u001b[0mz\u001b[0m \u001b[0;34m=\u001b[0m \u001b[0mself\u001b[0m\u001b[0;34m.\u001b[0m\u001b[0msampling\u001b[0m\u001b[0;34m(\u001b[0m\u001b[0mmu\u001b[0m\u001b[0;34m,\u001b[0m \u001b[0mlog_var\u001b[0m\u001b[0;34m)\u001b[0m\u001b[0;34m\u001b[0m\u001b[0;34m\u001b[0m\u001b[0m\n",
            "\u001b[0;31mTypeError\u001b[0m: view(): argument 'size' must be tuple of ints, but found element of type tuple at pos 2"
          ]
        }
      ]
    },
    {
      "cell_type": "code",
      "source": [],
      "metadata": {
        "id": "IqsrC26rkRUO"
      },
      "execution_count": null,
      "outputs": []
    }
  ],
  "metadata": {
    "kernelspec": {
      "display_name": "Python 3",
      "language": "python",
      "name": "python3"
    },
    "language_info": {
      "codemirror_mode": {
        "name": "ipython",
        "version": 3
      },
      "file_extension": ".py",
      "mimetype": "text/x-python",
      "name": "python",
      "nbconvert_exporter": "python",
      "pygments_lexer": "ipython3",
      "version": "3.5.4"
    },
    "colab": {
      "provenance": [],
      "include_colab_link": true
    },
    "accelerator": "GPU",
    "gpuClass": "standard"
  },
  "nbformat": 4,
  "nbformat_minor": 0
}