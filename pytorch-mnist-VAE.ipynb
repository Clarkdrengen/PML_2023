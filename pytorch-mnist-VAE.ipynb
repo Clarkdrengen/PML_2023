{
  "cells": [
    {
      "cell_type": "code",
      "execution_count": 15,
      "metadata": {
        "id": "CD77VzBXCVVj"
      },
      "outputs": [],
      "source": [
        "# prerequisites\n",
        "import torch\n",
        "import torch.nn as nn\n",
        "import torch.nn.functional as F\n",
        "import torch.optim as optim\n",
        "import torchvision\n",
        "from torchvision import datasets, transforms\n",
        "from torch.autograd import Variable\n",
        "from torchvision.utils import save_image\n",
        "import numpy as np\n",
        "\n",
        "bs = 100\n",
        "# MNIST Dataset\n",
        "train_dataset = datasets.MNIST(root='./mnist_data/', train=True, transform=transforms.ToTensor(), download=True)\n",
        "test_dataset = datasets.MNIST(root='./mnist_data/', train=False, transform=transforms.ToTensor(), download=False)\n",
        "\n",
        "# Data Loader (Input Pipeline)\n",
        "train_loader = torch.utils.data.DataLoader(dataset=train_dataset, batch_size=bs, shuffle=True)\n",
        "test_loader = torch.utils.data.DataLoader(dataset=test_dataset, batch_size=bs, shuffle=False)"
      ]
    },
    {
      "cell_type": "code",
      "source": [
        "# Device configuration\n",
        "device = torch.device('cuda' if torch.cuda.is_available() else 'cpu')"
      ],
      "metadata": {
        "id": "10bPJRoHuyRw"
      },
      "execution_count": 16,
      "outputs": []
    },
    {
      "cell_type": "code",
      "source": [
        "# Hyper-parameters\n",
        "image_size = 784\n",
        "#h_dim = 400\n",
        "#z_dim = 20\n",
        "num_epochs = 50\n",
        "x_dim=784, \n",
        "h_dim1= 512, \n",
        "h_dim2=256, \n",
        "z_dim=2\n",
        "#learning_rate = 1e-3\n"
      ],
      "metadata": {
        "id": "0hOOO4cSvEe_"
      },
      "execution_count": 17,
      "outputs": []
    },
    {
      "cell_type": "code",
      "execution_count": 18,
      "metadata": {
        "id": "w_QfmQfFCVVm"
      },
      "outputs": [],
      "source": [
        "class VAE(nn.Module):\n",
        "    def __init__(self, x_dim, h_dim1, h_dim2, z_dim):\n",
        "        super(VAE, self).__init__()\n",
        "        \n",
        "        # encoder part\n",
        "        self.fc1 = nn.Linear(x_dim, h_dim1)\n",
        "        self.fc2 = nn.Linear(h_dim1, h_dim2)\n",
        "        self.fc31 = nn.Linear(h_dim2, z_dim)\n",
        "        self.fc32 = nn.Linear(h_dim2, z_dim)\n",
        "        # decoder part\n",
        "        self.fc4 = nn.Linear(z_dim, h_dim2)\n",
        "        self.fc5 = nn.Linear(h_dim2, h_dim1)\n",
        "        self.fc6 = nn.Linear(h_dim1, x_dim)\n",
        "        \n",
        "    def encoder(self, x):\n",
        "        h = F.relu(self.fc1(x))\n",
        "        h = F.relu(self.fc2(h))\n",
        "        return self.fc31(h), self.fc32(h) # mu, log_var\n",
        "    \n",
        "    def sampling(self, mu, log_var):\n",
        "        std = torch.exp(0.5*log_var)\n",
        "        eps = torch.randn_like(std)\n",
        "        return eps.mul(std).add_(mu) # return z sample\n",
        "        \n",
        "    def decoder(self, z):\n",
        "        h = F.relu(self.fc4(z))\n",
        "        h = F.relu(self.fc5(h))\n",
        "        return F.sigmoid(self.fc6(h)) \n",
        "    \n",
        "    def forward(self, x):\n",
        "        mu, log_var = self.encoder(x.view(-1, 784))\n",
        "        z = self.sampling(mu, log_var)\n",
        "        return self.decoder(z), mu, log_var\n",
        "\n",
        "# build model\n",
        "#vae = VAE(x_dim=image_size , h_dim1= 512, h_dim2=256, z_dim=2)\n",
        "vae = VAE(x_dim=image_size , h_dim1= 512, h_dim2=256, z_dim=z_dim)\n",
        "if torch.cuda.is_available():\n",
        "    vae.cuda()"
      ]
    },
    {
      "cell_type": "code",
      "execution_count": 19,
      "metadata": {
        "colab": {
          "base_uri": "https://localhost:8080/"
        },
        "id": "tpDxsTKbCVVn",
        "outputId": "d9db9b89-82ae-44a5-ff1d-cff3d45619b2"
      },
      "outputs": [
        {
          "output_type": "execute_result",
          "data": {
            "text/plain": [
              "VAE(\n",
              "  (fc1): Linear(in_features=784, out_features=512, bias=True)\n",
              "  (fc2): Linear(in_features=512, out_features=256, bias=True)\n",
              "  (fc31): Linear(in_features=256, out_features=2, bias=True)\n",
              "  (fc32): Linear(in_features=256, out_features=2, bias=True)\n",
              "  (fc4): Linear(in_features=2, out_features=256, bias=True)\n",
              "  (fc5): Linear(in_features=256, out_features=512, bias=True)\n",
              "  (fc6): Linear(in_features=512, out_features=784, bias=True)\n",
              ")"
            ]
          },
          "metadata": {},
          "execution_count": 19
        }
      ],
      "source": [
        "vae"
      ]
    },
    {
      "cell_type": "code",
      "execution_count": 20,
      "metadata": {
        "id": "57_yzNE3CVVo"
      },
      "outputs": [],
      "source": [
        "optimizer = optim.Adam(vae.parameters())\n",
        "# return reconstruction error + KL divergence losses\n",
        "def loss_function(recon_x, x, mu, log_var):\n",
        "    BCE = F.binary_cross_entropy(recon_x, x.view(-1, 784), reduction='sum')\n",
        "    KLD = -0.5 * torch.sum(1 + log_var - mu.pow(2) - log_var.exp())\n",
        "    return BCE + KLD"
      ]
    },
    {
      "cell_type": "code",
      "execution_count": 21,
      "metadata": {
        "id": "-peubnfICVVo"
      },
      "outputs": [],
      "source": [
        "def train(epoch):\n",
        "    vae.train()\n",
        "    train_loss = 0\n",
        "    for batch_idx, (data, _) in enumerate(train_loader):\n",
        "        if torch.cuda.is_available():\n",
        "          data = data.cuda()\n",
        "        optimizer.zero_grad()\n",
        "        \n",
        "        recon_batch, mu, log_var = vae(data)\n",
        "        loss = loss_function(recon_batch, data, mu, log_var)\n",
        "        \n",
        "        loss.backward()\n",
        "        train_loss += loss.item()\n",
        "        optimizer.step()\n",
        "        \n",
        "        if batch_idx % 100 == 0:\n",
        "            print('Train Epoch: {} [{}/{} ({:.0f}%)]\\tLoss: {:.6f}'.format(\n",
        "                epoch, batch_idx * len(data), len(train_loader.dataset),\n",
        "                100. * batch_idx / len(train_loader), loss.item() / len(data)))\n",
        "    print('====> Epoch: {} Average loss: {:.4f}'.format(epoch, train_loss / len(train_loader.dataset)))"
      ]
    },
    {
      "cell_type": "code",
      "execution_count": 22,
      "metadata": {
        "id": "uhEPsQmSCVVo"
      },
      "outputs": [],
      "source": [
        "def test():\n",
        "    vae.eval()\n",
        "    test_loss= 0\n",
        "    with torch.no_grad():\n",
        "        for data, _ in test_loader:\n",
        "            if torch.cuda.is_available():\n",
        "              data = data.cuda()\n",
        "            recon, mu, log_var = vae(data)\n",
        "            \n",
        "            # sum up batch loss\n",
        "            test_loss += loss_function(recon, data, mu, log_var).item()\n",
        "        \n",
        "    test_loss /= len(test_loader.dataset)\n",
        "    print('====> Test set loss: {:.4f}'.format(test_loss))"
      ]
    },
    {
      "cell_type": "code",
      "source": [
        "device"
      ],
      "metadata": {
        "colab": {
          "base_uri": "https://localhost:8080/"
        },
        "id": "5vknXrgeRgwA",
        "outputId": "4d78c61a-47f6-437a-859d-a3104a795e2b"
      },
      "execution_count": 23,
      "outputs": [
        {
          "output_type": "execute_result",
          "data": {
            "text/plain": [
              "device(type='cpu')"
            ]
          },
          "metadata": {},
          "execution_count": 23
        }
      ]
    },
    {
      "cell_type": "code",
      "execution_count": 24,
      "metadata": {
        "scrolled": true,
        "colab": {
          "base_uri": "https://localhost:8080/"
        },
        "id": "R_kXSrxoCVVp",
        "outputId": "88e2a750-e89c-40c9-9d1f-7203b8b8a710"
      },
      "outputs": [
        {
          "output_type": "stream",
          "name": "stdout",
          "text": [
            "Train Epoch: 1 [0/60000 (0%)]\tLoss: 543.575742\n",
            "Train Epoch: 1 [10000/60000 (17%)]\tLoss: 192.767598\n",
            "Train Epoch: 1 [20000/60000 (33%)]\tLoss: 176.639062\n",
            "Train Epoch: 1 [30000/60000 (50%)]\tLoss: 166.025664\n",
            "Train Epoch: 1 [40000/60000 (67%)]\tLoss: 154.131191\n",
            "Train Epoch: 1 [50000/60000 (83%)]\tLoss: 163.673359\n",
            "====> Epoch: 1 Average loss: 178.4597\n",
            "====> Test set loss: 162.1433\n",
            "Train Epoch: 2 [0/60000 (0%)]\tLoss: 165.109355\n",
            "Train Epoch: 2 [10000/60000 (17%)]\tLoss: 169.105527\n",
            "Train Epoch: 2 [20000/60000 (33%)]\tLoss: 156.861084\n",
            "Train Epoch: 2 [30000/60000 (50%)]\tLoss: 151.329365\n",
            "Train Epoch: 2 [40000/60000 (67%)]\tLoss: 166.232422\n",
            "Train Epoch: 2 [50000/60000 (83%)]\tLoss: 152.425596\n",
            "====> Epoch: 2 Average loss: 157.6961\n",
            "====> Test set loss: 154.8802\n",
            "Train Epoch: 3 [0/60000 (0%)]\tLoss: 151.242324\n",
            "Train Epoch: 3 [10000/60000 (17%)]\tLoss: 163.416396\n",
            "Train Epoch: 3 [20000/60000 (33%)]\tLoss: 156.565703\n",
            "Train Epoch: 3 [30000/60000 (50%)]\tLoss: 147.436572\n",
            "Train Epoch: 3 [40000/60000 (67%)]\tLoss: 157.241318\n",
            "Train Epoch: 3 [50000/60000 (83%)]\tLoss: 157.923291\n",
            "====> Epoch: 3 Average loss: 152.9193\n",
            "====> Test set loss: 151.9368\n",
            "Train Epoch: 4 [0/60000 (0%)]\tLoss: 154.526279\n",
            "Train Epoch: 4 [10000/60000 (17%)]\tLoss: 150.365898\n",
            "Train Epoch: 4 [20000/60000 (33%)]\tLoss: 152.501387\n",
            "Train Epoch: 4 [30000/60000 (50%)]\tLoss: 142.173115\n",
            "Train Epoch: 4 [40000/60000 (67%)]\tLoss: 142.851250\n",
            "Train Epoch: 4 [50000/60000 (83%)]\tLoss: 144.533799\n",
            "====> Epoch: 4 Average loss: 149.9062\n",
            "====> Test set loss: 149.9479\n",
            "Train Epoch: 5 [0/60000 (0%)]\tLoss: 147.043291\n",
            "Train Epoch: 5 [10000/60000 (17%)]\tLoss: 147.945410\n",
            "Train Epoch: 5 [20000/60000 (33%)]\tLoss: 140.897793\n",
            "Train Epoch: 5 [30000/60000 (50%)]\tLoss: 157.416572\n",
            "Train Epoch: 5 [40000/60000 (67%)]\tLoss: 153.226709\n",
            "Train Epoch: 5 [50000/60000 (83%)]\tLoss: 149.051670\n",
            "====> Epoch: 5 Average loss: 147.7881\n",
            "====> Test set loss: 147.6789\n",
            "Train Epoch: 6 [0/60000 (0%)]\tLoss: 151.574590\n",
            "Train Epoch: 6 [10000/60000 (17%)]\tLoss: 148.736631\n",
            "Train Epoch: 6 [20000/60000 (33%)]\tLoss: 145.570527\n",
            "Train Epoch: 6 [30000/60000 (50%)]\tLoss: 135.912793\n",
            "Train Epoch: 6 [40000/60000 (67%)]\tLoss: 140.315732\n",
            "Train Epoch: 6 [50000/60000 (83%)]\tLoss: 147.479258\n",
            "====> Epoch: 6 Average loss: 146.2402\n",
            "====> Test set loss: 146.1686\n",
            "Train Epoch: 7 [0/60000 (0%)]\tLoss: 147.722383\n",
            "Train Epoch: 7 [10000/60000 (17%)]\tLoss: 141.621904\n",
            "Train Epoch: 7 [20000/60000 (33%)]\tLoss: 146.691162\n",
            "Train Epoch: 7 [30000/60000 (50%)]\tLoss: 143.012900\n",
            "Train Epoch: 7 [40000/60000 (67%)]\tLoss: 140.962705\n",
            "Train Epoch: 7 [50000/60000 (83%)]\tLoss: 142.654453\n",
            "====> Epoch: 7 Average loss: 145.0529\n",
            "====> Test set loss: 145.2715\n",
            "Train Epoch: 8 [0/60000 (0%)]\tLoss: 143.877686\n",
            "Train Epoch: 8 [10000/60000 (17%)]\tLoss: 140.902861\n",
            "Train Epoch: 8 [20000/60000 (33%)]\tLoss: 136.784395\n",
            "Train Epoch: 8 [30000/60000 (50%)]\tLoss: 142.018877\n",
            "Train Epoch: 8 [40000/60000 (67%)]\tLoss: 142.672422\n",
            "Train Epoch: 8 [50000/60000 (83%)]\tLoss: 142.127373\n",
            "====> Epoch: 8 Average loss: 144.2542\n",
            "====> Test set loss: 144.9593\n",
            "Train Epoch: 9 [0/60000 (0%)]\tLoss: 145.207480\n",
            "Train Epoch: 9 [10000/60000 (17%)]\tLoss: 139.611855\n",
            "Train Epoch: 9 [20000/60000 (33%)]\tLoss: 146.981865\n",
            "Train Epoch: 9 [30000/60000 (50%)]\tLoss: 135.902754\n",
            "Train Epoch: 9 [40000/60000 (67%)]\tLoss: 141.732090\n",
            "Train Epoch: 9 [50000/60000 (83%)]\tLoss: 139.194824\n",
            "====> Epoch: 9 Average loss: 143.5593\n",
            "====> Test set loss: 144.0862\n",
            "Train Epoch: 10 [0/60000 (0%)]\tLoss: 138.473574\n",
            "Train Epoch: 10 [10000/60000 (17%)]\tLoss: 147.408018\n",
            "Train Epoch: 10 [20000/60000 (33%)]\tLoss: 141.715264\n",
            "Train Epoch: 10 [30000/60000 (50%)]\tLoss: 139.844541\n",
            "Train Epoch: 10 [40000/60000 (67%)]\tLoss: 143.114141\n",
            "Train Epoch: 10 [50000/60000 (83%)]\tLoss: 144.368555\n",
            "====> Epoch: 10 Average loss: 142.7540\n",
            "====> Test set loss: 144.0157\n",
            "Train Epoch: 11 [0/60000 (0%)]\tLoss: 143.594043\n",
            "Train Epoch: 11 [10000/60000 (17%)]\tLoss: 148.005264\n",
            "Train Epoch: 11 [20000/60000 (33%)]\tLoss: 131.406680\n",
            "Train Epoch: 11 [30000/60000 (50%)]\tLoss: 135.963330\n",
            "Train Epoch: 11 [40000/60000 (67%)]\tLoss: 140.930156\n",
            "Train Epoch: 11 [50000/60000 (83%)]\tLoss: 146.351533\n",
            "====> Epoch: 11 Average loss: 142.2781\n",
            "====> Test set loss: 142.9231\n",
            "Train Epoch: 12 [0/60000 (0%)]\tLoss: 136.887744\n",
            "Train Epoch: 12 [10000/60000 (17%)]\tLoss: 143.938242\n",
            "Train Epoch: 12 [20000/60000 (33%)]\tLoss: 146.027754\n",
            "Train Epoch: 12 [30000/60000 (50%)]\tLoss: 151.426943\n",
            "Train Epoch: 12 [40000/60000 (67%)]\tLoss: 143.092051\n",
            "Train Epoch: 12 [50000/60000 (83%)]\tLoss: 144.562715\n",
            "====> Epoch: 12 Average loss: 141.5964\n",
            "====> Test set loss: 142.7818\n",
            "Train Epoch: 13 [0/60000 (0%)]\tLoss: 146.076260\n",
            "Train Epoch: 13 [10000/60000 (17%)]\tLoss: 147.593301\n",
            "Train Epoch: 13 [20000/60000 (33%)]\tLoss: 140.200732\n",
            "Train Epoch: 13 [30000/60000 (50%)]\tLoss: 150.146865\n",
            "Train Epoch: 13 [40000/60000 (67%)]\tLoss: 144.590078\n",
            "Train Epoch: 13 [50000/60000 (83%)]\tLoss: 138.055215\n",
            "====> Epoch: 13 Average loss: 141.2205\n",
            "====> Test set loss: 142.3399\n",
            "Train Epoch: 14 [0/60000 (0%)]\tLoss: 144.909609\n",
            "Train Epoch: 14 [10000/60000 (17%)]\tLoss: 148.800029\n",
            "Train Epoch: 14 [20000/60000 (33%)]\tLoss: 139.398857\n",
            "Train Epoch: 14 [30000/60000 (50%)]\tLoss: 142.813887\n",
            "Train Epoch: 14 [40000/60000 (67%)]\tLoss: 141.419365\n",
            "Train Epoch: 14 [50000/60000 (83%)]\tLoss: 143.446162\n",
            "====> Epoch: 14 Average loss: 140.9297\n",
            "====> Test set loss: 142.2708\n",
            "Train Epoch: 15 [0/60000 (0%)]\tLoss: 142.410088\n",
            "Train Epoch: 15 [10000/60000 (17%)]\tLoss: 141.562090\n",
            "Train Epoch: 15 [20000/60000 (33%)]\tLoss: 144.949688\n",
            "Train Epoch: 15 [30000/60000 (50%)]\tLoss: 140.106055\n",
            "Train Epoch: 15 [40000/60000 (67%)]\tLoss: 142.302441\n",
            "Train Epoch: 15 [50000/60000 (83%)]\tLoss: 132.031748\n",
            "====> Epoch: 15 Average loss: 140.2566\n",
            "====> Test set loss: 141.6342\n",
            "Train Epoch: 16 [0/60000 (0%)]\tLoss: 138.421982\n",
            "Train Epoch: 16 [10000/60000 (17%)]\tLoss: 137.348770\n",
            "Train Epoch: 16 [20000/60000 (33%)]\tLoss: 145.332627\n",
            "Train Epoch: 16 [30000/60000 (50%)]\tLoss: 140.826152\n",
            "Train Epoch: 16 [40000/60000 (67%)]\tLoss: 143.949805\n",
            "Train Epoch: 16 [50000/60000 (83%)]\tLoss: 139.586953\n",
            "====> Epoch: 16 Average loss: 140.1560\n",
            "====> Test set loss: 141.1738\n",
            "Train Epoch: 17 [0/60000 (0%)]\tLoss: 136.718682\n",
            "Train Epoch: 17 [10000/60000 (17%)]\tLoss: 143.575850\n",
            "Train Epoch: 17 [20000/60000 (33%)]\tLoss: 138.586855\n",
            "Train Epoch: 17 [30000/60000 (50%)]\tLoss: 150.426270\n",
            "Train Epoch: 17 [40000/60000 (67%)]\tLoss: 144.259238\n",
            "Train Epoch: 17 [50000/60000 (83%)]\tLoss: 143.931670\n",
            "====> Epoch: 17 Average loss: 139.7605\n",
            "====> Test set loss: 141.4131\n",
            "Train Epoch: 18 [0/60000 (0%)]\tLoss: 141.062656\n",
            "Train Epoch: 18 [10000/60000 (17%)]\tLoss: 130.403564\n",
            "Train Epoch: 18 [20000/60000 (33%)]\tLoss: 137.045557\n",
            "Train Epoch: 18 [30000/60000 (50%)]\tLoss: 134.096289\n",
            "Train Epoch: 18 [40000/60000 (67%)]\tLoss: 136.407432\n",
            "Train Epoch: 18 [50000/60000 (83%)]\tLoss: 136.961924\n",
            "====> Epoch: 18 Average loss: 139.5331\n",
            "====> Test set loss: 141.4472\n",
            "Train Epoch: 19 [0/60000 (0%)]\tLoss: 146.320254\n",
            "Train Epoch: 19 [10000/60000 (17%)]\tLoss: 123.944219\n",
            "Train Epoch: 19 [20000/60000 (33%)]\tLoss: 135.384307\n",
            "Train Epoch: 19 [30000/60000 (50%)]\tLoss: 142.394893\n",
            "Train Epoch: 19 [40000/60000 (67%)]\tLoss: 134.711338\n",
            "Train Epoch: 19 [50000/60000 (83%)]\tLoss: 138.176299\n",
            "====> Epoch: 19 Average loss: 139.1258\n",
            "====> Test set loss: 140.8485\n",
            "Train Epoch: 20 [0/60000 (0%)]\tLoss: 140.730859\n",
            "Train Epoch: 20 [10000/60000 (17%)]\tLoss: 143.162451\n",
            "Train Epoch: 20 [20000/60000 (33%)]\tLoss: 135.737549\n",
            "Train Epoch: 20 [30000/60000 (50%)]\tLoss: 137.553184\n",
            "Train Epoch: 20 [40000/60000 (67%)]\tLoss: 147.947324\n",
            "Train Epoch: 20 [50000/60000 (83%)]\tLoss: 136.255508\n",
            "====> Epoch: 20 Average loss: 138.9736\n",
            "====> Test set loss: 140.5972\n",
            "Train Epoch: 21 [0/60000 (0%)]\tLoss: 137.651172\n",
            "Train Epoch: 21 [10000/60000 (17%)]\tLoss: 136.719629\n",
            "Train Epoch: 21 [20000/60000 (33%)]\tLoss: 133.644092\n",
            "Train Epoch: 21 [30000/60000 (50%)]\tLoss: 138.551025\n",
            "Train Epoch: 21 [40000/60000 (67%)]\tLoss: 141.069023\n",
            "Train Epoch: 21 [50000/60000 (83%)]\tLoss: 140.212686\n",
            "====> Epoch: 21 Average loss: 138.8031\n",
            "====> Test set loss: 141.2568\n",
            "Train Epoch: 22 [0/60000 (0%)]\tLoss: 136.672236\n",
            "Train Epoch: 22 [10000/60000 (17%)]\tLoss: 145.683223\n",
            "Train Epoch: 22 [20000/60000 (33%)]\tLoss: 141.339844\n",
            "Train Epoch: 22 [30000/60000 (50%)]\tLoss: 128.968662\n",
            "Train Epoch: 22 [40000/60000 (67%)]\tLoss: 141.997559\n",
            "Train Epoch: 22 [50000/60000 (83%)]\tLoss: 142.445342\n",
            "====> Epoch: 22 Average loss: 138.3826\n",
            "====> Test set loss: 140.2341\n",
            "Train Epoch: 23 [0/60000 (0%)]\tLoss: 139.999648\n",
            "Train Epoch: 23 [10000/60000 (17%)]\tLoss: 139.290928\n",
            "Train Epoch: 23 [20000/60000 (33%)]\tLoss: 132.908252\n",
            "Train Epoch: 23 [30000/60000 (50%)]\tLoss: 141.732227\n",
            "Train Epoch: 23 [40000/60000 (67%)]\tLoss: 141.273271\n",
            "Train Epoch: 23 [50000/60000 (83%)]\tLoss: 145.008555\n",
            "====> Epoch: 23 Average loss: 138.0443\n",
            "====> Test set loss: 140.4160\n",
            "Train Epoch: 24 [0/60000 (0%)]\tLoss: 134.519414\n",
            "Train Epoch: 24 [10000/60000 (17%)]\tLoss: 132.213594\n",
            "Train Epoch: 24 [20000/60000 (33%)]\tLoss: 143.212549\n",
            "Train Epoch: 24 [30000/60000 (50%)]\tLoss: 139.923652\n",
            "Train Epoch: 24 [40000/60000 (67%)]\tLoss: 144.087617\n",
            "Train Epoch: 24 [50000/60000 (83%)]\tLoss: 128.743594\n",
            "====> Epoch: 24 Average loss: 137.8406\n",
            "====> Test set loss: 139.8480\n",
            "Train Epoch: 25 [0/60000 (0%)]\tLoss: 135.463975\n",
            "Train Epoch: 25 [10000/60000 (17%)]\tLoss: 126.704189\n",
            "Train Epoch: 25 [20000/60000 (33%)]\tLoss: 139.564404\n",
            "Train Epoch: 25 [30000/60000 (50%)]\tLoss: 134.377549\n",
            "Train Epoch: 25 [40000/60000 (67%)]\tLoss: 139.216279\n",
            "Train Epoch: 25 [50000/60000 (83%)]\tLoss: 136.439375\n",
            "====> Epoch: 25 Average loss: 137.7649\n",
            "====> Test set loss: 140.0177\n",
            "Train Epoch: 26 [0/60000 (0%)]\tLoss: 141.337793\n",
            "Train Epoch: 26 [10000/60000 (17%)]\tLoss: 129.926992\n",
            "Train Epoch: 26 [20000/60000 (33%)]\tLoss: 144.525166\n",
            "Train Epoch: 26 [30000/60000 (50%)]\tLoss: 137.644287\n",
            "Train Epoch: 26 [40000/60000 (67%)]\tLoss: 141.762344\n",
            "Train Epoch: 26 [50000/60000 (83%)]\tLoss: 131.908701\n",
            "====> Epoch: 26 Average loss: 137.7270\n",
            "====> Test set loss: 139.9386\n",
            "Train Epoch: 27 [0/60000 (0%)]\tLoss: 133.940615\n",
            "Train Epoch: 27 [10000/60000 (17%)]\tLoss: 136.035645\n",
            "Train Epoch: 27 [20000/60000 (33%)]\tLoss: 144.222813\n",
            "Train Epoch: 27 [30000/60000 (50%)]\tLoss: 137.846611\n",
            "Train Epoch: 27 [40000/60000 (67%)]\tLoss: 139.507080\n",
            "Train Epoch: 27 [50000/60000 (83%)]\tLoss: 142.153672\n",
            "====> Epoch: 27 Average loss: 137.5632\n",
            "====> Test set loss: 140.3589\n",
            "Train Epoch: 28 [0/60000 (0%)]\tLoss: 138.211592\n",
            "Train Epoch: 28 [10000/60000 (17%)]\tLoss: 141.598281\n",
            "Train Epoch: 28 [20000/60000 (33%)]\tLoss: 130.619297\n",
            "Train Epoch: 28 [30000/60000 (50%)]\tLoss: 134.344238\n",
            "Train Epoch: 28 [40000/60000 (67%)]\tLoss: 138.578008\n",
            "Train Epoch: 28 [50000/60000 (83%)]\tLoss: 141.493135\n",
            "====> Epoch: 28 Average loss: 137.3592\n",
            "====> Test set loss: 139.7639\n",
            "Train Epoch: 29 [0/60000 (0%)]\tLoss: 136.906455\n",
            "Train Epoch: 29 [10000/60000 (17%)]\tLoss: 136.185117\n",
            "Train Epoch: 29 [20000/60000 (33%)]\tLoss: 126.931172\n",
            "Train Epoch: 29 [30000/60000 (50%)]\tLoss: 133.307305\n",
            "Train Epoch: 29 [40000/60000 (67%)]\tLoss: 142.167236\n",
            "Train Epoch: 29 [50000/60000 (83%)]\tLoss: 138.794971\n",
            "====> Epoch: 29 Average loss: 137.1300\n",
            "====> Test set loss: 140.1169\n",
            "Train Epoch: 30 [0/60000 (0%)]\tLoss: 135.309453\n",
            "Train Epoch: 30 [10000/60000 (17%)]\tLoss: 132.859365\n",
            "Train Epoch: 30 [20000/60000 (33%)]\tLoss: 135.859844\n",
            "Train Epoch: 30 [30000/60000 (50%)]\tLoss: 145.823457\n",
            "Train Epoch: 30 [40000/60000 (67%)]\tLoss: 133.418838\n",
            "Train Epoch: 30 [50000/60000 (83%)]\tLoss: 133.821572\n",
            "====> Epoch: 30 Average loss: 136.9093\n",
            "====> Test set loss: 139.4281\n",
            "Train Epoch: 31 [0/60000 (0%)]\tLoss: 132.410576\n",
            "Train Epoch: 31 [10000/60000 (17%)]\tLoss: 134.674287\n",
            "Train Epoch: 31 [20000/60000 (33%)]\tLoss: 139.059697\n",
            "Train Epoch: 31 [30000/60000 (50%)]\tLoss: 130.724043\n",
            "Train Epoch: 31 [40000/60000 (67%)]\tLoss: 143.670723\n",
            "Train Epoch: 31 [50000/60000 (83%)]\tLoss: 129.361934\n",
            "====> Epoch: 31 Average loss: 136.9805\n",
            "====> Test set loss: 139.7864\n",
            "Train Epoch: 32 [0/60000 (0%)]\tLoss: 140.184531\n",
            "Train Epoch: 32 [10000/60000 (17%)]\tLoss: 134.143965\n",
            "Train Epoch: 32 [20000/60000 (33%)]\tLoss: 149.171074\n",
            "Train Epoch: 32 [30000/60000 (50%)]\tLoss: 140.781543\n",
            "Train Epoch: 32 [40000/60000 (67%)]\tLoss: 131.522314\n",
            "Train Epoch: 32 [50000/60000 (83%)]\tLoss: 135.301191\n",
            "====> Epoch: 32 Average loss: 136.6083\n",
            "====> Test set loss: 139.6466\n",
            "Train Epoch: 33 [0/60000 (0%)]\tLoss: 142.776680\n",
            "Train Epoch: 33 [10000/60000 (17%)]\tLoss: 129.357207\n",
            "Train Epoch: 33 [20000/60000 (33%)]\tLoss: 139.626982\n",
            "Train Epoch: 33 [30000/60000 (50%)]\tLoss: 135.276592\n",
            "Train Epoch: 33 [40000/60000 (67%)]\tLoss: 131.660254\n",
            "Train Epoch: 33 [50000/60000 (83%)]\tLoss: 144.748379\n",
            "====> Epoch: 33 Average loss: 136.5567\n",
            "====> Test set loss: 139.6555\n",
            "Train Epoch: 34 [0/60000 (0%)]\tLoss: 130.970010\n",
            "Train Epoch: 34 [10000/60000 (17%)]\tLoss: 137.160176\n",
            "Train Epoch: 34 [20000/60000 (33%)]\tLoss: 141.012617\n",
            "Train Epoch: 34 [30000/60000 (50%)]\tLoss: 126.321748\n",
            "Train Epoch: 34 [40000/60000 (67%)]\tLoss: 144.435625\n",
            "Train Epoch: 34 [50000/60000 (83%)]\tLoss: 138.459443\n",
            "====> Epoch: 34 Average loss: 136.3856\n",
            "====> Test set loss: 138.8143\n",
            "Train Epoch: 35 [0/60000 (0%)]\tLoss: 131.816006\n",
            "Train Epoch: 35 [10000/60000 (17%)]\tLoss: 142.491846\n",
            "Train Epoch: 35 [20000/60000 (33%)]\tLoss: 135.441484\n",
            "Train Epoch: 35 [30000/60000 (50%)]\tLoss: 136.797666\n",
            "Train Epoch: 35 [40000/60000 (67%)]\tLoss: 134.864248\n",
            "Train Epoch: 35 [50000/60000 (83%)]\tLoss: 127.844082\n",
            "====> Epoch: 35 Average loss: 136.1713\n",
            "====> Test set loss: 139.0057\n",
            "Train Epoch: 36 [0/60000 (0%)]\tLoss: 134.136875\n",
            "Train Epoch: 36 [10000/60000 (17%)]\tLoss: 132.132109\n",
            "Train Epoch: 36 [20000/60000 (33%)]\tLoss: 133.095498\n",
            "Train Epoch: 36 [30000/60000 (50%)]\tLoss: 135.006289\n",
            "Train Epoch: 36 [40000/60000 (67%)]\tLoss: 133.521211\n",
            "Train Epoch: 36 [50000/60000 (83%)]\tLoss: 136.601699\n",
            "====> Epoch: 36 Average loss: 136.1133\n",
            "====> Test set loss: 139.4600\n",
            "Train Epoch: 37 [0/60000 (0%)]\tLoss: 138.407871\n",
            "Train Epoch: 37 [10000/60000 (17%)]\tLoss: 135.823291\n",
            "Train Epoch: 37 [20000/60000 (33%)]\tLoss: 145.622471\n",
            "Train Epoch: 37 [30000/60000 (50%)]\tLoss: 133.651230\n",
            "Train Epoch: 37 [40000/60000 (67%)]\tLoss: 147.385479\n",
            "Train Epoch: 37 [50000/60000 (83%)]\tLoss: 139.283867\n",
            "====> Epoch: 37 Average loss: 135.9916\n",
            "====> Test set loss: 139.2208\n",
            "Train Epoch: 38 [0/60000 (0%)]\tLoss: 142.608818\n",
            "Train Epoch: 38 [10000/60000 (17%)]\tLoss: 131.354502\n",
            "Train Epoch: 38 [20000/60000 (33%)]\tLoss: 128.817627\n",
            "Train Epoch: 38 [30000/60000 (50%)]\tLoss: 136.680801\n",
            "Train Epoch: 38 [40000/60000 (67%)]\tLoss: 138.984639\n",
            "Train Epoch: 38 [50000/60000 (83%)]\tLoss: 137.471553\n",
            "====> Epoch: 38 Average loss: 136.1061\n",
            "====> Test set loss: 139.3005\n",
            "Train Epoch: 39 [0/60000 (0%)]\tLoss: 133.520156\n",
            "Train Epoch: 39 [10000/60000 (17%)]\tLoss: 135.900781\n",
            "Train Epoch: 39 [20000/60000 (33%)]\tLoss: 151.915938\n",
            "Train Epoch: 39 [30000/60000 (50%)]\tLoss: 133.664189\n",
            "Train Epoch: 39 [40000/60000 (67%)]\tLoss: 135.872920\n",
            "Train Epoch: 39 [50000/60000 (83%)]\tLoss: 138.995664\n",
            "====> Epoch: 39 Average loss: 135.7876\n",
            "====> Test set loss: 139.1317\n",
            "Train Epoch: 40 [0/60000 (0%)]\tLoss: 143.676992\n",
            "Train Epoch: 40 [10000/60000 (17%)]\tLoss: 136.259346\n",
            "Train Epoch: 40 [20000/60000 (33%)]\tLoss: 136.641309\n",
            "Train Epoch: 40 [30000/60000 (50%)]\tLoss: 135.703467\n",
            "Train Epoch: 40 [40000/60000 (67%)]\tLoss: 133.853369\n",
            "Train Epoch: 40 [50000/60000 (83%)]\tLoss: 134.475068\n",
            "====> Epoch: 40 Average loss: 135.5383\n",
            "====> Test set loss: 139.0296\n",
            "Train Epoch: 41 [0/60000 (0%)]\tLoss: 144.773496\n",
            "Train Epoch: 41 [10000/60000 (17%)]\tLoss: 126.654160\n",
            "Train Epoch: 41 [20000/60000 (33%)]\tLoss: 139.511367\n",
            "Train Epoch: 41 [30000/60000 (50%)]\tLoss: 140.662949\n",
            "Train Epoch: 41 [40000/60000 (67%)]\tLoss: 133.858291\n",
            "Train Epoch: 41 [50000/60000 (83%)]\tLoss: 138.060576\n",
            "====> Epoch: 41 Average loss: 135.5249\n",
            "====> Test set loss: 138.9409\n",
            "Train Epoch: 42 [0/60000 (0%)]\tLoss: 139.110459\n",
            "Train Epoch: 42 [10000/60000 (17%)]\tLoss: 131.981094\n",
            "Train Epoch: 42 [20000/60000 (33%)]\tLoss: 137.289258\n",
            "Train Epoch: 42 [30000/60000 (50%)]\tLoss: 130.847871\n",
            "Train Epoch: 42 [40000/60000 (67%)]\tLoss: 137.994893\n",
            "Train Epoch: 42 [50000/60000 (83%)]\tLoss: 140.645859\n",
            "====> Epoch: 42 Average loss: 135.4282\n",
            "====> Test set loss: 139.3026\n",
            "Train Epoch: 43 [0/60000 (0%)]\tLoss: 133.373887\n",
            "Train Epoch: 43 [10000/60000 (17%)]\tLoss: 131.597910\n",
            "Train Epoch: 43 [20000/60000 (33%)]\tLoss: 135.467754\n",
            "Train Epoch: 43 [30000/60000 (50%)]\tLoss: 134.711875\n",
            "Train Epoch: 43 [40000/60000 (67%)]\tLoss: 133.866113\n",
            "Train Epoch: 43 [50000/60000 (83%)]\tLoss: 134.391807\n",
            "====> Epoch: 43 Average loss: 135.7558\n",
            "====> Test set loss: 139.1940\n",
            "Train Epoch: 44 [0/60000 (0%)]\tLoss: 143.630391\n",
            "Train Epoch: 44 [10000/60000 (17%)]\tLoss: 128.648691\n",
            "Train Epoch: 44 [20000/60000 (33%)]\tLoss: 137.463721\n",
            "Train Epoch: 44 [30000/60000 (50%)]\tLoss: 132.450898\n",
            "Train Epoch: 44 [40000/60000 (67%)]\tLoss: 137.896172\n",
            "Train Epoch: 44 [50000/60000 (83%)]\tLoss: 128.799590\n",
            "====> Epoch: 44 Average loss: 135.2626\n",
            "====> Test set loss: 139.0124\n",
            "Train Epoch: 45 [0/60000 (0%)]\tLoss: 136.260654\n",
            "Train Epoch: 45 [10000/60000 (17%)]\tLoss: 148.185107\n",
            "Train Epoch: 45 [20000/60000 (33%)]\tLoss: 134.510361\n",
            "Train Epoch: 45 [30000/60000 (50%)]\tLoss: 137.559746\n",
            "Train Epoch: 45 [40000/60000 (67%)]\tLoss: 138.439365\n",
            "Train Epoch: 45 [50000/60000 (83%)]\tLoss: 135.540166\n",
            "====> Epoch: 45 Average loss: 135.3473\n",
            "====> Test set loss: 138.8383\n",
            "Train Epoch: 46 [0/60000 (0%)]\tLoss: 131.194473\n",
            "Train Epoch: 46 [10000/60000 (17%)]\tLoss: 145.749297\n",
            "Train Epoch: 46 [20000/60000 (33%)]\tLoss: 131.400937\n",
            "Train Epoch: 46 [30000/60000 (50%)]\tLoss: 142.780869\n",
            "Train Epoch: 46 [40000/60000 (67%)]\tLoss: 142.082627\n",
            "Train Epoch: 46 [50000/60000 (83%)]\tLoss: 131.287344\n",
            "====> Epoch: 46 Average loss: 135.0830\n",
            "====> Test set loss: 138.5697\n",
            "Train Epoch: 47 [0/60000 (0%)]\tLoss: 132.036045\n",
            "Train Epoch: 47 [10000/60000 (17%)]\tLoss: 126.764160\n",
            "Train Epoch: 47 [20000/60000 (33%)]\tLoss: 136.670625\n",
            "Train Epoch: 47 [30000/60000 (50%)]\tLoss: 136.246250\n",
            "Train Epoch: 47 [40000/60000 (67%)]\tLoss: 134.564531\n",
            "Train Epoch: 47 [50000/60000 (83%)]\tLoss: 134.931826\n",
            "====> Epoch: 47 Average loss: 135.0588\n",
            "====> Test set loss: 138.5033\n",
            "Train Epoch: 48 [0/60000 (0%)]\tLoss: 136.280029\n",
            "Train Epoch: 48 [10000/60000 (17%)]\tLoss: 137.460771\n",
            "Train Epoch: 48 [20000/60000 (33%)]\tLoss: 135.135059\n",
            "Train Epoch: 48 [30000/60000 (50%)]\tLoss: 132.986465\n",
            "Train Epoch: 48 [40000/60000 (67%)]\tLoss: 138.393887\n",
            "Train Epoch: 48 [50000/60000 (83%)]\tLoss: 139.565723\n",
            "====> Epoch: 48 Average loss: 134.8211\n",
            "====> Test set loss: 138.8039\n",
            "Train Epoch: 49 [0/60000 (0%)]\tLoss: 131.928115\n",
            "Train Epoch: 49 [10000/60000 (17%)]\tLoss: 138.852754\n",
            "Train Epoch: 49 [20000/60000 (33%)]\tLoss: 129.731836\n",
            "Train Epoch: 49 [30000/60000 (50%)]\tLoss: 131.540479\n",
            "Train Epoch: 49 [40000/60000 (67%)]\tLoss: 131.555166\n",
            "Train Epoch: 49 [50000/60000 (83%)]\tLoss: 141.180674\n",
            "====> Epoch: 49 Average loss: 134.7831\n",
            "====> Test set loss: 138.8289\n",
            "Train Epoch: 50 [0/60000 (0%)]\tLoss: 129.176680\n",
            "Train Epoch: 50 [10000/60000 (17%)]\tLoss: 125.802822\n",
            "Train Epoch: 50 [20000/60000 (33%)]\tLoss: 134.800010\n",
            "Train Epoch: 50 [30000/60000 (50%)]\tLoss: 136.837754\n",
            "Train Epoch: 50 [40000/60000 (67%)]\tLoss: 135.006895\n",
            "Train Epoch: 50 [50000/60000 (83%)]\tLoss: 143.232148\n",
            "====> Epoch: 50 Average loss: 134.6833\n",
            "====> Test set loss: 138.9147\n"
          ]
        }
      ],
      "source": [
        "for epoch in range(1, num_epochs + 1):\n",
        "    train(epoch)\n",
        "    test()"
      ]
    },
    {
      "cell_type": "code",
      "source": [
        "import matplotlib.pyplot as plt\n",
        "device = torch.device(\"cuda:0\" if torch.cuda.is_available() else \"cpu\")"
      ],
      "metadata": {
        "id": "pctjC7qfSyjw"
      },
      "execution_count": 28,
      "outputs": []
    },
    {
      "cell_type": "code",
      "execution_count": 29,
      "metadata": {
        "colab": {
          "base_uri": "https://localhost:8080/",
          "height": 466
        },
        "id": "SUKR-O7eCVVp",
        "outputId": "1cea0d2a-27e8-4789-9331-8a622194af45"
      },
      "outputs": [
        {
          "output_type": "stream",
          "name": "stdout",
          "text": [
            "<class 'torch.Tensor'>\n",
            "torch.Size([64, 784])\n"
          ]
        },
        {
          "output_type": "display_data",
          "data": {
            "text/plain": [
              "<Figure size 640x480 with 1 Axes>"
            ],
            "image/png": "[encoded data removed]"
          },
          "metadata": {}
        }
      ],
      "source": [
        "with torch.no_grad():\n",
        "    #z = torch.randn(64, 2).cuda()\n",
        "    z = torch.randn(64, 2).to(device)\n",
        "    #sample = vae.decoder(z).cuda()\n",
        "    sample = vae.decoder(z).to(device)\n",
        "    print(sample.__class__)\n",
        "    print(sample.size())\n",
        "\n",
        "    sample = sample.cpu() # use .cpu().numpy() to move off the GPU ## NOTE: moving to numpy is redundant and unhelpful \n",
        "    image = sample[0].reshape(28,28)    # shows the first of 64 randimly generated pictures\n",
        "    plt.imshow(image, cmap=\"gray\")\n",
        "  \n",
        "\n",
        "    #plt.imshow(sample[0].reshape(28,28), cmap=\"gray\")\n",
        "    #save_image(sample.view(64, 1, 28, 28), './samples/sample_' + '.png')"
      ]
    },
    {
      "cell_type": "code",
      "source": [
        "#plt.imshow(sample[0].reshape(28,28).cpu().numpy().reshape(28,28), cmap=\"gray\")\n",
        "\n",
        "images = sample[:5].reshape((-1, 28, 28))  # se\n",
        "\n",
        "fig, axes = plt.subplots(nrows=1, ncols=5)  # create a 4x4 grid of subplots\n",
        "for i, ax in enumerate(axes.flat):\n",
        "    ax.imshow(images[i], cmap='gray')  # display image on the current subplot\n",
        "\n",
        "[axi.set_axis_off() for axi in axes.ravel()] # kill axes h/t https://stackoverflow.com/questions/25862026/turn-off-axes-in-subplots\n",
        "fig.suptitle('Awesome title', fontsize=10, y=.65) # awesome title h/t https://www.geeksforgeeks.org/how-to-set-a-single-main-title-for-all-the-subplots-in-matplotlib/\n",
        "plt.show()"
      ],
      "metadata": {
        "colab": {
          "base_uri": "https://localhost:8080/",
          "height": 154
        },
        "id": "3v31ghJVWMqK",
        "outputId": "b11c9572-765c-415a-f367-9261449c8f7a"
      },
      "execution_count": 30,
      "outputs": [
        {
          "output_type": "display_data",
          "data": {
            "text/plain": [
              "<Figure size 640x480 with 5 Axes>"
            ],
            "image/png": "[encoded data removed]"
          },
          "metadata": {}
        }
      ]
    },
    {
      "cell_type": "code",
      "source": [
        "# now create five images similarly to MNIST_data_wrangling.ipynb"
      ],
      "metadata": {
        "id": "8M-W6kXSS1FO"
      },
      "execution_count": 31,
      "outputs": []
    },
    {
      "cell_type": "code",
      "source": [
        "## now create an image of estimated images and ground truth\n",
        "# read https://stackoverflow.com/questions/66667949/pytorch-mnist-autoencoder-to-learn-10-digit-classification\n",
        "\n",
        "\n",
        "## run first five training images through the encoder\n",
        "\n",
        "\n",
        "### from https://github.com/dataflowr/notebooks/blob/master/HW3/VAE_clustering_empty.ipynb\n",
        "\n",
        "def show(img):\n",
        "    npimg = img.numpy()\n",
        "    plt.imshow(np.transpose(npimg, (1,2,0)), interpolation='nearest')\n",
        "    plt.suptitle('Test set with reconstruction for z_dim=2', fontsize=10, y=.67)\n",
        "    plt.axis('off')\n",
        "    plt.show()\n",
        "\n",
        "def plot_reconstruction(vae, n=12):\n",
        "    \n",
        "    x,_ = next(iter(test_loader))\n",
        "    x = x[:n,:,:,:].to(device)\n",
        "    try:\n",
        "        out, _, _, log_p = vae(x.view(-1, image_size)) \n",
        "    except:\n",
        "        out, _, _ = vae(x.view(-1, image_size))\n",
        "    print(x.size()) \n",
        "    x_concat = torch.cat([x.view(-1, 1, 28, 28), out.view(-1, 1, 28, 28)], dim=0)\n",
        "    out_grid = torchvision.utils.make_grid(x_concat, nrow=12)#.cpu().data\n",
        "    show(out_grid)\n",
        "\n",
        "plot_reconstruction(vae)"
      ],
      "metadata": {
        "colab": {
          "base_uri": "https://localhost:8080/",
          "height": 181
        },
        "id": "nkKRKKD3Wh_j",
        "outputId": "07b14906-632c-4b37-bbd4-67b4d31aab2c"
      },
      "execution_count": 41,
      "outputs": [
        {
          "output_type": "stream",
          "name": "stdout",
          "text": [
            "torch.Size([12, 1, 28, 28])\n"
          ]
        },
        {
          "output_type": "display_data",
          "data": {
            "text/plain": [
              "<Figure size 640x480 with 1 Axes>"
            ],
            "image/png": "[encoded data removed]"
          },
          "metadata": {}
        }
      ]
    },
    {
      "cell_type": "code",
      "source": [],
      "metadata": {
        "id": "lY1u1fxOaMGh"
      },
      "execution_count": null,
      "outputs": []
    }
  ],
  "metadata": {
    "kernelspec": {
      "display_name": "Python 3",
      "language": "python",
      "name": "python3"
    },
    "language_info": {
      "codemirror_mode": {
        "name": "ipython",
        "version": 3
      },
      "file_extension": ".py",
      "mimetype": "text/x-python",
      "name": "python",
      "nbconvert_exporter": "python",
      "pygments_lexer": "ipython3",
      "version": "3.5.4"
    },
    "colab": {
      "provenance": []
    },
    "accelerator": "GPU",
    "gpuClass": "standard"
  },
  "nbformat": 4,
  "nbformat_minor": 0
}