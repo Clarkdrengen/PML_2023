{
  "cells": [
    {
      "cell_type": "code",
      "execution_count": 1,
      "metadata": {
        "colab": {
          "base_uri": "https://localhost:8080/"
        },
        "id": "CD77VzBXCVVj",
        "outputId": "52e49a09-5085-4e88-c6eb-bc89d5e7ff6c"
      },
      "outputs": [
        {
          "output_type": "stream",
          "name": "stdout",
          "text": [
            "Downloading http://yann.lecun.com/exdb/mnist/train-images-idx3-ubyte.gz\n",
            "Downloading http://yann.lecun.com/exdb/mnist/train-images-idx3-ubyte.gz to ./mnist_data/MNIST/raw/train-images-idx3-ubyte.gz\n"
          ]
        },
        {
          "output_type": "stream",
          "name": "stderr",
          "text": [
            "100%|██████████| 9912422/9912422 [00:00<00:00, 410097763.31it/s]"
          ]
        },
        {
          "output_type": "stream",
          "name": "stdout",
          "text": [
            "Extracting ./mnist_data/MNIST/raw/train-images-idx3-ubyte.gz to ./mnist_data/MNIST/raw\n"
          ]
        },
        {
          "output_type": "stream",
          "name": "stderr",
          "text": [
            "\n"
          ]
        },
        {
          "output_type": "stream",
          "name": "stdout",
          "text": [
            "\n",
            "Downloading http://yann.lecun.com/exdb/mnist/train-labels-idx1-ubyte.gz\n",
            "Downloading http://yann.lecun.com/exdb/mnist/train-labels-idx1-ubyte.gz to ./mnist_data/MNIST/raw/train-labels-idx1-ubyte.gz\n"
          ]
        },
        {
          "output_type": "stream",
          "name": "stderr",
          "text": [
            "100%|██████████| 28881/28881 [00:00<00:00, 39742681.70it/s]\n"
          ]
        },
        {
          "output_type": "stream",
          "name": "stdout",
          "text": [
            "Extracting ./mnist_data/MNIST/raw/train-labels-idx1-ubyte.gz to ./mnist_data/MNIST/raw\n",
            "\n",
            "Downloading http://yann.lecun.com/exdb/mnist/t10k-images-idx3-ubyte.gz\n",
            "Downloading http://yann.lecun.com/exdb/mnist/t10k-images-idx3-ubyte.gz to ./mnist_data/MNIST/raw/t10k-images-idx3-ubyte.gz\n"
          ]
        },
        {
          "output_type": "stream",
          "name": "stderr",
          "text": [
            "100%|██████████| 1648877/1648877 [00:00<00:00, 142739910.35it/s]"
          ]
        },
        {
          "output_type": "stream",
          "name": "stdout",
          "text": [
            "Extracting ./mnist_data/MNIST/raw/t10k-images-idx3-ubyte.gz to ./mnist_data/MNIST/raw\n"
          ]
        },
        {
          "output_type": "stream",
          "name": "stderr",
          "text": [
            "\n"
          ]
        },
        {
          "output_type": "stream",
          "name": "stdout",
          "text": [
            "\n",
            "Downloading http://yann.lecun.com/exdb/mnist/t10k-labels-idx1-ubyte.gz\n",
            "Downloading http://yann.lecun.com/exdb/mnist/t10k-labels-idx1-ubyte.gz to ./mnist_data/MNIST/raw/t10k-labels-idx1-ubyte.gz\n"
          ]
        },
        {
          "output_type": "stream",
          "name": "stderr",
          "text": [
            "100%|██████████| 4542/4542 [00:00<00:00, 2285880.58it/s]\n"
          ]
        },
        {
          "output_type": "stream",
          "name": "stdout",
          "text": [
            "Extracting ./mnist_data/MNIST/raw/t10k-labels-idx1-ubyte.gz to ./mnist_data/MNIST/raw\n",
            "\n"
          ]
        }
      ],
      "source": [
        "# prerequisites\n",
        "import torch\n",
        "import torch.nn as nn\n",
        "import torch.nn.functional as F\n",
        "import torch.optim as optim\n",
        "from torchvision import datasets, transforms\n",
        "from torch.autograd import Variable\n",
        "from torchvision.utils import save_image\n",
        "\n",
        "bs = 100\n",
        "# MNIST Dataset\n",
        "train_dataset = datasets.MNIST(root='./mnist_data/', train=True, transform=transforms.ToTensor(), download=True)\n",
        "test_dataset = datasets.MNIST(root='./mnist_data/', train=False, transform=transforms.ToTensor(), download=False)\n",
        "\n",
        "# Data Loader (Input Pipeline)\n",
        "train_loader = torch.utils.data.DataLoader(dataset=train_dataset, batch_size=bs, shuffle=True)\n",
        "test_loader = torch.utils.data.DataLoader(dataset=test_dataset, batch_size=bs, shuffle=False)"
      ]
    },
    {
      "cell_type": "code",
      "execution_count": 2,
      "metadata": {
        "id": "w_QfmQfFCVVm"
      },
      "outputs": [],
      "source": [
        "class VAE(nn.Module):\n",
        "    def __init__(self, x_dim, h_dim1, h_dim2, z_dim):\n",
        "        super(VAE, self).__init__()\n",
        "        \n",
        "        # encoder part\n",
        "        self.fc1 = nn.Linear(x_dim, h_dim1)\n",
        "        self.fc2 = nn.Linear(h_dim1, h_dim2)\n",
        "        self.fc31 = nn.Linear(h_dim2, z_dim)\n",
        "        self.fc32 = nn.Linear(h_dim2, z_dim)\n",
        "        # decoder part\n",
        "        self.fc4 = nn.Linear(z_dim, h_dim2)\n",
        "        self.fc5 = nn.Linear(h_dim2, h_dim1)\n",
        "        self.fc6 = nn.Linear(h_dim1, x_dim)\n",
        "        \n",
        "    def encoder(self, x):\n",
        "        h = F.relu(self.fc1(x))\n",
        "        h = F.relu(self.fc2(h))\n",
        "        return self.fc31(h), self.fc32(h) # mu, log_var\n",
        "    \n",
        "    def sampling(self, mu, log_var):\n",
        "        std = torch.exp(0.5*log_var)\n",
        "        eps = torch.randn_like(std)\n",
        "        return eps.mul(std).add_(mu) # return z sample\n",
        "        \n",
        "    def decoder(self, z):\n",
        "        h = F.relu(self.fc4(z))\n",
        "        h = F.relu(self.fc5(h))\n",
        "        return F.sigmoid(self.fc6(h)) \n",
        "    \n",
        "    def forward(self, x):\n",
        "        mu, log_var = self.encoder(x.view(-1, 784))\n",
        "        z = self.sampling(mu, log_var)\n",
        "        return self.decoder(z), mu, log_var\n",
        "\n",
        "# build model\n",
        "vae = VAE(x_dim=784, h_dim1= 512, h_dim2=256, z_dim=2)\n",
        "if torch.cuda.is_available():\n",
        "    vae.cuda()"
      ]
    },
    {
      "cell_type": "code",
      "execution_count": 3,
      "metadata": {
        "colab": {
          "base_uri": "https://localhost:8080/"
        },
        "id": "tpDxsTKbCVVn",
        "outputId": "332aa426-9b78-41a7-cb86-2ff8aad79607"
      },
      "outputs": [
        {
          "output_type": "execute_result",
          "data": {
            "text/plain": [
              "VAE(\n",
              "  (fc1): Linear(in_features=784, out_features=512, bias=True)\n",
              "  (fc2): Linear(in_features=512, out_features=256, bias=True)\n",
              "  (fc31): Linear(in_features=256, out_features=2, bias=True)\n",
              "  (fc32): Linear(in_features=256, out_features=2, bias=True)\n",
              "  (fc4): Linear(in_features=2, out_features=256, bias=True)\n",
              "  (fc5): Linear(in_features=256, out_features=512, bias=True)\n",
              "  (fc6): Linear(in_features=512, out_features=784, bias=True)\n",
              ")"
            ]
          },
          "metadata": {},
          "execution_count": 3
        }
      ],
      "source": [
        "vae"
      ]
    },
    {
      "cell_type": "code",
      "execution_count": 4,
      "metadata": {
        "id": "57_yzNE3CVVo"
      },
      "outputs": [],
      "source": [
        "optimizer = optim.Adam(vae.parameters())\n",
        "# return reconstruction error + KL divergence losses\n",
        "def loss_function(recon_x, x, mu, log_var):\n",
        "    BCE = F.binary_cross_entropy(recon_x, x.view(-1, 784), reduction='sum')\n",
        "    KLD = -0.5 * torch.sum(1 + log_var - mu.pow(2) - log_var.exp())\n",
        "    return BCE + KLD"
      ]
    },
    {
      "cell_type": "code",
      "execution_count": 5,
      "metadata": {
        "id": "-peubnfICVVo"
      },
      "outputs": [],
      "source": [
        "def train(epoch):\n",
        "    vae.train()\n",
        "    train_loss = 0\n",
        "    for batch_idx, (data, _) in enumerate(train_loader):\n",
        "        data = data.cuda()\n",
        "        optimizer.zero_grad()\n",
        "        \n",
        "        recon_batch, mu, log_var = vae(data)\n",
        "        loss = loss_function(recon_batch, data, mu, log_var)\n",
        "        \n",
        "        loss.backward()\n",
        "        train_loss += loss.item()\n",
        "        optimizer.step()\n",
        "        \n",
        "        if batch_idx % 100 == 0:\n",
        "            print('Train Epoch: {} [{}/{} ({:.0f}%)]\\tLoss: {:.6f}'.format(\n",
        "                epoch, batch_idx * len(data), len(train_loader.dataset),\n",
        "                100. * batch_idx / len(train_loader), loss.item() / len(data)))\n",
        "    print('====> Epoch: {} Average loss: {:.4f}'.format(epoch, train_loss / len(train_loader.dataset)))"
      ]
    },
    {
      "cell_type": "code",
      "execution_count": 6,
      "metadata": {
        "id": "uhEPsQmSCVVo"
      },
      "outputs": [],
      "source": [
        "def test():\n",
        "    vae.eval()\n",
        "    test_loss= 0\n",
        "    with torch.no_grad():\n",
        "        for data, _ in test_loader:\n",
        "            data = data.cuda()\n",
        "            recon, mu, log_var = vae(data)\n",
        "            \n",
        "            # sum up batch loss\n",
        "            test_loss += loss_function(recon, data, mu, log_var).item()\n",
        "        \n",
        "    test_loss /= len(test_loader.dataset)\n",
        "    print('====> Test set loss: {:.4f}'.format(test_loss))"
      ]
    },
    {
      "cell_type": "code",
      "execution_count": 7,
      "metadata": {
        "scrolled": true,
        "colab": {
          "base_uri": "https://localhost:8080/"
        },
        "id": "R_kXSrxoCVVp",
        "outputId": "de3b599f-d7c2-421e-b099-5bebf4ce6495"
      },
      "outputs": [
        {
          "output_type": "stream",
          "name": "stdout",
          "text": [
            "Train Epoch: 1 [0/60000 (0%)]\tLoss: 544.197266\n",
            "Train Epoch: 1 [10000/60000 (17%)]\tLoss: 189.492891\n",
            "Train Epoch: 1 [20000/60000 (33%)]\tLoss: 177.939141\n",
            "Train Epoch: 1 [30000/60000 (50%)]\tLoss: 176.517246\n",
            "Train Epoch: 1 [40000/60000 (67%)]\tLoss: 170.871895\n",
            "Train Epoch: 1 [50000/60000 (83%)]\tLoss: 173.266738\n",
            "====> Epoch: 1 Average loss: 181.4250\n",
            "====> Test set loss: 163.3361\n",
            "Train Epoch: 2 [0/60000 (0%)]\tLoss: 165.831562\n",
            "Train Epoch: 2 [10000/60000 (17%)]\tLoss: 160.795127\n",
            "Train Epoch: 2 [20000/60000 (33%)]\tLoss: 160.542480\n",
            "Train Epoch: 2 [30000/60000 (50%)]\tLoss: 164.061387\n",
            "Train Epoch: 2 [40000/60000 (67%)]\tLoss: 163.402480\n",
            "Train Epoch: 2 [50000/60000 (83%)]\tLoss: 158.658867\n",
            "====> Epoch: 2 Average loss: 158.4876\n",
            "====> Test set loss: 155.0297\n",
            "Train Epoch: 3 [0/60000 (0%)]\tLoss: 149.603945\n",
            "Train Epoch: 3 [10000/60000 (17%)]\tLoss: 162.194922\n",
            "Train Epoch: 3 [20000/60000 (33%)]\tLoss: 148.262803\n",
            "Train Epoch: 3 [30000/60000 (50%)]\tLoss: 160.278574\n",
            "Train Epoch: 3 [40000/60000 (67%)]\tLoss: 153.973320\n",
            "Train Epoch: 3 [50000/60000 (83%)]\tLoss: 150.455625\n",
            "====> Epoch: 3 Average loss: 153.1311\n",
            "====> Test set loss: 151.1818\n",
            "Train Epoch: 4 [0/60000 (0%)]\tLoss: 151.227969\n",
            "Train Epoch: 4 [10000/60000 (17%)]\tLoss: 144.097051\n",
            "Train Epoch: 4 [20000/60000 (33%)]\tLoss: 158.969307\n",
            "Train Epoch: 4 [30000/60000 (50%)]\tLoss: 148.979980\n",
            "Train Epoch: 4 [40000/60000 (67%)]\tLoss: 156.608818\n",
            "Train Epoch: 4 [50000/60000 (83%)]\tLoss: 138.742773\n",
            "====> Epoch: 4 Average loss: 150.0825\n",
            "====> Test set loss: 148.9035\n",
            "Train Epoch: 5 [0/60000 (0%)]\tLoss: 141.744180\n",
            "Train Epoch: 5 [10000/60000 (17%)]\tLoss: 154.120928\n",
            "Train Epoch: 5 [20000/60000 (33%)]\tLoss: 142.898408\n",
            "Train Epoch: 5 [30000/60000 (50%)]\tLoss: 147.590244\n",
            "Train Epoch: 5 [40000/60000 (67%)]\tLoss: 137.798369\n",
            "Train Epoch: 5 [50000/60000 (83%)]\tLoss: 153.238340\n",
            "====> Epoch: 5 Average loss: 148.0134\n",
            "====> Test set loss: 147.7367\n",
            "Train Epoch: 6 [0/60000 (0%)]\tLoss: 149.657295\n",
            "Train Epoch: 6 [10000/60000 (17%)]\tLoss: 138.326504\n",
            "Train Epoch: 6 [20000/60000 (33%)]\tLoss: 153.590635\n",
            "Train Epoch: 6 [30000/60000 (50%)]\tLoss: 152.703809\n",
            "Train Epoch: 6 [40000/60000 (67%)]\tLoss: 146.249521\n",
            "Train Epoch: 6 [50000/60000 (83%)]\tLoss: 153.110674\n",
            "====> Epoch: 6 Average loss: 146.4114\n",
            "====> Test set loss: 146.0708\n",
            "Train Epoch: 7 [0/60000 (0%)]\tLoss: 146.864033\n",
            "Train Epoch: 7 [10000/60000 (17%)]\tLoss: 152.257979\n",
            "Train Epoch: 7 [20000/60000 (33%)]\tLoss: 146.492295\n",
            "Train Epoch: 7 [30000/60000 (50%)]\tLoss: 142.333623\n",
            "Train Epoch: 7 [40000/60000 (67%)]\tLoss: 149.842617\n",
            "Train Epoch: 7 [50000/60000 (83%)]\tLoss: 146.621328\n",
            "====> Epoch: 7 Average loss: 145.0694\n",
            "====> Test set loss: 144.8044\n",
            "Train Epoch: 8 [0/60000 (0%)]\tLoss: 138.024736\n",
            "Train Epoch: 8 [10000/60000 (17%)]\tLoss: 142.445361\n",
            "Train Epoch: 8 [20000/60000 (33%)]\tLoss: 145.963223\n",
            "Train Epoch: 8 [30000/60000 (50%)]\tLoss: 145.716035\n",
            "Train Epoch: 8 [40000/60000 (67%)]\tLoss: 147.286191\n",
            "Train Epoch: 8 [50000/60000 (83%)]\tLoss: 142.590898\n",
            "====> Epoch: 8 Average loss: 144.2504\n",
            "====> Test set loss: 145.0442\n",
            "Train Epoch: 9 [0/60000 (0%)]\tLoss: 142.444092\n",
            "Train Epoch: 9 [10000/60000 (17%)]\tLoss: 140.767617\n",
            "Train Epoch: 9 [20000/60000 (33%)]\tLoss: 137.791201\n",
            "Train Epoch: 9 [30000/60000 (50%)]\tLoss: 139.376436\n",
            "Train Epoch: 9 [40000/60000 (67%)]\tLoss: 140.560010\n",
            "Train Epoch: 9 [50000/60000 (83%)]\tLoss: 141.180225\n",
            "====> Epoch: 9 Average loss: 143.4211\n",
            "====> Test set loss: 144.0255\n",
            "Train Epoch: 10 [0/60000 (0%)]\tLoss: 141.782373\n",
            "Train Epoch: 10 [10000/60000 (17%)]\tLoss: 143.150537\n",
            "Train Epoch: 10 [20000/60000 (33%)]\tLoss: 144.440596\n",
            "Train Epoch: 10 [30000/60000 (50%)]\tLoss: 149.216523\n",
            "Train Epoch: 10 [40000/60000 (67%)]\tLoss: 142.413574\n",
            "Train Epoch: 10 [50000/60000 (83%)]\tLoss: 138.415166\n",
            "====> Epoch: 10 Average loss: 142.7013\n",
            "====> Test set loss: 142.9249\n",
            "Train Epoch: 11 [0/60000 (0%)]\tLoss: 139.701768\n",
            "Train Epoch: 11 [10000/60000 (17%)]\tLoss: 137.187100\n",
            "Train Epoch: 11 [20000/60000 (33%)]\tLoss: 148.597520\n",
            "Train Epoch: 11 [30000/60000 (50%)]\tLoss: 138.874043\n",
            "Train Epoch: 11 [40000/60000 (67%)]\tLoss: 151.009639\n",
            "Train Epoch: 11 [50000/60000 (83%)]\tLoss: 139.560967\n",
            "====> Epoch: 11 Average loss: 142.1219\n",
            "====> Test set loss: 143.3063\n",
            "Train Epoch: 12 [0/60000 (0%)]\tLoss: 144.068779\n",
            "Train Epoch: 12 [10000/60000 (17%)]\tLoss: 148.408115\n",
            "Train Epoch: 12 [20000/60000 (33%)]\tLoss: 141.544600\n",
            "Train Epoch: 12 [30000/60000 (50%)]\tLoss: 134.144189\n",
            "Train Epoch: 12 [40000/60000 (67%)]\tLoss: 143.881885\n",
            "Train Epoch: 12 [50000/60000 (83%)]\tLoss: 146.262979\n",
            "====> Epoch: 12 Average loss: 141.6090\n",
            "====> Test set loss: 142.1752\n",
            "Train Epoch: 13 [0/60000 (0%)]\tLoss: 141.680449\n",
            "Train Epoch: 13 [10000/60000 (17%)]\tLoss: 149.168633\n",
            "Train Epoch: 13 [20000/60000 (33%)]\tLoss: 135.645322\n",
            "Train Epoch: 13 [30000/60000 (50%)]\tLoss: 139.650059\n",
            "Train Epoch: 13 [40000/60000 (67%)]\tLoss: 139.148008\n",
            "Train Epoch: 13 [50000/60000 (83%)]\tLoss: 141.358555\n",
            "====> Epoch: 13 Average loss: 140.9872\n",
            "====> Test set loss: 141.9960\n",
            "Train Epoch: 14 [0/60000 (0%)]\tLoss: 140.209902\n",
            "Train Epoch: 14 [10000/60000 (17%)]\tLoss: 139.754932\n",
            "Train Epoch: 14 [20000/60000 (33%)]\tLoss: 137.625059\n",
            "Train Epoch: 14 [30000/60000 (50%)]\tLoss: 141.351826\n",
            "Train Epoch: 14 [40000/60000 (67%)]\tLoss: 144.221670\n",
            "Train Epoch: 14 [50000/60000 (83%)]\tLoss: 131.939980\n",
            "====> Epoch: 14 Average loss: 140.5413\n",
            "====> Test set loss: 141.7666\n",
            "Train Epoch: 15 [0/60000 (0%)]\tLoss: 136.651992\n",
            "Train Epoch: 15 [10000/60000 (17%)]\tLoss: 148.912500\n",
            "Train Epoch: 15 [20000/60000 (33%)]\tLoss: 140.974326\n",
            "Train Epoch: 15 [30000/60000 (50%)]\tLoss: 143.480049\n",
            "Train Epoch: 15 [40000/60000 (67%)]\tLoss: 143.282979\n",
            "Train Epoch: 15 [50000/60000 (83%)]\tLoss: 145.637197\n",
            "====> Epoch: 15 Average loss: 140.3196\n",
            "====> Test set loss: 141.1320\n",
            "Train Epoch: 16 [0/60000 (0%)]\tLoss: 142.505977\n",
            "Train Epoch: 16 [10000/60000 (17%)]\tLoss: 136.544375\n",
            "Train Epoch: 16 [20000/60000 (33%)]\tLoss: 137.884932\n",
            "Train Epoch: 16 [30000/60000 (50%)]\tLoss: 143.943936\n",
            "Train Epoch: 16 [40000/60000 (67%)]\tLoss: 141.895664\n",
            "Train Epoch: 16 [50000/60000 (83%)]\tLoss: 140.744111\n",
            "====> Epoch: 16 Average loss: 139.9208\n",
            "====> Test set loss: 141.2032\n",
            "Train Epoch: 17 [0/60000 (0%)]\tLoss: 135.169355\n",
            "Train Epoch: 17 [10000/60000 (17%)]\tLoss: 138.464365\n",
            "Train Epoch: 17 [20000/60000 (33%)]\tLoss: 133.152256\n",
            "Train Epoch: 17 [30000/60000 (50%)]\tLoss: 140.344561\n",
            "Train Epoch: 17 [40000/60000 (67%)]\tLoss: 138.526416\n",
            "Train Epoch: 17 [50000/60000 (83%)]\tLoss: 136.707764\n",
            "====> Epoch: 17 Average loss: 139.5199\n",
            "====> Test set loss: 141.3244\n",
            "Train Epoch: 18 [0/60000 (0%)]\tLoss: 142.484033\n",
            "Train Epoch: 18 [10000/60000 (17%)]\tLoss: 136.813994\n",
            "Train Epoch: 18 [20000/60000 (33%)]\tLoss: 136.251826\n",
            "Train Epoch: 18 [30000/60000 (50%)]\tLoss: 134.751299\n",
            "Train Epoch: 18 [40000/60000 (67%)]\tLoss: 138.772852\n",
            "Train Epoch: 18 [50000/60000 (83%)]\tLoss: 145.008301\n",
            "====> Epoch: 18 Average loss: 139.2066\n",
            "====> Test set loss: 140.3976\n",
            "Train Epoch: 19 [0/60000 (0%)]\tLoss: 141.973916\n",
            "Train Epoch: 19 [10000/60000 (17%)]\tLoss: 135.532324\n",
            "Train Epoch: 19 [20000/60000 (33%)]\tLoss: 139.828525\n",
            "Train Epoch: 19 [30000/60000 (50%)]\tLoss: 145.478545\n",
            "Train Epoch: 19 [40000/60000 (67%)]\tLoss: 137.335908\n",
            "Train Epoch: 19 [50000/60000 (83%)]\tLoss: 139.392383\n",
            "====> Epoch: 19 Average loss: 138.9761\n",
            "====> Test set loss: 140.0348\n",
            "Train Epoch: 20 [0/60000 (0%)]\tLoss: 135.875381\n",
            "Train Epoch: 20 [10000/60000 (17%)]\tLoss: 137.512529\n",
            "Train Epoch: 20 [20000/60000 (33%)]\tLoss: 137.878740\n",
            "Train Epoch: 20 [30000/60000 (50%)]\tLoss: 138.864932\n",
            "Train Epoch: 20 [40000/60000 (67%)]\tLoss: 127.567295\n",
            "Train Epoch: 20 [50000/60000 (83%)]\tLoss: 138.674326\n",
            "====> Epoch: 20 Average loss: 138.6332\n",
            "====> Test set loss: 140.1489\n",
            "Train Epoch: 21 [0/60000 (0%)]\tLoss: 139.290850\n",
            "Train Epoch: 21 [10000/60000 (17%)]\tLoss: 137.013936\n",
            "Train Epoch: 21 [20000/60000 (33%)]\tLoss: 137.209062\n",
            "Train Epoch: 21 [30000/60000 (50%)]\tLoss: 134.364043\n",
            "Train Epoch: 21 [40000/60000 (67%)]\tLoss: 134.876494\n",
            "Train Epoch: 21 [50000/60000 (83%)]\tLoss: 130.178369\n",
            "====> Epoch: 21 Average loss: 138.2819\n",
            "====> Test set loss: 139.9039\n",
            "Train Epoch: 22 [0/60000 (0%)]\tLoss: 135.318262\n",
            "Train Epoch: 22 [10000/60000 (17%)]\tLoss: 135.465273\n",
            "Train Epoch: 22 [20000/60000 (33%)]\tLoss: 135.954111\n",
            "Train Epoch: 22 [30000/60000 (50%)]\tLoss: 147.433574\n",
            "Train Epoch: 22 [40000/60000 (67%)]\tLoss: 134.035010\n",
            "Train Epoch: 22 [50000/60000 (83%)]\tLoss: 135.554824\n",
            "====> Epoch: 22 Average loss: 138.1165\n",
            "====> Test set loss: 139.8971\n",
            "Train Epoch: 23 [0/60000 (0%)]\tLoss: 141.558809\n",
            "Train Epoch: 23 [10000/60000 (17%)]\tLoss: 132.560850\n",
            "Train Epoch: 23 [20000/60000 (33%)]\tLoss: 134.478984\n",
            "Train Epoch: 23 [30000/60000 (50%)]\tLoss: 143.280059\n",
            "Train Epoch: 23 [40000/60000 (67%)]\tLoss: 135.319902\n",
            "Train Epoch: 23 [50000/60000 (83%)]\tLoss: 134.055459\n",
            "====> Epoch: 23 Average loss: 137.8628\n",
            "====> Test set loss: 139.6688\n",
            "Train Epoch: 24 [0/60000 (0%)]\tLoss: 137.933291\n",
            "Train Epoch: 24 [10000/60000 (17%)]\tLoss: 137.496055\n",
            "Train Epoch: 24 [20000/60000 (33%)]\tLoss: 133.948271\n",
            "Train Epoch: 24 [30000/60000 (50%)]\tLoss: 137.910049\n",
            "Train Epoch: 24 [40000/60000 (67%)]\tLoss: 136.704805\n",
            "Train Epoch: 24 [50000/60000 (83%)]\tLoss: 128.455918\n",
            "====> Epoch: 24 Average loss: 137.8209\n",
            "====> Test set loss: 139.5859\n",
            "Train Epoch: 25 [0/60000 (0%)]\tLoss: 145.805166\n",
            "Train Epoch: 25 [10000/60000 (17%)]\tLoss: 140.778857\n",
            "Train Epoch: 25 [20000/60000 (33%)]\tLoss: 136.780166\n",
            "Train Epoch: 25 [30000/60000 (50%)]\tLoss: 134.326426\n",
            "Train Epoch: 25 [40000/60000 (67%)]\tLoss: 138.036748\n",
            "Train Epoch: 25 [50000/60000 (83%)]\tLoss: 143.170137\n",
            "====> Epoch: 25 Average loss: 137.5251\n",
            "====> Test set loss: 139.5484\n",
            "Train Epoch: 26 [0/60000 (0%)]\tLoss: 140.834160\n",
            "Train Epoch: 26 [10000/60000 (17%)]\tLoss: 138.273525\n",
            "Train Epoch: 26 [20000/60000 (33%)]\tLoss: 142.004033\n",
            "Train Epoch: 26 [30000/60000 (50%)]\tLoss: 140.887422\n",
            "Train Epoch: 26 [40000/60000 (67%)]\tLoss: 126.466260\n",
            "Train Epoch: 26 [50000/60000 (83%)]\tLoss: 133.399219\n",
            "====> Epoch: 26 Average loss: 137.7607\n",
            "====> Test set loss: 139.2889\n",
            "Train Epoch: 27 [0/60000 (0%)]\tLoss: 142.041357\n",
            "Train Epoch: 27 [10000/60000 (17%)]\tLoss: 139.063350\n",
            "Train Epoch: 27 [20000/60000 (33%)]\tLoss: 138.714531\n",
            "Train Epoch: 27 [30000/60000 (50%)]\tLoss: 136.757285\n",
            "Train Epoch: 27 [40000/60000 (67%)]\tLoss: 133.299180\n",
            "Train Epoch: 27 [50000/60000 (83%)]\tLoss: 143.485352\n",
            "====> Epoch: 27 Average loss: 137.2544\n",
            "====> Test set loss: 139.2818\n",
            "Train Epoch: 28 [0/60000 (0%)]\tLoss: 134.022168\n",
            "Train Epoch: 28 [10000/60000 (17%)]\tLoss: 132.050645\n",
            "Train Epoch: 28 [20000/60000 (33%)]\tLoss: 134.870850\n",
            "Train Epoch: 28 [30000/60000 (50%)]\tLoss: 139.252959\n",
            "Train Epoch: 28 [40000/60000 (67%)]\tLoss: 139.830615\n",
            "Train Epoch: 28 [50000/60000 (83%)]\tLoss: 143.743623\n",
            "====> Epoch: 28 Average loss: 137.0953\n",
            "====> Test set loss: 139.0274\n",
            "Train Epoch: 29 [0/60000 (0%)]\tLoss: 133.474199\n",
            "Train Epoch: 29 [10000/60000 (17%)]\tLoss: 138.978887\n",
            "Train Epoch: 29 [20000/60000 (33%)]\tLoss: 136.262549\n",
            "Train Epoch: 29 [30000/60000 (50%)]\tLoss: 139.218193\n",
            "Train Epoch: 29 [40000/60000 (67%)]\tLoss: 138.164365\n",
            "Train Epoch: 29 [50000/60000 (83%)]\tLoss: 130.744814\n",
            "====> Epoch: 29 Average loss: 136.9236\n",
            "====> Test set loss: 138.8738\n",
            "Train Epoch: 30 [0/60000 (0%)]\tLoss: 129.255508\n",
            "Train Epoch: 30 [10000/60000 (17%)]\tLoss: 139.699697\n",
            "Train Epoch: 30 [20000/60000 (33%)]\tLoss: 130.068916\n",
            "Train Epoch: 30 [30000/60000 (50%)]\tLoss: 141.060020\n",
            "Train Epoch: 30 [40000/60000 (67%)]\tLoss: 138.709111\n",
            "Train Epoch: 30 [50000/60000 (83%)]\tLoss: 136.688623\n",
            "====> Epoch: 30 Average loss: 136.9159\n",
            "====> Test set loss: 139.4364\n",
            "Train Epoch: 31 [0/60000 (0%)]\tLoss: 139.692793\n",
            "Train Epoch: 31 [10000/60000 (17%)]\tLoss: 143.750342\n",
            "Train Epoch: 31 [20000/60000 (33%)]\tLoss: 137.121504\n",
            "Train Epoch: 31 [30000/60000 (50%)]\tLoss: 136.823408\n",
            "Train Epoch: 31 [40000/60000 (67%)]\tLoss: 141.057422\n",
            "Train Epoch: 31 [50000/60000 (83%)]\tLoss: 139.649912\n",
            "====> Epoch: 31 Average loss: 136.6501\n",
            "====> Test set loss: 138.7563\n",
            "Train Epoch: 32 [0/60000 (0%)]\tLoss: 138.025020\n",
            "Train Epoch: 32 [10000/60000 (17%)]\tLoss: 133.161484\n",
            "Train Epoch: 32 [20000/60000 (33%)]\tLoss: 136.735195\n",
            "Train Epoch: 32 [30000/60000 (50%)]\tLoss: 128.674502\n",
            "Train Epoch: 32 [40000/60000 (67%)]\tLoss: 134.645840\n",
            "Train Epoch: 32 [50000/60000 (83%)]\tLoss: 143.806133\n",
            "====> Epoch: 32 Average loss: 136.5869\n",
            "====> Test set loss: 139.2449\n",
            "Train Epoch: 33 [0/60000 (0%)]\tLoss: 136.759258\n",
            "Train Epoch: 33 [10000/60000 (17%)]\tLoss: 130.063203\n",
            "Train Epoch: 33 [20000/60000 (33%)]\tLoss: 135.058770\n",
            "Train Epoch: 33 [30000/60000 (50%)]\tLoss: 136.851514\n",
            "Train Epoch: 33 [40000/60000 (67%)]\tLoss: 135.450459\n",
            "Train Epoch: 33 [50000/60000 (83%)]\tLoss: 134.408594\n",
            "====> Epoch: 33 Average loss: 136.6197\n",
            "====> Test set loss: 139.1636\n",
            "Train Epoch: 34 [0/60000 (0%)]\tLoss: 133.044111\n",
            "Train Epoch: 34 [10000/60000 (17%)]\tLoss: 143.094687\n",
            "Train Epoch: 34 [20000/60000 (33%)]\tLoss: 147.089687\n",
            "Train Epoch: 34 [30000/60000 (50%)]\tLoss: 136.415547\n",
            "Train Epoch: 34 [40000/60000 (67%)]\tLoss: 135.368252\n",
            "Train Epoch: 34 [50000/60000 (83%)]\tLoss: 140.455322\n",
            "====> Epoch: 34 Average loss: 136.4677\n",
            "====> Test set loss: 138.9552\n",
            "Train Epoch: 35 [0/60000 (0%)]\tLoss: 137.638184\n",
            "Train Epoch: 35 [10000/60000 (17%)]\tLoss: 130.102666\n",
            "Train Epoch: 35 [20000/60000 (33%)]\tLoss: 133.275371\n",
            "Train Epoch: 35 [30000/60000 (50%)]\tLoss: 136.885420\n",
            "Train Epoch: 35 [40000/60000 (67%)]\tLoss: 135.178799\n",
            "Train Epoch: 35 [50000/60000 (83%)]\tLoss: 139.330010\n",
            "====> Epoch: 35 Average loss: 136.0921\n",
            "====> Test set loss: 139.0815\n",
            "Train Epoch: 36 [0/60000 (0%)]\tLoss: 139.222803\n",
            "Train Epoch: 36 [10000/60000 (17%)]\tLoss: 128.959688\n",
            "Train Epoch: 36 [20000/60000 (33%)]\tLoss: 130.963066\n",
            "Train Epoch: 36 [30000/60000 (50%)]\tLoss: 139.114180\n",
            "Train Epoch: 36 [40000/60000 (67%)]\tLoss: 130.663262\n",
            "Train Epoch: 36 [50000/60000 (83%)]\tLoss: 141.738740\n",
            "====> Epoch: 36 Average loss: 136.1094\n",
            "====> Test set loss: 138.7785\n",
            "Train Epoch: 37 [0/60000 (0%)]\tLoss: 141.351875\n",
            "Train Epoch: 37 [10000/60000 (17%)]\tLoss: 144.179229\n",
            "Train Epoch: 37 [20000/60000 (33%)]\tLoss: 138.084502\n",
            "Train Epoch: 37 [30000/60000 (50%)]\tLoss: 129.655791\n",
            "Train Epoch: 37 [40000/60000 (67%)]\tLoss: 134.746270\n",
            "Train Epoch: 37 [50000/60000 (83%)]\tLoss: 139.658896\n",
            "====> Epoch: 37 Average loss: 135.9724\n",
            "====> Test set loss: 138.7292\n",
            "Train Epoch: 38 [0/60000 (0%)]\tLoss: 140.302686\n",
            "Train Epoch: 38 [10000/60000 (17%)]\tLoss: 132.221494\n",
            "Train Epoch: 38 [20000/60000 (33%)]\tLoss: 135.201982\n",
            "Train Epoch: 38 [30000/60000 (50%)]\tLoss: 134.422861\n",
            "Train Epoch: 38 [40000/60000 (67%)]\tLoss: 135.779258\n",
            "Train Epoch: 38 [50000/60000 (83%)]\tLoss: 132.321006\n",
            "====> Epoch: 38 Average loss: 135.9107\n",
            "====> Test set loss: 138.5349\n",
            "Train Epoch: 39 [0/60000 (0%)]\tLoss: 131.819453\n",
            "Train Epoch: 39 [10000/60000 (17%)]\tLoss: 134.312236\n",
            "Train Epoch: 39 [20000/60000 (33%)]\tLoss: 140.078672\n",
            "Train Epoch: 39 [30000/60000 (50%)]\tLoss: 139.226836\n",
            "Train Epoch: 39 [40000/60000 (67%)]\tLoss: 140.551465\n",
            "Train Epoch: 39 [50000/60000 (83%)]\tLoss: 132.559473\n",
            "====> Epoch: 39 Average loss: 135.5569\n",
            "====> Test set loss: 138.7671\n",
            "Train Epoch: 40 [0/60000 (0%)]\tLoss: 127.061309\n",
            "Train Epoch: 40 [10000/60000 (17%)]\tLoss: 122.862402\n",
            "Train Epoch: 40 [20000/60000 (33%)]\tLoss: 130.316533\n",
            "Train Epoch: 40 [30000/60000 (50%)]\tLoss: 130.575693\n",
            "Train Epoch: 40 [40000/60000 (67%)]\tLoss: 142.379199\n",
            "Train Epoch: 40 [50000/60000 (83%)]\tLoss: 131.435264\n",
            "====> Epoch: 40 Average loss: 135.3614\n",
            "====> Test set loss: 138.5587\n",
            "Train Epoch: 41 [0/60000 (0%)]\tLoss: 138.730781\n",
            "Train Epoch: 41 [10000/60000 (17%)]\tLoss: 139.197002\n",
            "Train Epoch: 41 [20000/60000 (33%)]\tLoss: 142.062725\n",
            "Train Epoch: 41 [30000/60000 (50%)]\tLoss: 130.198105\n",
            "Train Epoch: 41 [40000/60000 (67%)]\tLoss: 135.410732\n",
            "Train Epoch: 41 [50000/60000 (83%)]\tLoss: 133.050273\n",
            "====> Epoch: 41 Average loss: 135.4110\n",
            "====> Test set loss: 138.1910\n",
            "Train Epoch: 42 [0/60000 (0%)]\tLoss: 132.285215\n",
            "Train Epoch: 42 [10000/60000 (17%)]\tLoss: 134.170234\n",
            "Train Epoch: 42 [20000/60000 (33%)]\tLoss: 129.369424\n",
            "Train Epoch: 42 [30000/60000 (50%)]\tLoss: 135.467607\n",
            "Train Epoch: 42 [40000/60000 (67%)]\tLoss: 133.853486\n",
            "Train Epoch: 42 [50000/60000 (83%)]\tLoss: 131.304258\n",
            "====> Epoch: 42 Average loss: 135.3015\n",
            "====> Test set loss: 138.5384\n",
            "Train Epoch: 43 [0/60000 (0%)]\tLoss: 136.734668\n",
            "Train Epoch: 43 [10000/60000 (17%)]\tLoss: 132.815469\n",
            "Train Epoch: 43 [20000/60000 (33%)]\tLoss: 132.357002\n",
            "Train Epoch: 43 [30000/60000 (50%)]\tLoss: 144.450264\n",
            "Train Epoch: 43 [40000/60000 (67%)]\tLoss: 134.418320\n",
            "Train Epoch: 43 [50000/60000 (83%)]\tLoss: 132.730801\n",
            "====> Epoch: 43 Average loss: 135.3458\n",
            "====> Test set loss: 138.2165\n",
            "Train Epoch: 44 [0/60000 (0%)]\tLoss: 138.046143\n",
            "Train Epoch: 44 [10000/60000 (17%)]\tLoss: 135.864365\n",
            "Train Epoch: 44 [20000/60000 (33%)]\tLoss: 136.415791\n",
            "Train Epoch: 44 [30000/60000 (50%)]\tLoss: 140.885156\n",
            "Train Epoch: 44 [40000/60000 (67%)]\tLoss: 137.137832\n",
            "Train Epoch: 44 [50000/60000 (83%)]\tLoss: 138.957461\n",
            "====> Epoch: 44 Average loss: 135.1832\n",
            "====> Test set loss: 138.3526\n",
            "Train Epoch: 45 [0/60000 (0%)]\tLoss: 141.217031\n",
            "Train Epoch: 45 [10000/60000 (17%)]\tLoss: 140.079609\n",
            "Train Epoch: 45 [20000/60000 (33%)]\tLoss: 134.966914\n",
            "Train Epoch: 45 [30000/60000 (50%)]\tLoss: 136.282246\n",
            "Train Epoch: 45 [40000/60000 (67%)]\tLoss: 128.442510\n",
            "Train Epoch: 45 [50000/60000 (83%)]\tLoss: 134.286748\n",
            "====> Epoch: 45 Average loss: 135.2002\n",
            "====> Test set loss: 138.2686\n",
            "Train Epoch: 46 [0/60000 (0%)]\tLoss: 147.313594\n",
            "Train Epoch: 46 [10000/60000 (17%)]\tLoss: 142.479219\n",
            "Train Epoch: 46 [20000/60000 (33%)]\tLoss: 138.355977\n",
            "Train Epoch: 46 [30000/60000 (50%)]\tLoss: 128.804531\n",
            "Train Epoch: 46 [40000/60000 (67%)]\tLoss: 130.874170\n",
            "Train Epoch: 46 [50000/60000 (83%)]\tLoss: 132.047666\n",
            "====> Epoch: 46 Average loss: 135.0372\n",
            "====> Test set loss: 137.8507\n",
            "Train Epoch: 47 [0/60000 (0%)]\tLoss: 148.232266\n",
            "Train Epoch: 47 [10000/60000 (17%)]\tLoss: 141.892822\n",
            "Train Epoch: 47 [20000/60000 (33%)]\tLoss: 138.130264\n",
            "Train Epoch: 47 [30000/60000 (50%)]\tLoss: 137.035723\n",
            "Train Epoch: 47 [40000/60000 (67%)]\tLoss: 136.997656\n",
            "Train Epoch: 47 [50000/60000 (83%)]\tLoss: 133.274111\n",
            "====> Epoch: 47 Average loss: 134.9549\n",
            "====> Test set loss: 138.1154\n",
            "Train Epoch: 48 [0/60000 (0%)]\tLoss: 128.095225\n",
            "Train Epoch: 48 [10000/60000 (17%)]\tLoss: 134.226846\n",
            "Train Epoch: 48 [20000/60000 (33%)]\tLoss: 140.755010\n",
            "Train Epoch: 48 [30000/60000 (50%)]\tLoss: 141.817441\n",
            "Train Epoch: 48 [40000/60000 (67%)]\tLoss: 133.971016\n",
            "Train Epoch: 48 [50000/60000 (83%)]\tLoss: 134.447217\n",
            "====> Epoch: 48 Average loss: 134.7515\n",
            "====> Test set loss: 138.4567\n",
            "Train Epoch: 49 [0/60000 (0%)]\tLoss: 141.154844\n",
            "Train Epoch: 49 [10000/60000 (17%)]\tLoss: 140.404053\n",
            "Train Epoch: 49 [20000/60000 (33%)]\tLoss: 129.844160\n",
            "Train Epoch: 49 [30000/60000 (50%)]\tLoss: 139.432295\n",
            "Train Epoch: 49 [40000/60000 (67%)]\tLoss: 131.574170\n",
            "Train Epoch: 49 [50000/60000 (83%)]\tLoss: 131.952578\n",
            "====> Epoch: 49 Average loss: 134.7605\n",
            "====> Test set loss: 137.9985\n",
            "Train Epoch: 50 [0/60000 (0%)]\tLoss: 139.054336\n",
            "Train Epoch: 50 [10000/60000 (17%)]\tLoss: 135.971396\n",
            "Train Epoch: 50 [20000/60000 (33%)]\tLoss: 125.089238\n",
            "Train Epoch: 50 [30000/60000 (50%)]\tLoss: 126.541035\n",
            "Train Epoch: 50 [40000/60000 (67%)]\tLoss: 124.491182\n",
            "Train Epoch: 50 [50000/60000 (83%)]\tLoss: 131.507178\n",
            "====> Epoch: 50 Average loss: 134.5280\n",
            "====> Test set loss: 138.0854\n"
          ]
        }
      ],
      "source": [
        "for epoch in range(1, 51):\n",
        "    train(epoch)\n",
        "    test()"
      ]
    },
    {
      "cell_type": "code",
      "source": [
        "import matplotlib.pyplot as plt"
      ],
      "metadata": {
        "id": "pctjC7qfSyjw"
      },
      "execution_count": 9,
      "outputs": []
    },
    {
      "cell_type": "code",
      "execution_count": 62,
      "metadata": {
        "colab": {
          "base_uri": "https://localhost:8080/",
          "height": 466
        },
        "id": "SUKR-O7eCVVp",
        "outputId": "ef79f193-3c7e-4709-98ad-26761d3efef7"
      },
      "outputs": [
        {
          "output_type": "stream",
          "name": "stdout",
          "text": [
            "<class 'torch.Tensor'>\n",
            "torch.Size([64, 784])\n"
          ]
        },
        {
          "output_type": "display_data",
          "data": {
            "text/plain": [
              "<Figure size 640x480 with 1 Axes>"
            ],
            "image/png": "[encoded data removed]"
          },
          "metadata": {}
        }
      ],
      "source": [
        "with torch.no_grad():\n",
        "    z = torch.randn(64, 2).cuda()\n",
        "    sample = vae.decoder(z).cuda()\n",
        "    print(sample.__class__)\n",
        "    print(sample.size())\n",
        "\n",
        "    sample = sample.cpu() # use .cpu().numpy() to move off the GPU ## NOTE: moving to numpy is redundant and unhelpful \n",
        "    image = sample[0].reshape(28,28)    # shows the first of 64 randimly generated pictures\n",
        "    plt.imshow(image, cmap=\"gray\")\n",
        "  \n",
        "\n",
        "    #plt.imshow(sample[0].reshape(28,28), cmap=\"gray\")\n",
        "    #save_image(sample.view(64, 1, 28, 28), './samples/sample_' + '.png')"
      ]
    },
    {
      "cell_type": "code",
      "source": [
        "#plt.imshow(sample[0].reshape(28,28).cpu().numpy().reshape(28,28), cmap=\"gray\")\n",
        "\n",
        "images = sample[:5].reshape((-1, 28, 28))  # se\n",
        "\n",
        "fig, axes = plt.subplots(nrows=1, ncols=5)  # create a 4x4 grid of subplots\n",
        "for i, ax in enumerate(axes.flat):\n",
        "    ax.imshow(images[i], cmap='gray')  # display image on the current subplot\n",
        "\n",
        "[axi.set_axis_off() for axi in axes.ravel()] # kill axes h/t https://stackoverflow.com/questions/25862026/turn-off-axes-in-subplots\n",
        "fig.suptitle('Awesome title', fontsize=10, y=.65) # awesome title h/t https://www.geeksforgeeks.org/how-to-set-a-single-main-title-for-all-the-subplots-in-matplotlib/\n",
        "plt.show()"
      ],
      "metadata": {
        "colab": {
          "base_uri": "https://localhost:8080/",
          "height": 154
        },
        "id": "3v31ghJVWMqK",
        "outputId": "e0415a2b-00ff-40ab-e5e4-c8752c6e8436"
      },
      "execution_count": 68,
      "outputs": [
        {
          "output_type": "display_data",
          "data": {
            "text/plain": [
              "<Figure size 640x480 with 5 Axes>"
            ],
            "image/png": "[encoded data removed]"
          },
          "metadata": {}
        }
      ]
    },
    {
      "cell_type": "code",
      "source": [
        "## now create an image of estimated images and ground truth\n",
        "# read https://stackoverflow.com/questions/66667949/pytorch-mnist-autoencoder-to-learn-10-digit-classification"
      ],
      "metadata": {
        "colab": {
          "base_uri": "https://localhost:8080/"
        },
        "id": "nkKRKKD3Wh_j",
        "outputId": "8d615fe1-be0a-4428-b184-6ab532209c91"
      },
      "execution_count": 67,
      "outputs": [
        {
          "output_type": "stream",
          "name": "stdout",
          "text": [
            "tensor([[ 0.2309,  0.5520],\n",
            "        [ 0.6513, -0.2254],\n",
            "        [ 1.7023, -0.5172],\n",
            "        [-2.0563,  0.3679],\n",
            "        [ 0.9158, -0.3996],\n",
            "        [-0.9992, -0.5305],\n",
            "        [-0.2402, -0.8536],\n",
            "        [ 1.2527, -0.2682],\n",
            "        [-1.2756, -1.0370],\n",
            "        [-1.7166, -0.7432],\n",
            "        [-0.9168, -0.1997],\n",
            "        [ 1.7092,  0.7411],\n",
            "        [-0.0486, -0.4489],\n",
            "        [-1.5048,  0.5775],\n",
            "        [ 1.8482,  0.2017],\n",
            "        [ 0.8992, -0.3755],\n",
            "        [ 2.1350,  1.8131],\n",
            "        [-0.5353, -0.3398],\n",
            "        [-0.8082, -0.6721],\n",
            "        [-0.0246, -1.4348],\n",
            "        [ 0.8871,  0.6801],\n",
            "        [ 1.3288,  0.9755],\n",
            "        [-1.5308, -0.5648],\n",
            "        [ 0.0819, -1.1823],\n",
            "        [ 0.4068, -0.4120],\n",
            "        [-0.2359, -0.9018],\n",
            "        [ 0.2432,  2.8971],\n",
            "        [-0.4148,  1.2791],\n",
            "        [ 0.3457, -0.7802],\n",
            "        [-1.4416, -1.4697],\n",
            "        [ 0.2846,  0.4996],\n",
            "        [ 1.3944, -0.8940],\n",
            "        [-0.1940,  0.2500],\n",
            "        [-0.5367, -0.3388],\n",
            "        [-0.5329,  0.7821],\n",
            "        [-0.3183,  1.8516],\n",
            "        [ 0.2404,  0.0970],\n",
            "        [ 0.0315,  0.3736],\n",
            "        [ 0.6042,  0.4520],\n",
            "        [ 1.4191, -1.3810],\n",
            "        [ 1.3216, -0.1487],\n",
            "        [-0.7069, -0.3956],\n",
            "        [ 0.4305, -0.0779],\n",
            "        [-1.3343,  0.7993],\n",
            "        [-0.4962,  1.3814],\n",
            "        [ 0.2468,  1.7626],\n",
            "        [-0.3319, -0.9074],\n",
            "        [-1.1806,  1.0304],\n",
            "        [ 0.3230,  0.5130],\n",
            "        [ 0.2150,  1.6878],\n",
            "        [ 0.1092,  0.5121],\n",
            "        [-0.4576, -0.4417],\n",
            "        [ 1.1483,  0.9503],\n",
            "        [ 0.0368,  1.3903],\n",
            "        [ 0.0445, -0.2082],\n",
            "        [-0.3739, -1.8223],\n",
            "        [-0.4918,  0.3344],\n",
            "        [ 0.1463, -0.5506],\n",
            "        [ 0.9600, -0.9177],\n",
            "        [-1.2926, -0.6733],\n",
            "        [-0.8837,  0.1932],\n",
            "        [ 1.3448, -0.3828],\n",
            "        [-0.8415,  0.5563],\n",
            "        [-0.4971, -0.1135]], device='cuda:0')\n"
          ]
        }
      ]
    },
    {
      "cell_type": "code",
      "source": [
        "\n",
        "\n",
        "fig, axes = plt.subplots(nrows=1, ncols=5)  # create a 4x4 grid of subplots\n",
        "for i, ax in enumerate(axes.flat):\n",
        "    ax.imshow(images[i], cmap='gray')  # display image on the current subplot\n",
        "\n",
        "[axi.set_axis_off() for axi in axes.ravel()] # kill axes h/t https://stackoverflow.com/questions/25862026/turn-off-axes-in-subplots\n",
        "fig.suptitle('Awesome title', fontsize=10, y=.65) # awesome title h/t https://www.geeksforgeeks.org/how-to-set-a-single-main-title-for-all-the-subplots-in-matplotlib/\n",
        "plt.show()"
      ],
      "metadata": {
        "colab": {
          "base_uri": "https://localhost:8080/",
          "height": 448
        },
        "id": "HxjJcbLrV1hS",
        "outputId": "76858d53-2bdc-4a92-ea4a-0d8308cbbcf1"
      },
      "execution_count": 28,
      "outputs": [
        {
          "output_type": "execute_result",
          "data": {
            "text/plain": [
              "<matplotlib.image.AxesImage at 0x7f912c387a60>"
            ]
          },
          "metadata": {},
          "execution_count": 28
        },
        {
          "output_type": "display_data",
          "data": {
            "text/plain": [
              "<Figure size 640x480 with 1 Axes>"
            ],
            "image/png": "[encoded data removed]"
          },
          "metadata": {}
        }
      ]
    },
    {
      "cell_type": "code",
      "source": [
        "# now create five images similarly to MNIST_data_wrangling.ipynb"
      ],
      "metadata": {
        "id": "8M-W6kXSS1FO"
      },
      "execution_count": null,
      "outputs": []
    }
  ],
  "metadata": {
    "kernelspec": {
      "display_name": "Python 3",
      "language": "python",
      "name": "python3"
    },
    "language_info": {
      "codemirror_mode": {
        "name": "ipython",
        "version": 3
      },
      "file_extension": ".py",
      "mimetype": "text/x-python",
      "name": "python",
      "nbconvert_exporter": "python",
      "pygments_lexer": "ipython3",
      "version": "3.5.4"
    },
    "colab": {
      "provenance": []
    },
    "accelerator": "GPU",
    "gpuClass": "standard"
  },
  "nbformat": 4,
  "nbformat_minor": 0
}