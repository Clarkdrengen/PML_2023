{
  "nbformat": 4,
  "nbformat_minor": 0,
  "metadata": {
    "colab": {
      "provenance": [],
      "toc_visible": true,
      "authorship_tag": "ABX9TyOwX6isrBH5h3jFluG8WEQ5",
      "include_colab_link": true
    },
    "kernelspec": {
      "name": "python3",
      "display_name": "Python 3"
    },
    "language_info": {
      "name": "python"
    },
    "accelerator": "GPU",
    "gpuClass": "standard"
  },
  "cells": [
    {
      "cell_type": "markdown",
      "metadata": {
        "id": "view-in-github",
        "colab_type": "text"
      },
      "source": [
        "<a href=\"https://colab.research.google.com/github/Clarkdrengen/PML_2023/blob/main/PML_Part_A_Team_Master.ipynb\" target=\"_parent\"><img src=\"https://colab.research.google.com/assets/colab-badge.svg\" alt=\"Open In Colab\"/></a>"
      ]
    },
    {
      "cell_type": "code",
      "execution_count": 12,
      "metadata": {
        "id": "FmPK11nubTQe"
      },
      "outputs": [],
      "source": [
        "from __future__ import print_function\n",
        "import argparse\n",
        "import torch\n",
        "import torch.utils.data\n",
        "from torch import nn, optim\n",
        "from torch.nn import functional as F\n",
        "from torchvision import datasets, transforms\n",
        "from torchvision.utils import save_image\n",
        "from torchvision.utils import make_grid\n",
        "\n",
        "import numpy as np\n",
        "import matplotlib.pyplot as plt"
      ]
    },
    {
      "cell_type": "code",
      "source": [
        "torch.manual_seed(1)\n",
        "batch_size = 128\n",
        "learning_rate = 1e-3\n",
        "epochs = 10\n",
        "#device = \"cpu\"\n",
        "device = \"gpu\"\n",
        "log_interval = 10\n",
        "args = {0}\n",
        "kwargs = {}\n",
        "device = torch.device(\"cpu\")"
      ],
      "metadata": {
        "id": "RrQf2WE_crue"
      },
      "execution_count": 13,
      "outputs": []
    },
    {
      "cell_type": "code",
      "source": [
        "train_temp = datasets.MNIST('../data', train=True, download=True,\n",
        "                   transform=transforms.ToTensor())\n",
        "train_temp.classes"
      ],
      "metadata": {
        "colab": {
          "base_uri": "https://localhost:8080/"
        },
        "id": "FIte1Ynicz6c",
        "outputId": "e306815c-e7ea-4e1d-ecd6-980d137fc2f3"
      },
      "execution_count": 14,
      "outputs": [
        {
          "output_type": "execute_result",
          "data": {
            "text/plain": [
              "['0 - zero',\n",
              " '1 - one',\n",
              " '2 - two',\n",
              " '3 - three',\n",
              " '4 - four',\n",
              " '5 - five',\n",
              " '6 - six',\n",
              " '7 - seven',\n",
              " '8 - eight',\n",
              " '9 - nine']"
            ]
          },
          "metadata": {},
          "execution_count": 14
        }
      ]
    },
    {
      "cell_type": "code",
      "source": [
        "train_loader = torch.utils.data.DataLoader(\n",
        "    datasets.MNIST('../data', train=True, download=True,\n",
        "                   transform=transforms.ToTensor()),\n",
        "    batch_size=batch_size, shuffle=True, **kwargs)\n",
        "test_loader = torch.utils.data.DataLoader(\n",
        "    datasets.MNIST('../data', train=False, transform=transforms.ToTensor()),\n",
        "    batch_size=batch_size, shuffle=False, **kwargs)"
      ],
      "metadata": {
        "id": "7OL_wsahc0m-"
      },
      "execution_count": 15,
      "outputs": []
    },
    {
      "cell_type": "code",
      "source": [
        "class VAE(nn.Module):\n",
        "    def __init__(self):\n",
        "        super(VAE, self).__init__()\n",
        "        \n",
        "        self.fc1 = nn.Linear(784, 400)\n",
        "        self.fc21 = nn.Linear(400, 2)\n",
        "        self.fc22 = nn.Linear(400, 2)\n",
        "        self.fc3 = nn.Linear(2, 400)\n",
        "        self.fc4 = nn.Linear(400, 784)\n",
        "\n",
        "    def encode(self, x):\n",
        "        h1 = F.relu(self.fc1(x))\n",
        "        return self.fc21(h1), self.fc22(h1)\n",
        "\n",
        "    def reparameterize(self, mu, logvar):\n",
        "        std = torch.exp(0.5*logvar)\n",
        "        eps = torch.randn_like(std)\n",
        "        return mu + eps*std\n",
        "\n",
        "    def decode(self, z):\n",
        "        h3 = F.relu(self.fc3(z))\n",
        "        return torch.sigmoid(self.fc4(h3))\n",
        "\n",
        "    def forward(self, x):\n",
        "        mu, logvar = self.encode(x.view(-1, 784))\n",
        "        z = self.reparameterize(mu, logvar)\n",
        "        return self.decode(z), mu, logvar"
      ],
      "metadata": {
        "id": "QHW1LqMRe96R"
      },
      "execution_count": 16,
      "outputs": []
    },
    {
      "cell_type": "code",
      "source": [
        "model = VAE().to(device)\n",
        "optimizer = optim.Adam(model.parameters(), lr=learning_rate)\n",
        "\n",
        "def loss_function(recon_x, x, mu, logvar):\n",
        "    BCE = F.binary_cross_entropy(recon_x, x.view(-1, 784), reduction='sum')\n",
        "\n",
        "    # see Appendix B from VAE paper:\n",
        "    # Kingma and Welling. Auto-Encoding Variational Bayes. ICLR, 2014\n",
        "    # https://arxiv.org/abs/1312.6114\n",
        "    # 0.5 * sum(1 + log(sigma^2) - mu^2 - sigma^2)\n",
        "    KLD = -0.5 * torch.sum(1 + logvar - mu.pow(2) - logvar.exp())\n",
        "\n",
        "    return BCE + KLD\n",
        "\n",
        "loss_record = []"
      ],
      "metadata": {
        "id": "WJuv0J5ffRPi"
      },
      "execution_count": 17,
      "outputs": []
    },
    {
      "cell_type": "code",
      "source": [
        "def train(epoch):\n",
        "    model.train()\n",
        "    train_loss = 0\n",
        "    for batch_idx, (data, _) in enumerate(train_loader):\n",
        "        data = data.to(device)\n",
        "        optimizer.zero_grad()\n",
        "        recon_batch, mu, logvar = model(data)\n",
        "        loss = loss_function(recon_batch, data, mu, logvar)\n",
        "        loss.backward()\n",
        "        if (batch_idx == 0):\n",
        "            loss_record.append(loss.item())\n",
        "        train_loss += loss.item()\n",
        "        optimizer.step()\n",
        "    print('====> Epoch: {} Average loss: {:.4f}'.format(epoch, train_loss / len(train_loader.dataset)))\n",
        "'''\n",
        "        if batch_idx % log_interval == 0:\n",
        "            print('Train Epoch: {} [{}/{} ({:.0f}%)]\\tLoss: {:.6f}'.format(\n",
        "                epoch, batch_idx * len(data), len(train_loader.dataset),\n",
        "                100. * batch_idx / len(train_loader),\n",
        "                loss.item() / len(data)))\n",
        "\n",
        "    print('====> Epoch: {} Average loss: {:.4f}'.format(epoch, train_loss / len(train_loader.dataset)))\n",
        "'''"
      ],
      "metadata": {
        "id": "OI39mao7l0HS",
        "colab": {
          "base_uri": "https://localhost:8080/",
          "height": 71
        },
        "outputId": "30b22e20-4452-4312-b1ff-aa4795ec6a79"
      },
      "execution_count": 18,
      "outputs": [
        {
          "output_type": "execute_result",
          "data": {
            "text/plain": [
              "\"\\n        if batch_idx % log_interval == 0:\\n            print('Train Epoch: {} [{}/{} ({:.0f}%)]\\tLoss: {:.6f}'.format(\\n                epoch, batch_idx * len(data), len(train_loader.dataset),\\n                100. * batch_idx / len(train_loader),\\n                loss.item() / len(data)))\\n\\n    print('====> Epoch: {} Average loss: {:.4f}'.format(epoch, train_loss / len(train_loader.dataset)))\\n\""
            ],
            "application/vnd.google.colaboratory.intrinsic+json": {
              "type": "string"
            }
          },
          "metadata": {},
          "execution_count": 18
        }
      ]
    },
    {
      "cell_type": "code",
      "source": [
        "def test(epoch):\n",
        "    model.eval()\n",
        "    test_loss = 0\n",
        "    with torch.no_grad():\n",
        "        for i, (data, _) in enumerate(test_loader):\n",
        "            data = data.to(device)\n",
        "            recon_batch, mu, logvar = model(data)\n",
        "            test_loss += loss_function(recon_batch, data, mu, logvar).item()\n",
        "            if i == 0:\n",
        "                n = min(data.size(0), 8)\n",
        "                comparison = torch.cat([data[:n],\n",
        "                                      recon_batch.view(batch_size, 1, 28, 28)[:n]])\n",
        "                save_image(comparison.cpu(),\n",
        "                         'reconstruction_2_' + str(epoch) + '.png', nrow=n)\n",
        "\n",
        "    test_loss /= len(test_loader.dataset)\n",
        "    print('====> Test set loss: {:.4f}'.format(test_loss))"
      ],
      "metadata": {
        "id": "O1Z-3h3yl0JX"
      },
      "execution_count": 19,
      "outputs": []
    },
    {
      "cell_type": "code",
      "source": [
        "if __name__ == \"__main__\":\n",
        "    for epoch in range(1, epochs + 1):\n",
        "        train(epoch)\n",
        "        test(epoch)\n",
        "        with torch.no_grad():\n",
        "            #sample = torch.randn(64, 20).to(device)\n",
        "            sample = torch.randn(64, 2).to(device)\n",
        "            #sample = model.decode(sample).gpu()\n",
        "            sample = model.decode(sample).to(device)\n",
        "            save_image(sample.view(64, 1, 28, 28), 'sample' + str(epoch) + '.png')"
      ],
      "metadata": {
        "colab": {
          "base_uri": "https://localhost:8080/"
        },
        "id": "-7HeoBX3l0Ld",
        "outputId": "01ccb2da-5688-4b5a-bc31-af4e07c9a76e"
      },
      "execution_count": 21,
      "outputs": [
        {
          "output_type": "stream",
          "name": "stdout",
          "text": [
            "====> Epoch: 1 Average loss: 168.2798\n",
            "====> Test set loss: 165.0761\n",
            "====> Epoch: 2 Average loss: 163.9109\n",
            "====> Test set loss: 162.1407\n",
            "====> Epoch: 3 Average loss: 161.6570\n",
            "====> Test set loss: 160.3725\n",
            "====> Epoch: 4 Average loss: 159.9565\n",
            "====> Test set loss: 158.6599\n",
            "====> Epoch: 5 Average loss: 158.4899\n",
            "====> Test set loss: 157.4821\n",
            "====> Epoch: 6 Average loss: 157.1542\n",
            "====> Test set loss: 156.4209\n",
            "====> Epoch: 7 Average loss: 155.9515\n",
            "====> Test set loss: 155.4481\n",
            "====> Epoch: 8 Average loss: 155.0221\n",
            "====> Test set loss: 154.9034\n",
            "====> Epoch: 9 Average loss: 154.2436\n",
            "====> Test set loss: 154.3296\n",
            "====> Epoch: 10 Average loss: 153.5854\n",
            "====> Test set loss: 153.7285\n"
          ]
        }
      ]
    },
    {
      "cell_type": "code",
      "source": [
        "plt.plot(loss_record)"
      ],
      "metadata": {
        "colab": {
          "base_uri": "https://localhost:8080/",
          "height": 283
        },
        "id": "Uh41H129pDKQ",
        "outputId": "783e0803-bc15-490e-e004-ad016b252fa8"
      },
      "execution_count": null,
      "outputs": [
        {
          "output_type": "execute_result",
          "data": {
            "text/plain": [
              "[<matplotlib.lines.Line2D at 0x7fbb77f80e20>]"
            ]
          },
          "metadata": {},
          "execution_count": 10
        },
        {
          "output_type": "display_data",
          "data": {
            "text/plain": [
              "<Figure size 432x288 with 1 Axes>"
            ],
            "image/png": "[encoded data removed]"
          },
          "metadata": {
            "needs_background": "light"
          }
        }
      ]
    },
    {
      "cell_type": "markdown",
      "source": [
        "# New section"
      ],
      "metadata": {
        "id": "j-K9NmBhSL5Z"
      }
    },
    {
      "cell_type": "code",
      "source": [],
      "metadata": {
        "id": "RTwA5RTKrGI6"
      },
      "execution_count": null,
      "outputs": []
    },
    {
      "cell_type": "code",
      "source": [
        "print(f\"Length of train_loader: {len(train_loader)} batches of size {batch_size}...\")\n",
        "print(f\"Length of test_loader: {len(test_loader)} batches of size {batch_size}...\")\n",
        "test_features_batch, test_labels_batch = next(iter(test_loader))\n",
        "test_features_batch.shape, test_labels_batch.shape"
      ],
      "metadata": {
        "colab": {
          "base_uri": "https://localhost:8080/"
        },
        "id": "e53l0uXgrGR_",
        "outputId": "3b766aa4-853f-4d94-9243-9ffd80ed70f1"
      },
      "execution_count": null,
      "outputs": [
        {
          "output_type": "stream",
          "name": "stdout",
          "text": [
            "Length of train_loader: 469 batches of size 128...\n",
            "Length of test_loader: 79 batches of size 128...\n"
          ]
        },
        {
          "output_type": "execute_result",
          "data": {
            "text/plain": [
              "(torch.Size([128, 1, 28, 28]), torch.Size([128]))"
            ]
          },
          "metadata": {},
          "execution_count": 40
        }
      ]
    },
    {
      "cell_type": "code",
      "source": [
        "# Show a random sample\n",
        "random_idx = torch.randint(0, len(test_features_batch), size=[1]).item()\n",
        "img, label = test_features_batch[random_idx], test_labels_batch[random_idx]\n",
        "\n",
        "plt.imshow(img.squeeze(), cmap=\"gray\")\n",
        "plt.title(int(test_labels_batch[random_idx]))\n",
        "plt.axis(False)\n",
        "print(f\"Image size: {img.shape}\")\n",
        "print(f\"Label: {test_labels_batch[random_idx]}\")"
      ],
      "metadata": {
        "colab": {
          "base_uri": "https://localhost:8080/",
          "height": 300
        },
        "id": "oOo4X5RbrGUm",
        "outputId": "68a74085-557d-4578-efa6-950f3b965d56"
      },
      "execution_count": null,
      "outputs": [
        {
          "output_type": "stream",
          "name": "stdout",
          "text": [
            "Image size: torch.Size([1, 28, 28])\n",
            "Label: 1\n"
          ]
        },
        {
          "output_type": "display_data",
          "data": {
            "text/plain": [
              "<Figure size 432x288 with 1 Axes>"
            ],
            "image/png": "[encoded data removed]"
          },
          "metadata": {
            "needs_background": "light"
          }
        }
      ]
    },
    {
      "cell_type": "code",
      "source": [
        "# Show a bunch of examples\n",
        "# https://www.youtube.com/watch?v=Z_ikDlimN6A&t=31924s @ 14:59:01\n",
        "fig = plt.figure(figsize = (20,2.5))\n",
        "plt.title(\"Testset samples\", fontsize = 20)\n",
        "plt.axis(False)\n",
        "\n",
        "rows, cols = 1, 8\n",
        "for i in range(1, rows*cols+1):\n",
        "  img, label = test_features_batch[i], test_labels_batch[i]\n",
        "  fig.add_subplot(rows, cols, i)\n",
        "  plt.axis(False)\n",
        "  plt.imshow(img.squeeze(), cmap=\"gray\")\n",
        "  "
      ],
      "metadata": {
        "colab": {
          "base_uri": "https://localhost:8080/",
          "height": 188
        },
        "id": "ZahngEhqrGW9",
        "outputId": "c6028196-3d0a-4386-8c04-c2e559561d99"
      },
      "execution_count": null,
      "outputs": [
        {
          "output_type": "display_data",
          "data": {
            "text/plain": [
              "<Figure size 1440x180 with 9 Axes>"
            ],
            "image/png": "[encoded data removed]"
          },
          "metadata": {
            "needs_background": "light"
          }
        }
      ]
    },
    {
      "cell_type": "code",
      "source": [
        "len(test_features_batch)\n",
        "#test_features_batch[3]\n",
        "#plt.imshow(img.squeeze(), cmap=\"gray\")"
      ],
      "metadata": {
        "colab": {
          "base_uri": "https://localhost:8080/",
          "height": 204
        },
        "id": "nzUN0p3oPW-4",
        "outputId": "4b9a6ea8-2da7-4e50-a8ae-5a0a472a5e23"
      },
      "execution_count": null,
      "outputs": [
        {
          "output_type": "error",
          "ename": "NameError",
          "evalue": "ignored",
          "traceback": [
            "\u001b[0;31m---------------------------------------------------------------------------\u001b[0m",
            "\u001b[0;31mNameError\u001b[0m                                 Traceback (most recent call last)",
            "\u001b[0;32m<ipython-input-1-1031aeaf14da>\u001b[0m in \u001b[0;36m<module>\u001b[0;34m\u001b[0m\n\u001b[0;32m----> 1\u001b[0;31m \u001b[0mlen\u001b[0m\u001b[0;34m(\u001b[0m\u001b[0mtest_features_batch\u001b[0m\u001b[0;34m)\u001b[0m\u001b[0;34m\u001b[0m\u001b[0;34m\u001b[0m\u001b[0m\n\u001b[0m\u001b[1;32m      2\u001b[0m \u001b[0;31m#test_features_batch[3]\u001b[0m\u001b[0;34m\u001b[0m\u001b[0;34m\u001b[0m\u001b[0;34m\u001b[0m\u001b[0m\n\u001b[1;32m      3\u001b[0m \u001b[0;31m#plt.imshow(img.squeeze(), cmap=\"gray\")\u001b[0m\u001b[0;34m\u001b[0m\u001b[0;34m\u001b[0m\u001b[0;34m\u001b[0m\u001b[0m\n",
            "\u001b[0;31mNameError\u001b[0m: name 'test_features_batch' is not defined"
          ]
        }
      ]
    },
    {
      "cell_type": "markdown",
      "source": [
        "Implement ConvNet VAE\n",
        "blog: https://towardsdatascience.com/building-a-convolutional-vae-in-pytorch-a0f54c947f71\n",
        "code: https://github.com/ttchengab/VAE/blob/main/VAE.ipynb\n"
      ],
      "metadata": {
        "id": "fJw2xoTWrnCG"
      }
    },
    {
      "cell_type": "code",
      "source": [
        "class ConvNet_VAE(nn.Module):\n",
        "    def __init__(self, imgChannels=1, featureDim=32*20*20, zDim=256):\n",
        "        super(ConvNet_VAE, self).__init__()\n",
        "        \n",
        "        # Initializing the 2 convolutional layers and 2 full-connected layers for the encoder\n",
        "        self.encConv1 = nn.Conv2d(imgChannels, 16, 5)\n",
        "        self.encConv2 = nn.Conv2d(16, 32, 5) \n",
        "        self.encFC1 = nn.Linear(featureDim, zDim)\n",
        "        self.encFC2 = nn.Linear(featureDim, zDim)\n",
        "        \n",
        "        # Initializing the fully-connected layer and 2 convolutional layers for decoder\n",
        "        self.decFC1 = nn.Linear(zDim, featureDim)\n",
        "        self.decConv1 = nn.ConvTranspose2d(32, 16, 5)\n",
        "        self.decConv2 = nn.ConvTranspose2d(16, imgChannels, 5)\n",
        "        \n",
        "    def encoder(self, x):\n",
        "        \n",
        "        # Input is fed into 2 convolutional layers sequentially\n",
        "        # The output feature map are fed into 2 fully-connected layers to predict mean (mu) and variance (logVar)\n",
        "        # Mu and logVar are used for generating middle representation z and KL divergence loss\n",
        "        x = F.relu(self.encConv1(x))\n",
        "        x = F.relu(self.encConv2(x))\n",
        "        x = x.view(-1, 32*20*20)\n",
        "        mu = self.encFC1(x)\n",
        "        logVar = self.encFC2(x)\n",
        "        return mu, logVar\n",
        "    \n",
        "    def reparameterize(self, mu, logVar):\n",
        "        \n",
        "        #Reparameterization takes in the input mu and logVar and sample the mu + std * eps\n",
        "        std = torch.exp(logVar/2)\n",
        "        eps = torch.randn_like(std)\n",
        "        return mu + std * eps\n",
        "    \n",
        "    def decoder(self, z):\n",
        "        \n",
        "        # z is fed back into a fully-connected layers and then into two transpose convolutional layers\n",
        "        # The generated output is the same size of the original input\n",
        "        x = F.relu(self.decFC1(z))\n",
        "        x = x.view(-1, 32, 20, 20)\n",
        "        x = F.relu(self.decConv1(x))\n",
        "        x = torch.sigmoid(self.decConv2(x))\n",
        "        return x\n",
        "        \n",
        "    def forward(self, x):\n",
        "        \n",
        "        # The entire pipeline of the VAE: encoder -> reparameterization -> decoder\n",
        "        # output, mu, and logVar are returned for loss computation\n",
        "        mu, logVar = self.encoder(x)\n",
        "        z = self.reparameterize(mu, logVar)\n",
        "        out = self.decoder(z)\n",
        "        return out, mu, logVar"
      ],
      "metadata": {
        "id": "Sx1m5CrIroY-"
      },
      "execution_count": null,
      "outputs": []
    },
    {
      "cell_type": "markdown",
      "source": [],
      "metadata": {
        "id": "2b6-izKXrdX8"
      }
    },
    {
      "cell_type": "code",
      "source": [
        "net = ConvNet_VAE().to(device)\n",
        "optimizer = torch.optim.Adam(net.parameters(), lr=learning_rate)"
      ],
      "metadata": {
        "id": "DMMHvFftl9sW"
      },
      "execution_count": null,
      "outputs": []
    },
    {
      "cell_type": "code",
      "source": [
        "for epoch in range(epochs):\n",
        "    for idx, data in enumerate(train_loader, 0):\n",
        "        imgs, _ = data\n",
        "        imgs = imgs.to(device)\n",
        "        \n",
        "        # Feeding a batch of images into the network to obtain the output image, mu, and logVar\n",
        "        out, mu, logVar = net(imgs)\n",
        "        \n",
        "        # The loss is the BCE loss combined with the KL divergence to ensure the distribution is learnt\n",
        "        kl_divergence = -0.5 * torch.sum(1 + logVar - mu.pow(2) - logVar.exp())\n",
        "        loss = F.binary_cross_entropy(out, imgs, size_average=False) + kl_divergence\n",
        "        \n",
        "        # Backpropagation based on the loss\n",
        "        optimizer.zero_grad()\n",
        "        loss.backward()\n",
        "        optimizer.step()\n",
        "        \n",
        "    print('Epoch {}: Loss {}'.format(epoch, loss))"
      ],
      "metadata": {
        "colab": {
          "base_uri": "https://localhost:8080/"
        },
        "id": "duowZbe6n7_g",
        "outputId": "a6d87288-964b-4f63-c0b3-a9c05ef58da2"
      },
      "execution_count": null,
      "outputs": [
        {
          "output_type": "stream",
          "name": "stderr",
          "text": [
            "/usr/local/lib/python3.8/dist-packages/torch/nn/_reduction.py:42: UserWarning: size_average and reduce args will be deprecated, please use reduction='sum' instead.\n",
            "  warnings.warn(warning.format(ret))\n"
          ]
        },
        {
          "output_type": "stream",
          "name": "stdout",
          "text": [
            "Epoch 0: Loss 11903.9560546875\n",
            "Epoch 1: Loss 11239.708984375\n",
            "Epoch 2: Loss 10914.7119140625\n",
            "Epoch 3: Loss 10623.4267578125\n",
            "Epoch 4: Loss 9987.47265625\n",
            "Epoch 5: Loss 10428.3818359375\n",
            "Epoch 6: Loss 10523.01171875\n",
            "Epoch 7: Loss 9739.1181640625\n",
            "Epoch 8: Loss 10099.953125\n",
            "Epoch 9: Loss 9839.056640625\n"
          ]
        }
      ]
    },
    {
      "cell_type": "code",
      "source": [
        "imgs.shape"
      ],
      "metadata": {
        "id": "wM2VE6fnzBHQ",
        "colab": {
          "base_uri": "https://localhost:8080/"
        },
        "outputId": "ed7c2bbf-8680-4174-a78d-c711a22fa8e0"
      },
      "execution_count": null,
      "outputs": [
        {
          "output_type": "execute_result",
          "data": {
            "text/plain": [
              "torch.Size([96, 1, 28, 28])"
            ]
          },
          "metadata": {},
          "execution_count": 31
        }
      ]
    },
    {
      "cell_type": "code",
      "source": [
        "rows, cols = 1, 8\n",
        "for i in range(1, rows*cols+1):\n",
        "  img, label = test_features_batch[i], test_labels_batch[i]\n",
        "  fig.add_subplot(rows, cols, i)\n",
        "  plt.axis(False)\n",
        "  plt.imshow(img.squeeze(), cmap=\"gray\")"
      ],
      "metadata": {
        "colab": {
          "base_uri": "https://localhost:8080/",
          "height": 304
        },
        "id": "8bCnmUQlPBWC",
        "outputId": "1b3d92b7-472b-44bc-f4f8-685a0afd99ed"
      },
      "execution_count": null,
      "outputs": [
        {
          "output_type": "stream",
          "name": "stderr",
          "text": [
            "<ipython-input-36-d013f242c925>:4: MatplotlibDeprecationWarning: Adding an axes using the same arguments as a previous axes currently reuses the earlier instance.  In a future version, a new instance will always be created and returned.  Meanwhile, this warning can be suppressed, and the future behavior ensured, by passing a unique label to each axes instance.\n",
            "  fig.add_subplot(rows, cols, i)\n"
          ]
        },
        {
          "output_type": "display_data",
          "data": {
            "text/plain": [
              "<Figure size 432x288 with 1 Axes>"
            ],
            "image/png": "[encoded data removed]"
          },
          "metadata": {
            "needs_background": "light"
          }
        }
      ]
    },
    {
      "cell_type": "code",
      "source": [
        "test_features_batch.shape"
      ],
      "metadata": {
        "colab": {
          "base_uri": "https://localhost:8080/"
        },
        "id": "Nykheu7SP5FP",
        "outputId": "553eaf21-6705-433c-fa0c-ce4b73376501"
      },
      "execution_count": null,
      "outputs": [
        {
          "output_type": "execute_result",
          "data": {
            "text/plain": [
              "torch.Size([128, 1, 28, 28])"
            ]
          },
          "metadata": {},
          "execution_count": 37
        }
      ]
    },
    {
      "cell_type": "code",
      "source": [
        "rows"
      ],
      "metadata": {
        "colab": {
          "base_uri": "https://localhost:8080/"
        },
        "id": "Y7BdzEqZQCA5",
        "outputId": "74e62089-7fa2-4632-bd0d-80eee8b766f0"
      },
      "execution_count": null,
      "outputs": [
        {
          "output_type": "execute_result",
          "data": {
            "text/plain": [
              "1"
            ]
          },
          "metadata": {},
          "execution_count": 38
        }
      ]
    },
    {
      "cell_type": "code",
      "source": [
        "cols"
      ],
      "metadata": {
        "colab": {
          "base_uri": "https://localhost:8080/"
        },
        "id": "PD7rOBb3QG5y",
        "outputId": "b6b31187-fb24-488f-aed7-1cc5577504d6"
      },
      "execution_count": null,
      "outputs": [
        {
          "output_type": "execute_result",
          "data": {
            "text/plain": [
              "8"
            ]
          },
          "metadata": {},
          "execution_count": 39
        }
      ]
    },
    {
      "cell_type": "code",
      "source": [],
      "metadata": {
        "id": "GYgbYkjFQIyi"
      },
      "execution_count": null,
      "outputs": []
    }
  ]
}