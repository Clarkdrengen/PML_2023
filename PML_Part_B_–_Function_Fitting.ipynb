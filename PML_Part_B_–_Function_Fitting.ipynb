{
  "cells": [
    {
      "cell_type": "markdown",
      "metadata": {
        "id": "view-in-github",
        "colab_type": "text"
      },
      "source": [
        "<a href=\"https://colab.research.google.com/github/Clarkdrengen/PML_2023/blob/main/PML_Part_B_%E2%80%93_Function_Fitting.ipynb\" target=\"_parent\"><img src=\"https://colab.research.google.com/assets/colab-badge.svg\" alt=\"Open In Colab\"/></a>"
      ]
    },
    {
      "cell_type": "markdown",
      "metadata": {
        "id": "XqeyQU3ZhxVh"
      },
      "source": [
        "# Part B – Function Fitting"
      ]
    },
    {
      "cell_type": "code",
      "execution_count": null,
      "metadata": {
        "colab": {
          "base_uri": "https://localhost:8080/"
        },
        "id": "-v8NOE1QhOBN",
        "outputId": "9e3a94f3-1b55-4db9-c926-105854fff76b"
      },
      "outputs": [
        {
          "output_type": "stream",
          "name": "stdout",
          "text": [
            "Looking in indexes: https://pypi.org/simple, https://us-python.pkg.dev/colab-wheels/public/simple/\n",
            "Requirement already satisfied: pyro-ppl in /usr/local/lib/python3.8/dist-packages (1.8.4)\n",
            "Requirement already satisfied: pyro-api>=0.1.1 in /usr/local/lib/python3.8/dist-packages (from pyro-ppl) (0.1.2)\n",
            "Requirement already satisfied: numpy>=1.7 in /usr/local/lib/python3.8/dist-packages (from pyro-ppl) (1.21.6)\n",
            "Requirement already satisfied: opt-einsum>=2.3.2 in /usr/local/lib/python3.8/dist-packages (from pyro-ppl) (3.3.0)\n",
            "Requirement already satisfied: tqdm>=4.36 in /usr/local/lib/python3.8/dist-packages (from pyro-ppl) (4.64.1)\n",
            "Requirement already satisfied: torch>=1.11.0 in /usr/local/lib/python3.8/dist-packages (from pyro-ppl) (1.13.1+cu116)\n",
            "Requirement already satisfied: typing-extensions in /usr/local/lib/python3.8/dist-packages (from torch>=1.11.0->pyro-ppl) (4.4.0)\n",
            "Looking in indexes: https://pypi.org/simple, https://us-python.pkg.dev/colab-wheels/public/simple/\n",
            "Requirement already satisfied: arviz in /usr/local/lib/python3.8/dist-packages (0.12.1)\n",
            "Requirement already satisfied: setuptools>=38.4 in /usr/local/lib/python3.8/dist-packages (from arviz) (57.4.0)\n",
            "Requirement already satisfied: numpy>=1.12 in /usr/local/lib/python3.8/dist-packages (from arviz) (1.21.6)\n",
            "Requirement already satisfied: xarray-einstats>=0.2 in /usr/local/lib/python3.8/dist-packages (from arviz) (0.4.0)\n",
            "Requirement already satisfied: scipy>=0.19 in /usr/local/lib/python3.8/dist-packages (from arviz) (1.7.3)\n",
            "Requirement already satisfied: pandas>=0.23 in /usr/local/lib/python3.8/dist-packages (from arviz) (1.3.5)\n",
            "Requirement already satisfied: matplotlib>=3.0 in /usr/local/lib/python3.8/dist-packages (from arviz) (3.2.2)\n",
            "Requirement already satisfied: typing-extensions>=3.7.4.3 in /usr/local/lib/python3.8/dist-packages (from arviz) (4.4.0)\n",
            "Requirement already satisfied: xarray>=0.16.1 in /usr/local/lib/python3.8/dist-packages (from arviz) (2022.12.0)\n",
            "Requirement already satisfied: netcdf4 in /usr/local/lib/python3.8/dist-packages (from arviz) (1.6.2)\n",
            "Requirement already satisfied: packaging in /usr/local/lib/python3.8/dist-packages (from arviz) (21.3)\n",
            "Requirement already satisfied: cycler>=0.10 in /usr/local/lib/python3.8/dist-packages (from matplotlib>=3.0->arviz) (0.11.0)\n",
            "Requirement already satisfied: python-dateutil>=2.1 in /usr/local/lib/python3.8/dist-packages (from matplotlib>=3.0->arviz) (2.8.2)\n",
            "Requirement already satisfied: kiwisolver>=1.0.1 in /usr/local/lib/python3.8/dist-packages (from matplotlib>=3.0->arviz) (1.4.4)\n",
            "Requirement already satisfied: pyparsing!=2.0.4,!=2.1.2,!=2.1.6,>=2.0.1 in /usr/local/lib/python3.8/dist-packages (from matplotlib>=3.0->arviz) (3.0.9)\n",
            "Requirement already satisfied: pytz>=2017.3 in /usr/local/lib/python3.8/dist-packages (from pandas>=0.23->arviz) (2022.7)\n",
            "Requirement already satisfied: cftime in /usr/local/lib/python3.8/dist-packages (from netcdf4->arviz) (1.6.2)\n",
            "Requirement already satisfied: six>=1.5 in /usr/local/lib/python3.8/dist-packages (from python-dateutil>=2.1->matplotlib>=3.0->arviz) (1.15.0)\n"
          ]
        }
      ],
      "source": [
        "!pip3 install pyro-ppl\n",
        "!pip3 install arviz"
      ]
    },
    {
      "cell_type": "code",
      "execution_count": null,
      "metadata": {
        "id": "otY594ZEkJy8"
      },
      "outputs": [],
      "source": [
        "import numpy as np\n",
        "import scipy \n",
        "import matplotlib.pyplot as plt\n",
        "import torch\n",
        "import pyro.distributions as dist\n",
        "from pyro.distributions import LogNormal\n",
        "import torch.distributions as tdist\n",
        "import arviz\n",
        "import pyro\n",
        "import random\n",
        "import pyro.contrib.gp as gp\n",
        "pyro.set_rng_seed(1)"
      ]
    },
    {
      "cell_type": "markdown",
      "metadata": {
        "id": "JSAgocwHh3Ij"
      },
      "source": [
        "## B.1 Fitting a GP with Pyro"
      ]
    },
    {
      "cell_type": "code",
      "execution_count": null,
      "metadata": {
        "id": "iV3DJ13ghiy1"
      },
      "outputs": [],
      "source": [
        "def f(x):\n",
        "    return torch.sin(20*x) + 2*torch.cos(14*x) - 2*torch.sin(6*x)\n",
        "\n",
        "xs = torch.tensor([-1.,-0.5,0,0.5,1])\n",
        "ys = f(xs)"
      ]
    },
    {
      "cell_type": "code",
      "execution_count": null,
      "metadata": {
        "id": "UjQYKyeFiYtg"
      },
      "outputs": [],
      "source": [
        "pyro.set_rng_seed(1)\n",
        "\n",
        "kernel = gp.kernels.RBF(input_dim=1)\n",
        "\n",
        "kernel.lengthscale = pyro.nn.PyroSample(LogNormal(-1.0,1.0))\n",
        "\n",
        "kernel.variance = pyro.nn.PyroSample(LogNormal(0.0,2.0))\n",
        "\n",
        "gpr = gp.models.GPRegression(xs, ys, kernel, noise = torch.tensor([0.0001]))"
      ]
    },
    {
      "cell_type": "code",
      "execution_count": null,
      "metadata": {
        "colab": {
          "base_uri": "https://localhost:8080/"
        },
        "id": "sCLtf67ZJUYN",
        "outputId": "53b18f9d-0309-459a-d268-6fec3a811a9c"
      },
      "outputs": [
        {
          "output_type": "stream",
          "name": "stderr",
          "text": [
            "/usr/local/lib/python3.8/dist-packages/pyro/infer/mcmc/api.py:497: UserWarning: num_chains=2 is more than available_cpu=1. Chains will be drawn sequentially.\n",
            "  warnings.warn(\n",
            "Warmup:   0%|          | 0/1000 [00:00, ?it/s]/usr/local/lib/python3.8/dist-packages/pyro/contrib/gp/kernels/isotropic.py:49: TracerWarning: Converting a tensor to a Python boolean might cause the trace to be incorrect. We can't record the data flow of Python values, so this value will be treated as a constant in the future. This means that the trace might not generalize to other inputs!\n",
            "  if X.size(1) != Z.size(1):\n",
            "Sample [0]: 100%|██████████| 1000/1000 [00:28, 35.45it/s, step size=5.46e-01, acc. prob=0.757]\n",
            "Warmup:   0%|          | 0/1000 [00:00, ?it/s]/usr/local/lib/python3.8/dist-packages/pyro/contrib/gp/kernels/isotropic.py:49: TracerWarning: Converting a tensor to a Python boolean might cause the trace to be incorrect. We can't record the data flow of Python values, so this value will be treated as a constant in the future. This means that the trace might not generalize to other inputs!\n",
            "  if X.size(1) != Z.size(1):\n",
            "Sample [1]: 100%|██████████| 1000/1000 [00:20, 49.59it/s, step size=4.05e-01, acc. prob=0.840]\n"
          ]
        }
      ],
      "source": [
        "pyro.set_rng_seed(1)\n",
        "\n",
        "nuts_kernel = pyro.infer.NUTS(gpr.model,jit_compile=True)\n",
        "\n",
        "mcmc = pyro.infer.MCMC(nuts_kernel, num_samples=500, num_chains=2, warmup_steps=500)\n",
        "\n",
        "mcmc.run()\n",
        "\n",
        "ls_name = \"kernel.lengthscale\"\n",
        "\n",
        "posterior_ls = mcmc.get_samples()[ls_name]\n",
        "\n",
        "vs_name = \"kernel.variance\"\n",
        "\n",
        "posterior_vs = mcmc.get_samples()[vs_name]\n",
        "\n",
        "posterior_hyperparameter_samples = mcmc.get_samples()"
      ]
    },
    {
      "cell_type": "markdown",
      "metadata": {
        "id": "KDhmWB5M2A0j"
      },
      "source": [
        "## Deliverables 1: Scatter plot on log-log-scale of N = 500 samples from p(θ | D)."
      ]
    },
    {
      "cell_type": "code",
      "execution_count": null,
      "metadata": {
        "colab": {
          "base_uri": "https://localhost:8080/",
          "height": 365
        },
        "id": "lcGCwlcE3UXM",
        "outputId": "54ebb1c6-b089-4082-c193-91b2a9ac26db"
      },
      "outputs": [
        {
          "output_type": "stream",
          "name": "stderr",
          "text": [
            "WARNING:matplotlib.legend:No handles with labels found to put in legend.\n"
          ]
        },
        {
          "output_type": "display_data",
          "data": {
            "text/plain": [
              "<IPython.core.display.Javascript object>"
            ],
            "application/javascript": [
              "\n",
              "    async function download(id, filename, size) {\n",
              "      if (!google.colab.kernel.accessAllowed) {\n",
              "        return;\n",
              "      }\n",
              "      const div = document.createElement('div');\n",
              "      const label = document.createElement('label');\n",
              "      label.textContent = `Downloading \"${filename}\": `;\n",
              "      div.appendChild(label);\n",
              "      const progress = document.createElement('progress');\n",
              "      progress.max = size;\n",
              "      div.appendChild(progress);\n",
              "      document.body.appendChild(div);\n",
              "\n",
              "      const buffers = [];\n",
              "      let downloaded = 0;\n",
              "\n",
              "      const channel = await google.colab.kernel.comms.open(id);\n",
              "      // Send a message to notify the kernel that we're ready.\n",
              "      channel.send({})\n",
              "\n",
              "      for await (const message of channel.messages) {\n",
              "        // Send a message to notify the kernel that we're ready.\n",
              "        channel.send({})\n",
              "        if (message.buffers) {\n",
              "          for (const buffer of message.buffers) {\n",
              "            buffers.push(buffer);\n",
              "            downloaded += buffer.byteLength;\n",
              "            progress.value = downloaded;\n",
              "          }\n",
              "        }\n",
              "      }\n",
              "      const blob = new Blob(buffers, {type: 'application/binary'});\n",
              "      const a = document.createElement('a');\n",
              "      a.href = window.URL.createObjectURL(blob);\n",
              "      a.download = filename;\n",
              "      div.appendChild(a);\n",
              "      a.click();\n",
              "      div.remove();\n",
              "    }\n",
              "  "
            ]
          },
          "metadata": {}
        },
        {
          "output_type": "display_data",
          "data": {
            "text/plain": [
              "<IPython.core.display.Javascript object>"
            ],
            "application/javascript": [
              "download(\"download_69c462ff-d7bd-4b61-8b6b-74d20bd18785\", \"Posterior Scatter Plot.png\", 728003)"
            ]
          },
          "metadata": {}
        },
        {
          "output_type": "display_data",
          "data": {
            "text/plain": [
              "<Figure size 432x288 with 1 Axes>"
            ],
            "image/png": "[encoded data removed]"
          },
          "metadata": {
            "needs_background": "light"
          }
        }
      ],
      "source": [
        "from google.colab import files\n",
        "plt.scatter(posterior_ls, posterior_vs)\n",
        "plt.legend()\n",
        "plt.title(\"Scatter Plot of Posterior Samples\", fontsize=18)\n",
        "plt.yscale('log') \n",
        "plt.xscale('log') \n",
        "plt.ylabel(\"Kernel's Variance\", fontsize=12)\n",
        "plt.xlabel(\"Kernel's Lengthscale\",fontsize=12)\n",
        "plt.savefig('Posterior Scatter Plot.png', dpi = 1000)\n",
        "files.download(\"Posterior Scatter Plot.png\") \n",
        "plt.show()"
      ]
    },
    {
      "cell_type": "code",
      "execution_count": null,
      "metadata": {
        "colab": {
          "base_uri": "https://localhost:8080/"
        },
        "id": "UtjOoBLQM0J0",
        "outputId": "781bf014-ee92-4451-c537-9c03e9c87286"
      },
      "outputs": [
        {
          "output_type": "execute_result",
          "data": {
            "text/plain": [
              "torch.Size([1000])"
            ]
          },
          "metadata": {},
          "execution_count": 119
        }
      ],
      "source": [
        "posterior_ls.shape"
      ]
    },
    {
      "cell_type": "code",
      "execution_count": null,
      "metadata": {
        "colab": {
          "base_uri": "https://localhost:8080/"
        },
        "id": "x7v7R9IsM9md",
        "outputId": "4429b325-4076-4dac-b3b3-6634a0a719ab"
      },
      "outputs": [
        {
          "output_type": "execute_result",
          "data": {
            "text/plain": [
              "tensor([ 1.2889,  6.2264,  3.1196,  2.4832,  1.3068,  1.0763,  1.6226,  1.4755,\n",
              "         1.0735,  1.9360,  1.6305,  2.3014,  1.5695,  2.9782,  3.3259,  3.3259,\n",
              "         2.2531,  3.2253,  4.7003,  1.2091,  1.7803,  7.8345,  3.3653,  7.3077,\n",
              "         8.0211,  7.1785,  4.3670,  3.9362,  1.4060,  5.5857,  5.0299,  1.4556,\n",
              "         1.5985,  1.1564,  1.4112,  2.5830,  2.5830,  2.3267,  2.1630,  1.6229,\n",
              "         4.5530,  1.2763,  1.3722,  1.0672,  2.1792,  2.1465,  3.7633,  1.5178,\n",
              "         7.4957,  4.2126,  2.6461,  1.1826,  2.6439,  1.5425,  2.5455,  7.8305,\n",
              "        13.2136, 15.1671,  2.6619,  2.0805,  2.7848,  2.4280,  1.9080,  1.4052,\n",
              "         1.4052,  2.1317,  2.6370,  2.0910,  1.6114,  1.5005,  1.9659,  1.9383,\n",
              "         1.7326,  1.5896,  1.7847, 10.6328,  3.3791,  2.9294,  3.6950,  2.5631,\n",
              "         2.4033,  1.9279,  3.2746,  2.1099,  2.3591,  2.4976,  7.1714,  1.3333,\n",
              "         1.2605,  1.6068,  2.2615,  3.7234,  2.0405,  1.5469,  4.7794,  3.3568,\n",
              "         4.4829,  1.1484,  0.8812,  1.1297,  1.7662,  3.5815,  1.6667,  2.0476,\n",
              "         4.8434,  3.7996,  4.6244,  9.3835,  4.1756,  4.1756,  4.1756,  4.1729,\n",
              "         3.6620,  4.1040,  4.7952,  1.9401,  2.5859,  2.3934,  2.3794,  1.7074,\n",
              "         1.7221,  4.2386,  1.8466, 11.8855,  8.1215,  7.9588,  7.9588,  4.8857,\n",
              "         3.8941,  4.6939,  3.6505,  5.6816,  3.3189,  3.1311,  3.3359,  2.9003,\n",
              "         2.7794,  2.2472,  1.9288,  2.2383,  1.7732,  1.6931,  7.8731,  7.8731,\n",
              "        13.4921, 13.4921,  1.3177,  1.1738,  2.6965,  3.1237,  2.2013,  1.3791,\n",
              "         1.3791,  7.7592,  5.9869, 14.5209, 14.6132, 12.4665, 14.9588, 17.1795,\n",
              "        11.6722, 11.5281,  7.3610,  7.5932,  2.9774,  5.2017,  2.1604,  2.6486,\n",
              "         1.4116,  1.5074,  1.4748,  2.0383,  4.7520,  1.4421,  3.2340,  2.4558,\n",
              "         6.2625,  3.8300,  5.2526,  5.5500,  3.2003,  2.7193,  3.5528,  3.0735,\n",
              "         4.3131,  3.3235,  3.4734,  2.6109,  3.8701,  3.2858,  4.7447,  5.2068,\n",
              "         6.9799,  7.6728,  2.9474,  2.6917,  2.6917,  2.1191,  2.4145,  2.0753,\n",
              "         1.5621,  1.8222,  1.5028,  2.7997,  1.2510,  1.4611,  4.1175,  1.6658,\n",
              "         2.2679,  2.2627,  1.9552,  1.1985,  1.4979,  2.0872,  2.5421,  2.6577,\n",
              "         3.1903,  2.7841,  2.6960,  2.2289,  6.2480,  6.3473,  2.1054,  9.2542,\n",
              "         9.2542,  6.3165, 15.7133,  9.5807,  9.5807, 10.3399,  6.4162,  6.3876,\n",
              "         5.3593,  5.3593,  5.3593,  7.8286,  4.8321,  1.6412,  1.6412,  2.6994,\n",
              "         5.6554,  5.8314, 20.5827, 19.9273, 20.5137, 16.2673, 16.2673, 16.9661,\n",
              "        17.2106, 17.2106, 18.8770, 12.1813,  8.2918,  8.8939,  4.9559,  6.3110,\n",
              "         4.2498,  1.5080,  4.3118,  2.6614,  2.0872, 11.4338, 11.4338, 17.9868,\n",
              "        18.1901, 22.0269, 23.1421, 30.9934, 30.9934, 23.1313, 19.3702, 14.0707,\n",
              "         8.1177,  8.1177,  9.0982,  4.1925,  3.3762,  2.5262,  1.7723,  1.7569,\n",
              "         2.0125,  1.0739,  2.6613, 11.8892,  1.6439,  1.1206,  1.7802,  4.2474,\n",
              "         7.1524, 12.7906, 14.0763,  9.6762, 11.3226, 10.8138,  4.4022,  4.6333,\n",
              "         8.9512,  6.0655, 11.0502,  8.0541,  7.1096,  5.9378,  6.7060,  7.2701,\n",
              "        22.0112,  0.8975,  1.0743,  1.8392,  1.9919,  3.9762,  3.5684,  2.0289,\n",
              "         2.3535,  2.0855,  2.8638,  6.0845,  5.1634,  1.3560,  4.4385,  5.3843,\n",
              "         3.7814,  5.6280,  3.2017,  1.8871,  2.1966,  1.2718,  1.4630,  2.0780,\n",
              "         3.5447,  4.7221,  6.8395,  4.5468,  5.3296,  7.9072,  2.1002, 14.1940,\n",
              "         9.6990,  2.3214,  3.5936,  1.9960,  1.9960,  1.9960,  7.1119,  8.4646,\n",
              "         8.4646,  1.2971,  1.2475,  0.8987,  0.8987,  1.9487,  1.9620,  1.8770,\n",
              "         3.4043,  1.0959,  0.5881,  0.7280,  2.9359,  5.9051,  7.5988, 10.4054,\n",
              "         4.0667,  5.5882,  6.3144,  2.0628,  4.5981,  1.3336,  1.7903,  6.6621,\n",
              "         4.1336,  2.2565,  2.0914,  9.1277,  2.9947,  4.4382,  1.8550,  2.2302,\n",
              "         1.0720,  4.8013,  4.2956,  2.4875,  2.7507,  2.2418,  4.2066,  2.6843,\n",
              "         9.0847, 12.1078,  8.1984,  8.0063,  1.3666,  1.3666,  1.1615,  2.1616,\n",
              "         3.4668,  4.2377,  6.1867,  4.7474,  4.0405,  1.5939,  1.9774,  4.2275,\n",
              "         7.2895,  5.4137,  1.7815,  4.3332,  3.3123,  2.1157,  2.0028,  1.6341,\n",
              "         1.7231,  3.2929,  3.1684,  3.2704,  2.2383,  2.4393,  1.9449,  1.1247,\n",
              "         3.5575,  2.8673,  2.1173,  1.6717,  3.9160,  3.9160,  3.7369,  3.0634,\n",
              "         1.4063,  9.0317,  9.3282,  2.3319,  2.8150,  2.6129,  2.2916,  2.6505,\n",
              "         3.8650,  2.8632,  1.7431,  2.4110,  4.0442,  5.4455,  6.6693,  8.3757,\n",
              "         6.6036,  3.6870,  3.6265,  2.1384,  8.2629,  5.2138,  7.6295,  6.2596,\n",
              "         2.1788,  2.6578, 20.1690,  7.5235,  3.2516,  3.0333,  3.7135,  1.7752,\n",
              "         1.7752,  1.7752,  1.3698,  1.5062,  1.4663,  4.8346,  2.4784,  3.1727,\n",
              "         1.8096,  2.0369,  1.2808,  1.8494,  8.6766,  7.6973,  7.1749,  7.1749,\n",
              "         4.5965,  2.3724,  2.4721,  1.6936,  2.5267,  2.5121,  2.4143,  4.4045,\n",
              "         2.6373,  2.3533,  2.7000,  1.4198,  2.5898,  4.7358,  3.6455,  3.2100,\n",
              "         3.4257,  1.6831,  2.0814,  2.0509,  1.6664,  3.6845,  2.6146,  1.1368,\n",
              "         0.9721,  0.9721,  1.6578,  1.5109,  4.5673,  5.8765,  6.0114,  6.0114,\n",
              "         7.7006,  2.5406,  3.8804,  2.7984,  1.9339,  7.3823,  4.7055,  2.1296,\n",
              "         2.4480,  3.4467,  1.9335,  2.8956,  1.5612,  8.4158,  2.4701,  2.4493,\n",
              "         2.5145,  2.1574,  1.3371,  1.6485,  1.2773,  4.2938,  3.8577,  5.3217,\n",
              "         3.2077,  9.2621, 14.9488,  4.9256,  4.5273,  5.4726,  2.9085,  2.4519,\n",
              "         2.5059,  3.2441,  1.8920,  4.9232,  3.8218,  3.8218,  2.5233,  1.6888,\n",
              "         1.4407,  3.3681,  5.3611,  3.0788,  6.0133,  3.6360,  6.2908, 18.8560,\n",
              "         2.1513,  2.8916,  2.6262,  2.1867,  2.2484,  3.6620,  4.0434,  3.6877,\n",
              "         3.7786,  3.3729,  4.2437,  7.3672,  2.2841,  1.8234,  2.6114,  2.0733,\n",
              "         1.7826,  3.2488,  0.9614,  1.0440,  3.1505,  3.3434,  1.6261,  2.2382,\n",
              "         2.2382,  6.9601,  6.3259,  8.2848,  3.4355,  2.7620,  5.8607,  5.8384,\n",
              "         4.4539,  1.3560,  1.3554,  1.1599,  6.1508,  1.8046,  3.0171,  7.4485,\n",
              "         7.7095,  9.6961, 18.0166,  1.9964,  1.3108,  0.8754,  8.0528,  5.8956,\n",
              "         8.0545,  1.4242,  4.1086,  1.8901,  1.8504,  4.1156,  2.7699,  3.5055,\n",
              "         1.9581,  9.1850,  6.8069,  2.4355,  3.5733,  2.9305,  2.6676,  3.9434,\n",
              "         4.7865,  4.7367,  4.8726,  8.3271,  7.4686,  5.2017,  2.7443,  2.5917,\n",
              "         3.1921,  2.4163,  1.0848,  1.0368,  1.8091,  1.0880,  0.9574,  1.2891,\n",
              "        11.8848,  1.6538,  1.3644,  1.6335,  1.5937,  2.2283,  2.1934,  1.4548,\n",
              "         1.5334,  2.2753,  2.9229,  5.0552,  6.1525,  6.9991,  5.9540, 11.5970,\n",
              "         6.8437,  6.3440,  3.1404,  2.7261,  1.7385,  1.6955,  2.4751,  2.7142,\n",
              "         2.3510,  1.8319,  4.2728,  1.3669,  3.9365,  3.9844,  2.2700,  1.6538,\n",
              "         6.1347,  6.1347,  1.8692,  5.7539,  7.0974,  6.8461,  1.2608,  7.0031,\n",
              "         2.4790,  1.8602,  6.5561,  3.8240,  3.8240,  3.1979,  8.7872,  7.1757,\n",
              "         7.5205,  1.0998,  1.2042,  2.9014,  2.3129,  2.0258,  3.9948,  4.2866,\n",
              "         2.0662,  2.7708,  2.7185,  2.7185,  1.4484,  3.6578,  3.1263,  2.0404,\n",
              "         2.4367,  3.6747,  2.6776,  3.3660,  3.2707,  2.0923,  1.6170,  1.8835,\n",
              "         2.3492,  6.1201,  0.8290,  7.2015,  4.4036,  1.3344,  1.4150,  1.5426,\n",
              "         4.7532,  6.8758,  5.2302, 10.3274,  8.9291, 10.2022,  8.2295,  9.4563,\n",
              "         3.6694,  4.4487,  1.4207,  1.0635,  4.5515,  1.2163,  0.8449,  1.0672,\n",
              "         2.5079,  2.6024,  2.4910,  2.5838,  2.3034,  3.8197,  3.3841,  3.2494,\n",
              "         2.8857,  2.1143,  2.5516,  2.7498,  3.9275,  1.7184,  1.0033,  1.9210,\n",
              "         1.4946,  5.6244,  5.3152, 18.6957,  1.0489, 10.6182, 12.6282,  5.3249,\n",
              "         4.6134,  7.5786,  1.7845,  9.4438,  2.5271,  2.0461,  2.3875,  3.3310,\n",
              "         1.1638,  6.5071,  4.5014,  1.2031,  2.7427,  2.0044,  1.9884,  2.7623,\n",
              "         2.5534,  1.1293,  1.2461,  1.6374,  2.6798,  2.2080,  2.2080,  4.0984,\n",
              "         2.4517,  1.7115,  1.7459,  2.2107,  3.6677,  2.0465,  3.8884,  4.1383,\n",
              "         2.0455,  3.1227,  1.9855,  3.5835,  2.6596,  4.0677,  4.0677,  3.6605,\n",
              "         1.2337,  1.3855,  2.1007,  2.7332,  2.0523,  2.3537,  1.7673,  3.7117,\n",
              "         2.0557,  3.3110,  3.3110,  4.4031,  3.3277,  4.3537,  2.0815,  1.0666,\n",
              "         5.4350,  2.4497,  2.4906,  4.0075,  2.4478,  1.6418,  2.3115,  2.3115,\n",
              "         2.3115,  2.3115,  2.8657,  2.8965,  2.1661,  2.2067,  2.1593,  1.8018,\n",
              "         1.7401,  3.0950,  2.2618,  5.4647,  2.6270,  2.5417,  2.1258,  5.0827,\n",
              "         2.3797,  3.3804,  2.9586,  5.7744,  5.6004,  7.7289,  2.6510,  2.6510,\n",
              "         3.9348,  2.4639,  2.7294,  3.2425,  2.6359,  1.4749,  1.4785,  5.6962,\n",
              "         3.9838,  6.2993, 12.4421, 13.0879,  6.4804,  6.6891,  5.3079,  4.4492,\n",
              "         4.4492,  5.6822,  5.8549,  2.7396,  1.4798,  3.4552,  1.8934,  2.4769,\n",
              "         2.2317,  5.2178,  4.2912,  6.4151,  8.2315,  6.1605,  5.3588,  3.8935,\n",
              "         6.9370,  5.5425,  5.5425,  4.6880,  3.9935,  2.6787,  7.1500,  7.0081,\n",
              "         5.6235,  4.6709,  4.6709,  6.7391,  1.6655,  1.3658, 16.7647, 15.5154,\n",
              "        18.8309,  9.9523,  8.2528,  3.3247,  4.0401,  3.8156,  2.2089,  4.6619,\n",
              "         3.9573,  2.2359,  3.0835,  1.3536,  2.2307, 11.1336,  6.6643,  1.3707,\n",
              "         3.2558,  1.8831,  2.2817,  2.5726,  2.0792,  5.6191,  6.3770,  7.4864,\n",
              "         4.9184,  2.7241,  6.0981,  1.3794,  1.3794,  1.3794,  2.2368,  2.5050,\n",
              "         5.7863,  2.0125,  3.3561,  6.3869,  8.1793,  4.5869,  3.9727,  5.2092,\n",
              "         7.7846,  8.9498,  7.4205,  6.9860,  3.6994,  3.9676,  3.0892,  2.4837,\n",
              "         2.3638,  1.8650,  3.2072,  1.1619,  2.5828,  2.4263,  3.5975,  3.9548,\n",
              "         3.3400,  3.2328,  2.0658,  3.6134,  3.2470,  4.4222,  4.3640,  1.3563,\n",
              "         1.1064,  2.2446,  1.9917,  1.2668,  5.9483,  1.8280,  2.1222,  3.1379,\n",
              "         3.8645,  3.1182,  3.2368,  1.8862,  3.2427,  2.2555,  2.3816,  1.7097,\n",
              "         4.3575,  1.7860,  1.7742, 28.6987, 41.3545, 17.1420,  4.4515,  3.4052,\n",
              "         2.4781,  6.7432,  8.9873,  1.3211,  5.0000,  5.8143,  3.6157,  2.5235,\n",
              "         2.2559,  2.2559,  6.3315,  4.9062,  2.0160,  2.2261,  2.0948,  1.1033,\n",
              "         1.2235,  1.3432,  1.8892,  4.5129,  2.9242,  2.9617,  4.9855, 11.6707])"
            ]
          },
          "metadata": {},
          "execution_count": 120
        }
      ],
      "source": [
        "posterior_vs"
      ]
    },
    {
      "cell_type": "markdown",
      "metadata": {
        "id": "-HCoSKPYMDkd"
      },
      "source": [
        "**Accessing the quality of the samples via ArviZ.**"
      ]
    },
    {
      "cell_type": "code",
      "execution_count": null,
      "metadata": {
        "colab": {
          "base_uri": "https://localhost:8080/",
          "height": 163
        },
        "id": "KUm5BYBAjagB",
        "outputId": "bde04380-dee7-4f95-8556-1c17e979e785"
      },
      "outputs": [
        {
          "output_type": "stream",
          "name": "stderr",
          "text": [
            "/usr/local/lib/python3.8/dist-packages/arviz/data/io_pyro.py:157: UserWarning: Could not get vectorized trace, log_likelihood group will be omitted. Check your model vectorization or set log_likelihood=False\n",
            "  warnings.warn(\n"
          ]
        },
        {
          "output_type": "execute_result",
          "data": {
            "text/plain": [
              "                     mean     sd  hdi_3%  hdi_97%  mcse_mean  mcse_sd  \\\n",
              "kernel.lengthscale  0.298  0.174   0.031    0.610      0.011    0.008   \n",
              "kernel.variance     4.371  4.006   0.728   11.134      0.280    0.198   \n",
              "\n",
              "                    ess_bulk  ess_tail  r_hat  \n",
              "kernel.lengthscale     269.0     338.0   1.00  \n",
              "kernel.variance        271.0     250.0   1.01  "
            ],
            "text/html": [
              "\n",
              "  <div id=\"df-4a5c1442-d1fc-46ec-a8aa-a944878af8a3\">\n",
              "    <div class=\"colab-df-container\">\n",
              "      <div>\n",
              "<style scoped>\n",
              "    .dataframe tbody tr th:only-of-type {\n",
              "        vertical-align: middle;\n",
              "    }\n",
              "\n",
              "    .dataframe tbody tr th {\n",
              "        vertical-align: top;\n",
              "    }\n",
              "\n",
              "    .dataframe thead th {\n",
              "        text-align: right;\n",
              "    }\n",
              "</style>\n",
              "<table border=\"1\" class=\"dataframe\">\n",
              "  <thead>\n",
              "    <tr style=\"text-align: right;\">\n",
              "      <th></th>\n",
              "      <th>mean</th>\n",
              "      <th>sd</th>\n",
              "      <th>hdi_3%</th>\n",
              "      <th>hdi_97%</th>\n",
              "      <th>mcse_mean</th>\n",
              "      <th>mcse_sd</th>\n",
              "      <th>ess_bulk</th>\n",
              "      <th>ess_tail</th>\n",
              "      <th>r_hat</th>\n",
              "    </tr>\n",
              "  </thead>\n",
              "  <tbody>\n",
              "    <tr>\n",
              "      <th>kernel.lengthscale</th>\n",
              "      <td>0.298</td>\n",
              "      <td>0.174</td>\n",
              "      <td>0.031</td>\n",
              "      <td>0.610</td>\n",
              "      <td>0.011</td>\n",
              "      <td>0.008</td>\n",
              "      <td>269.0</td>\n",
              "      <td>338.0</td>\n",
              "      <td>1.00</td>\n",
              "    </tr>\n",
              "    <tr>\n",
              "      <th>kernel.variance</th>\n",
              "      <td>4.371</td>\n",
              "      <td>4.006</td>\n",
              "      <td>0.728</td>\n",
              "      <td>11.134</td>\n",
              "      <td>0.280</td>\n",
              "      <td>0.198</td>\n",
              "      <td>271.0</td>\n",
              "      <td>250.0</td>\n",
              "      <td>1.01</td>\n",
              "    </tr>\n",
              "  </tbody>\n",
              "</table>\n",
              "</div>\n",
              "      <button class=\"colab-df-convert\" onclick=\"convertToInteractive('df-4a5c1442-d1fc-46ec-a8aa-a944878af8a3')\"\n",
              "              title=\"Convert this dataframe to an interactive table.\"\n",
              "              style=\"display:none;\">\n",
              "        \n",
              "  <svg xmlns=\"http://www.w3.org/2000/svg\" height=\"24px\"viewBox=\"0 0 24 24\"\n",
              "       width=\"24px\">\n",
              "    <path d=\"M0 0h24v24H0V0z\" fill=\"none\"/>\n",
              "    <path d=\"M18.56 5.44l.94 2.06.94-2.06 2.06-.94-2.06-.94-.94-2.06-.94 2.06-2.06.94zm-11 1L8.5 8.5l.94-2.06 2.06-.94-2.06-.94L8.5 2.5l-.94 2.06-2.06.94zm10 10l.94 2.06.94-2.06 2.06-.94-2.06-.94-.94-2.06-.94 2.06-2.06.94z\"/><path d=\"M17.41 7.96l-1.37-1.37c-.4-.4-.92-.59-1.43-.59-.52 0-1.04.2-1.43.59L10.3 9.45l-7.72 7.72c-.78.78-.78 2.05 0 2.83L4 21.41c.39.39.9.59 1.41.59.51 0 1.02-.2 1.41-.59l7.78-7.78 2.81-2.81c.8-.78.8-2.07 0-2.86zM5.41 20L4 18.59l7.72-7.72 1.47 1.35L5.41 20z\"/>\n",
              "  </svg>\n",
              "      </button>\n",
              "      \n",
              "  <style>\n",
              "    .colab-df-container {\n",
              "      display:flex;\n",
              "      flex-wrap:wrap;\n",
              "      gap: 12px;\n",
              "    }\n",
              "\n",
              "    .colab-df-convert {\n",
              "      background-color: #E8F0FE;\n",
              "      border: none;\n",
              "      border-radius: 50%;\n",
              "      cursor: pointer;\n",
              "      display: none;\n",
              "      fill: #1967D2;\n",
              "      height: 32px;\n",
              "      padding: 0 0 0 0;\n",
              "      width: 32px;\n",
              "    }\n",
              "\n",
              "    .colab-df-convert:hover {\n",
              "      background-color: #E2EBFA;\n",
              "      box-shadow: 0px 1px 2px rgba(60, 64, 67, 0.3), 0px 1px 3px 1px rgba(60, 64, 67, 0.15);\n",
              "      fill: #174EA6;\n",
              "    }\n",
              "\n",
              "    [theme=dark] .colab-df-convert {\n",
              "      background-color: #3B4455;\n",
              "      fill: #D2E3FC;\n",
              "    }\n",
              "\n",
              "    [theme=dark] .colab-df-convert:hover {\n",
              "      background-color: #434B5C;\n",
              "      box-shadow: 0px 1px 3px 1px rgba(0, 0, 0, 0.15);\n",
              "      filter: drop-shadow(0px 1px 2px rgba(0, 0, 0, 0.3));\n",
              "      fill: #FFFFFF;\n",
              "    }\n",
              "  </style>\n",
              "\n",
              "      <script>\n",
              "        const buttonEl =\n",
              "          document.querySelector('#df-4a5c1442-d1fc-46ec-a8aa-a944878af8a3 button.colab-df-convert');\n",
              "        buttonEl.style.display =\n",
              "          google.colab.kernel.accessAllowed ? 'block' : 'none';\n",
              "\n",
              "        async function convertToInteractive(key) {\n",
              "          const element = document.querySelector('#df-4a5c1442-d1fc-46ec-a8aa-a944878af8a3');\n",
              "          const dataTable =\n",
              "            await google.colab.kernel.invokeFunction('convertToInteractive',\n",
              "                                                     [key], {});\n",
              "          if (!dataTable) return;\n",
              "\n",
              "          const docLinkHtml = 'Like what you see? Visit the ' +\n",
              "            '<a target=\"_blank\" href=https://colab.research.google.com/notebooks/data_table.ipynb>data table notebook</a>'\n",
              "            + ' to learn more about interactive tables.';\n",
              "          element.innerHTML = '';\n",
              "          dataTable['output_type'] = 'display_data';\n",
              "          await google.colab.output.renderOutput(dataTable, element);\n",
              "          const docLink = document.createElement('div');\n",
              "          docLink.innerHTML = docLinkHtml;\n",
              "          element.appendChild(docLink);\n",
              "        }\n",
              "      </script>\n",
              "    </div>\n",
              "  </div>\n",
              "  "
            ]
          },
          "metadata": {},
          "execution_count": 121
        }
      ],
      "source": [
        "pyro.set_rng_seed(1)\n",
        "\n",
        "data = arviz.from_pyro(mcmc)\n",
        "\n",
        "summary = arviz.summary(data)\n",
        "\n",
        "summary"
      ]
    },
    {
      "cell_type": "code",
      "execution_count": null,
      "metadata": {
        "colab": {
          "base_uri": "https://localhost:8080/",
          "height": 389
        },
        "id": "VKKo0GOCMJhB",
        "outputId": "ad3b31e1-aeac-4a05-b6ea-5c0c46c392d0"
      },
      "outputs": [
        {
          "output_type": "execute_result",
          "data": {
            "text/plain": [
              "array([<matplotlib.axes._subplots.AxesSubplot object at 0x7f3a016a5970>,\n",
              "       <matplotlib.axes._subplots.AxesSubplot object at 0x7f3a017ab880>],\n",
              "      dtype=object)"
            ]
          },
          "metadata": {},
          "execution_count": 122
        },
        {
          "output_type": "display_data",
          "data": {
            "text/plain": [
              "<Figure size 993.6x331.2 with 2 Axes>"
            ],
            "image/png": "[encoded data removed]"
          },
          "metadata": {
            "needs_background": "light"
          }
        }
      ],
      "source": [
        "pyro.set_rng_seed(1)\n",
        "\n",
        "arviz.plot_posterior(data)\n",
        "\n",
        "\n",
        "# plt.savefig('posteriorplot.png', dpi = 1000)\n",
        "# from google.colab import files\n",
        "# files.download(\"posteriorplot.png\") \n"
      ]
    },
    {
      "cell_type": "code",
      "execution_count": null,
      "metadata": {
        "colab": {
          "base_uri": "https://localhost:8080/",
          "height": 382
        },
        "id": "eR9KrD5KjvNS",
        "outputId": "2b2a3272-250b-42e3-97e7-5f730e9a4232"
      },
      "outputs": [
        {
          "output_type": "execute_result",
          "data": {
            "text/plain": [
              "array([[<matplotlib.axes._subplots.AxesSubplot object at 0x7f3a016c0610>,\n",
              "        <matplotlib.axes._subplots.AxesSubplot object at 0x7f3a016795b0>],\n",
              "       [<matplotlib.axes._subplots.AxesSubplot object at 0x7f3a01621730>,\n",
              "        <matplotlib.axes._subplots.AxesSubplot object at 0x7f3a01647f70>]],\n",
              "      dtype=object)"
            ]
          },
          "metadata": {},
          "execution_count": 123
        },
        {
          "output_type": "display_data",
          "data": {
            "text/plain": [
              "<Figure size 864x288 with 4 Axes>"
            ],
            "image/png": "[encoded data removed]"
          },
          "metadata": {
            "needs_background": "light"
          }
        }
      ],
      "source": [
        "pyro.set_rng_seed(1)\n",
        "\n",
        "arviz.plot_trace(data)\n",
        "\n",
        "# plt.savefig('traceplot.png', dpi = 1000)\n",
        "# from google.colab import files\n",
        "# files.download('traceplot.png') \n"
      ]
    },
    {
      "cell_type": "code",
      "execution_count": null,
      "metadata": {
        "id": "lRf-e9sEbAXO"
      },
      "outputs": [],
      "source": []
    },
    {
      "cell_type": "code",
      "execution_count": null,
      "metadata": {
        "id": "aH2gQQ6GbAKm"
      },
      "outputs": [],
      "source": []
    },
    {
      "cell_type": "code",
      "execution_count": null,
      "metadata": {
        "id": "19q7qp89a_wz"
      },
      "outputs": [],
      "source": []
    },
    {
      "cell_type": "markdown",
      "metadata": {
        "id": "ZFERnTTibFe8"
      },
      "source": [
        "### B.1.3"
      ]
    },
    {
      "cell_type": "code",
      "execution_count": null,
      "metadata": {
        "id": "56Gdmu6sbRXb"
      },
      "outputs": [],
      "source": [
        "x_test = torch.linspace(-1,1,10)"
      ]
    },
    {
      "cell_type": "code",
      "execution_count": null,
      "metadata": {
        "colab": {
          "base_uri": "https://localhost:8080/"
        },
        "id": "9wzqtKp-bQl1",
        "outputId": "e2d4cf6a-2a29-413c-d9c6-de8bd1ff9cde"
      },
      "outputs": [
        {
          "output_type": "execute_result",
          "data": {
            "text/plain": [
              "tensor([-1.0000, -0.7778, -0.5556, -0.3333, -0.1111,  0.1111,  0.3333,  0.5556,\n",
              "         0.7778,  1.0000])"
            ]
          },
          "metadata": {},
          "execution_count": 125
        }
      ],
      "source": [
        "x_test"
      ]
    },
    {
      "cell_type": "code",
      "execution_count": null,
      "metadata": {
        "colab": {
          "base_uri": "https://localhost:8080/"
        },
        "id": "0IpQJhQ4bQY3",
        "outputId": "55224913-aa4f-4050-9714-408a0fba2918"
      },
      "outputs": [
        {
          "output_type": "stream",
          "name": "stderr",
          "text": [
            "/usr/local/lib/python3.8/dist-packages/pyro/infer/predictive.py:202: UserWarning: Sample's leading dimension size 1000 is different from the provided 100 num_samples argument. Defaulting to 1000.\n",
            "  warnings.warn(\n"
          ]
        }
      ],
      "source": [
        "posterior_predictive=pyro.infer.Predictive(gpr,posterior_hyperparameter_samples,num_samples=100)"
      ]
    },
    {
      "cell_type": "code",
      "execution_count": null,
      "metadata": {
        "colab": {
          "base_uri": "https://localhost:8080/"
        },
        "id": "EI0YU_iN5pKh",
        "outputId": "c29e947a-8ab2-4e1c-cf2f-53df56b6cb69"
      },
      "outputs": [
        {
          "output_type": "execute_result",
          "data": {
            "text/plain": [
              "Predictive(\n",
              "  (model): GPRegression(\n",
              "    (kernel): RBF()\n",
              "  )\n",
              ")"
            ]
          },
          "metadata": {},
          "execution_count": 127
        }
      ],
      "source": [
        "posterior_predictive"
      ]
    },
    {
      "cell_type": "markdown",
      "metadata": {
        "id": "0jTgteW57RHP"
      },
      "source": [
        "We just have to understand the syntax for `pyro.infer.Predictive`."
      ]
    },
    {
      "cell_type": "markdown",
      "metadata": {
        "id": "Md50GzU7XW4I"
      },
      "source": []
    },
    {
      "cell_type": "code",
      "execution_count": null,
      "metadata": {
        "id": "V2p8rpg06X-x"
      },
      "outputs": [],
      "source": [
        "\n"
      ]
    },
    {
      "cell_type": "markdown",
      "metadata": {
        "id": "4xHHmUA0bgOT"
      },
      "source": [
        "**B.1.3**\n",
        "Idea 1"
      ]
    },
    {
      "cell_type": "code",
      "execution_count": null,
      "metadata": {
        "id": "E-yIHRN8bh74"
      },
      "outputs": [],
      "source": []
    },
    {
      "cell_type": "code",
      "execution_count": null,
      "metadata": {
        "id": "4bfIo0cHdJ42"
      },
      "outputs": [],
      "source": []
    },
    {
      "cell_type": "code",
      "execution_count": null,
      "metadata": {
        "id": "axLof2Wy9Aww"
      },
      "outputs": [],
      "source": [
        "\n",
        "kernel_test = gp.kernels.RBF(\n",
        "    input_dim=1, variance=torch.tensor(6.0), lengthscale=torch.tensor(0.05)\n",
        ")\n",
        "gpr_test = gp.models.GPRegression(xs, ys, kernel_test, noise=torch.tensor(0.0001))"
      ]
    },
    {
      "cell_type": "code",
      "execution_count": null,
      "metadata": {
        "id": "rf6_RTLCbfDi",
        "colab": {
          "base_uri": "https://localhost:8080/"
        },
        "outputId": "789dd2c9-48a4-4a4a-a249-02695e03cb35"
      },
      "outputs": [
        {
          "output_type": "execute_result",
          "data": {
            "text/plain": [
              "tensor([-1.0000, -0.7778, -0.5556, -0.3333, -0.1111,  0.1111,  0.3333,  0.5556,\n",
              "         0.7778,  1.0000])"
            ]
          },
          "metadata": {},
          "execution_count": 129
        }
      ],
      "source": [
        "x_test"
      ]
    },
    {
      "cell_type": "code",
      "execution_count": null,
      "metadata": {
        "id": "f38oVXjXb7WC",
        "colab": {
          "base_uri": "https://localhost:8080/"
        },
        "outputId": "7aaf5b5c-60e9-4aec-86d0-f5a1c03aaa25"
      },
      "outputs": [
        {
          "output_type": "execute_result",
          "data": {
            "text/plain": [
              "(tensor([-1.1983,  0.3660,  2.0281,  2.8161,  2.4565,  1.5012,  0.7716,  0.7420,\n",
              "          1.2593,  1.7452], grad_fn=<AddBackward0>),\n",
              " tensor([1.0109e-04, 3.4243e-01, 3.1594e-02, 1.7598e-01, 9.1507e-02, 9.1506e-02,\n",
              "         1.7598e-01, 3.1592e-02, 3.4243e-01, 1.0014e-04],\n",
              "        grad_fn=<ExpandBackward0>))"
            ]
          },
          "metadata": {},
          "execution_count": 130
        }
      ],
      "source": [
        "gpr_test.forward(x_test)"
      ]
    },
    {
      "cell_type": "markdown",
      "metadata": {
        "id": "jadcbtzOdApQ"
      },
      "source": [
        "Remember this is the proir."
      ]
    },
    {
      "cell_type": "code",
      "execution_count": null,
      "metadata": {
        "id": "rU4j4_YbcALA",
        "colab": {
          "base_uri": "https://localhost:8080/"
        },
        "outputId": "ef1cf642-e4d1-4391-dfbb-42b6a0c7384a"
      },
      "outputs": [
        {
          "output_type": "execute_result",
          "data": {
            "text/plain": [
              "tensor([-1.1983,  0.3660,  2.0281,  2.8161,  2.4565,  1.5012,  0.7716,  0.7420,\n",
              "         1.2593,  1.7452], grad_fn=<AddBackward0>)"
            ]
          },
          "metadata": {},
          "execution_count": 131
        }
      ],
      "source": [
        "gpr_test.forward(x_test)[0]"
      ]
    },
    {
      "cell_type": "code",
      "execution_count": null,
      "metadata": {
        "id": "Xs70jz0ldUuL",
        "colab": {
          "base_uri": "https://localhost:8080/"
        },
        "outputId": "76db3d53-aa1c-46e6-dcf7-1a7e1f90d12e"
      },
      "outputs": [
        {
          "output_type": "execute_result",
          "data": {
            "text/plain": [
              "tensor([1.0109e-04, 3.4243e-01, 3.1594e-02, 1.7598e-01, 9.1507e-02, 9.1506e-02,\n",
              "        1.7598e-01, 3.1592e-02, 3.4243e-01, 1.0014e-04],\n",
              "       grad_fn=<ExpandBackward0>)"
            ]
          },
          "metadata": {},
          "execution_count": 132
        }
      ],
      "source": [
        "gpr_test.forward(x_test)[1]"
      ]
    },
    {
      "cell_type": "markdown",
      "metadata": {
        "id": "LvW3JGHVgD_h"
      },
      "source": [
        "To find $m(x^{*})$ and $v(x^{*})$, we will use `.forward`.\n",
        "\n",
        "We will now use a test feature data set"
      ]
    },
    {
      "cell_type": "code",
      "execution_count": null,
      "metadata": {
        "id": "qS11xjQKEhVm",
        "colab": {
          "base_uri": "https://localhost:8080/"
        },
        "outputId": "4b859ef4-8541-4232-9406-d2f9b28035ee"
      },
      "outputs": [
        {
          "output_type": "execute_result",
          "data": {
            "text/plain": [
              "torch.Size([1000])"
            ]
          },
          "metadata": {},
          "execution_count": 133
        }
      ],
      "source": [
        "posterior_vs.shape"
      ]
    },
    {
      "cell_type": "code",
      "execution_count": null,
      "metadata": {
        "id": "amuLjv73dZ-d"
      },
      "outputs": [],
      "source": [
        "means = torch.tensor([])\n",
        "variances = torch.tensor([])\n",
        "pyro.clear_param_store()\n",
        "\n",
        "for i in range(1000):\n",
        "    pyro.clear_param_store()\n",
        "    \n",
        "    kernels = gp.kernels.RBF(input_dim = 1, variance = posterior_vs[i], lengthscale=posterior_ls[i])\n",
        "    \n",
        "    gprs = gp.models.GPRegression(xs,ys,kernel=kernels,noise=torch.tensor([0.0001]))\n",
        "\n",
        "    means = torch.cat((means,gprs.forward(x_test)[0]),-1)\n",
        "\n",
        "    variances = torch.cat((variances,gprs.forward(x_test)[1]),0)\n"
      ]
    },
    {
      "cell_type": "code",
      "execution_count": null,
      "metadata": {
        "id": "ga0qcE9AH7Bx"
      },
      "outputs": [],
      "source": [
        "# Reshape the tensor two 10 by 1000."
      ]
    },
    {
      "cell_type": "code",
      "execution_count": null,
      "metadata": {
        "id": "er90Qt42IQ6M"
      },
      "outputs": [],
      "source": [
        "means = torch.reshape(means,(10,1000))"
      ]
    },
    {
      "cell_type": "markdown",
      "metadata": {
        "id": "d14lPZg4I57R"
      },
      "source": [
        "Reshaping `variances` in the same way."
      ]
    },
    {
      "cell_type": "code",
      "execution_count": null,
      "metadata": {
        "id": "g0CJxsLoJKP_"
      },
      "outputs": [],
      "source": [
        "variances = torch.reshape( variances, (10,1000) )"
      ]
    },
    {
      "cell_type": "markdown",
      "metadata": {
        "id": "PjbgEo2uJXtJ"
      },
      "source": [
        "The $m(x^{*})$ is estimated as the mean of all the means. Assuming i.i.d., the $v(x^{*})$ is also estimated as the mean."
      ]
    },
    {
      "cell_type": "code",
      "execution_count": null,
      "metadata": {
        "id": "S-hVDmEIJV9h"
      },
      "outputs": [],
      "source": [
        "means_estimate = torch.mean(means,dim=1) # mean along the rows."
      ]
    },
    {
      "cell_type": "code",
      "execution_count": null,
      "metadata": {
        "id": "-Niw_Ur-KpKk",
        "colab": {
          "base_uri": "https://localhost:8080/"
        },
        "outputId": "2c537d61-dfca-4925-bf1a-d693597e2631"
      },
      "outputs": [
        {
          "output_type": "execute_result",
          "data": {
            "text/plain": [
              "torch.Size([10])"
            ]
          },
          "metadata": {},
          "execution_count": 139
        }
      ],
      "source": [
        "means_estimate.shape"
      ]
    },
    {
      "cell_type": "code",
      "execution_count": null,
      "metadata": {
        "id": "qAyC2QRELWYK",
        "colab": {
          "base_uri": "https://localhost:8080/"
        },
        "outputId": "396ef538-7580-461e-89f5-b659f16540b8"
      },
      "outputs": [
        {
          "output_type": "execute_result",
          "data": {
            "text/plain": [
              "tensor([1.0648, 1.0959, 1.0444, 1.0457, 0.9618, 0.9995, 1.1225, 1.0934, 1.0737,\n",
              "        1.0515], grad_fn=<MeanBackward1>)"
            ]
          },
          "metadata": {},
          "execution_count": 140
        }
      ],
      "source": [
        "means_estimate"
      ]
    },
    {
      "cell_type": "code",
      "execution_count": null,
      "metadata": {
        "id": "YLLhDMJ8KrS1"
      },
      "outputs": [],
      "source": [
        "variances_estimates = torch.mean( variances, dim=1 )"
      ]
    },
    {
      "cell_type": "code",
      "execution_count": null,
      "metadata": {
        "id": "0CbVcZwjKxlO",
        "colab": {
          "base_uri": "https://localhost:8080/"
        },
        "outputId": "606e38f9-c139-4b43-fab5-55a615838d0c"
      },
      "outputs": [
        {
          "output_type": "execute_result",
          "data": {
            "text/plain": [
              "tensor([0.6885, 0.6768, 0.7739, 0.9962, 1.0366, 0.8863, 0.5355, 0.7313, 0.9927,\n",
              "        0.7796], grad_fn=<MeanBackward1>)"
            ]
          },
          "metadata": {},
          "execution_count": 142
        }
      ],
      "source": [
        "variances_estimates"
      ]
    },
    {
      "cell_type": "markdown",
      "metadata": {
        "id": "mxy9RR9kMf65"
      },
      "source": [
        "## B.2 Bayesian Optimization"
      ]
    },
    {
      "cell_type": "markdown",
      "metadata": {
        "id": "syq-0gKGMj_d"
      },
      "source": []
    },
    {
      "cell_type": "code",
      "execution_count": null,
      "metadata": {
        "id": "xafvjlFNMQP0"
      },
      "outputs": [],
      "source": []
    },
    {
      "cell_type": "code",
      "execution_count": null,
      "metadata": {
        "id": "Ik6IBkV5O4iI"
      },
      "outputs": [],
      "source": [
        "x_candidate = torch.linspace(-1,1,200)"
      ]
    },
    {
      "cell_type": "code",
      "execution_count": null,
      "metadata": {
        "id": "aShYYn4gO9xF",
        "colab": {
          "base_uri": "https://localhost:8080/"
        },
        "outputId": "c6a0d7ce-e286-4f43-fdf7-2448804ba9b1"
      },
      "outputs": [
        {
          "output_type": "execute_result",
          "data": {
            "text/plain": [
              "torch.Size([200])"
            ]
          },
          "metadata": {},
          "execution_count": 144
        }
      ],
      "source": [
        "x_candidate.shape"
      ]
    },
    {
      "cell_type": "code",
      "execution_count": null,
      "metadata": {
        "id": "ozYtae1KO-n5",
        "colab": {
          "base_uri": "https://localhost:8080/"
        },
        "outputId": "6b142acc-6bdd-4529-cc7a-b1bbef54936d"
      },
      "outputs": [
        {
          "output_type": "execute_result",
          "data": {
            "text/plain": [
              "tensor([-1.0000, -0.9899, -0.9799, -0.9698, -0.9598, -0.9497, -0.9397, -0.9296,\n",
              "        -0.9196, -0.9095, -0.8995, -0.8894, -0.8794, -0.8693, -0.8593, -0.8492,\n",
              "        -0.8392, -0.8291, -0.8191, -0.8090, -0.7990, -0.7889, -0.7789, -0.7688,\n",
              "        -0.7588, -0.7487, -0.7387, -0.7286, -0.7186, -0.7085, -0.6985, -0.6884,\n",
              "        -0.6784, -0.6683, -0.6583, -0.6482, -0.6382, -0.6281, -0.6181, -0.6080,\n",
              "        -0.5980, -0.5879, -0.5779, -0.5678, -0.5578, -0.5477, -0.5377, -0.5276,\n",
              "        -0.5176, -0.5075, -0.4975, -0.4874, -0.4774, -0.4673, -0.4573, -0.4472,\n",
              "        -0.4372, -0.4271, -0.4171, -0.4070, -0.3970, -0.3869, -0.3769, -0.3668,\n",
              "        -0.3568, -0.3467, -0.3367, -0.3266, -0.3166, -0.3065, -0.2965, -0.2864,\n",
              "        -0.2764, -0.2663, -0.2563, -0.2462, -0.2362, -0.2261, -0.2161, -0.2060,\n",
              "        -0.1960, -0.1859, -0.1759, -0.1658, -0.1558, -0.1457, -0.1357, -0.1256,\n",
              "        -0.1156, -0.1055, -0.0955, -0.0854, -0.0754, -0.0653, -0.0553, -0.0452,\n",
              "        -0.0352, -0.0251, -0.0151, -0.0050,  0.0050,  0.0151,  0.0251,  0.0352,\n",
              "         0.0452,  0.0553,  0.0653,  0.0754,  0.0854,  0.0955,  0.1055,  0.1156,\n",
              "         0.1256,  0.1357,  0.1457,  0.1558,  0.1658,  0.1759,  0.1859,  0.1960,\n",
              "         0.2060,  0.2161,  0.2261,  0.2362,  0.2462,  0.2563,  0.2663,  0.2764,\n",
              "         0.2864,  0.2965,  0.3065,  0.3166,  0.3266,  0.3367,  0.3467,  0.3568,\n",
              "         0.3668,  0.3769,  0.3869,  0.3970,  0.4070,  0.4171,  0.4271,  0.4372,\n",
              "         0.4472,  0.4573,  0.4673,  0.4774,  0.4874,  0.4975,  0.5075,  0.5176,\n",
              "         0.5276,  0.5377,  0.5477,  0.5578,  0.5678,  0.5779,  0.5879,  0.5980,\n",
              "         0.6080,  0.6181,  0.6281,  0.6382,  0.6482,  0.6583,  0.6683,  0.6784,\n",
              "         0.6884,  0.6985,  0.7085,  0.7186,  0.7286,  0.7387,  0.7487,  0.7588,\n",
              "         0.7688,  0.7789,  0.7889,  0.7990,  0.8090,  0.8191,  0.8291,  0.8392,\n",
              "         0.8492,  0.8593,  0.8693,  0.8794,  0.8894,  0.8995,  0.9095,  0.9196,\n",
              "         0.9296,  0.9397,  0.9497,  0.9598,  0.9698,  0.9799,  0.9899,  1.0000])"
            ]
          },
          "metadata": {},
          "execution_count": 145
        }
      ],
      "source": [
        "x_candidate"
      ]
    },
    {
      "cell_type": "code",
      "execution_count": null,
      "metadata": {
        "id": "WqEycPGrVXXm",
        "colab": {
          "base_uri": "https://localhost:8080/"
        },
        "outputId": "99aae41f-94be-4046-8cef-5c1eba7b062f"
      },
      "outputs": [
        {
          "output_type": "execute_result",
          "data": {
            "text/plain": [
              "(tensor([-1.1976, -1.1144, -1.0307, -0.9466, -0.8623, -0.7776, -0.6928, -0.6078,\n",
              "         -0.5227, -0.4376, -0.3525, -0.2676, -0.1828, -0.0983, -0.0140,  0.0698,\n",
              "          0.1533,  0.2363,  0.3187,  0.4006,  0.4817,  0.5622,  0.6418,  0.7206,\n",
              "          0.7985,  0.8754,  0.9513,  1.0262,  1.0999,  1.1724,  1.2437,  1.3137,\n",
              "          1.3823,  1.4496,  1.5155,  1.5798,  1.6427,  1.7039,  1.7636,  1.8217,\n",
              "          1.8780,  1.9327,  1.9856,  2.0367,  2.0860,  2.1334,  2.1790,  2.2227,\n",
              "          2.2646,  2.3044,  2.3424,  2.3783,  2.4123,  2.4443,  2.4744,  2.5024,\n",
              "          2.5284,  2.5524,  2.5744,  2.5944,  2.6124,  2.6284,  2.6424,  2.6544,\n",
              "          2.6645,  2.6726,  2.6788,  2.6831,  2.6855,  2.6861,  2.6847,  2.6816,\n",
              "          2.6767,  2.6701,  2.6617,  2.6516,  2.6399,  2.6266,  2.6117,  2.5952,\n",
              "          2.5773,  2.5579,  2.5371,  2.5150,  2.4916,  2.4669,  2.4410,  2.4139,\n",
              "          2.3858,  2.3565,  2.3263,  2.2952,  2.2631,  2.2303,  2.1966,  2.1623,\n",
              "          2.1272,  2.0916,  2.0554,  2.0188,  1.9817,  1.9442,  1.9065,  1.8684,\n",
              "          1.8302,  1.7918,  1.7534,  1.7149,  1.6765,  1.6381,  1.5999,  1.5619,\n",
              "          1.5241,  1.4867,  1.4496,  1.4129,  1.3766,  1.3409,  1.3057,  1.2711,\n",
              "          1.2371,  1.2038,  1.1713,  1.1395,  1.1086,  1.0784,  1.0492,  1.0209,\n",
              "          0.9936,  0.9672,  0.9419,  0.9176,  0.8944,  0.8722,  0.8513,  0.8314,\n",
              "          0.8127,  0.7952,  0.7789,  0.7639,  0.7500,  0.7374,  0.7261,  0.7160,\n",
              "          0.7072,  0.6997,  0.6934,  0.6884,  0.6847,  0.6823,  0.6811,  0.6812,\n",
              "          0.6826,  0.6852,  0.6890,  0.6941,  0.7003,  0.7078,  0.7165,  0.7263,\n",
              "          0.7373,  0.7494,  0.7626,  0.7769,  0.7922,  0.8085,  0.8259,  0.8443,\n",
              "          0.8635,  0.8837,  0.9048,  0.9268,  0.9496,  0.9731,  0.9975,  1.0225,\n",
              "          1.0482,  1.0746,  1.1016,  1.1292,  1.1574,  1.1860,  1.2151,  1.2446,\n",
              "          1.2746,  1.3048,  1.3355,  1.3663,  1.3975,  1.4288,  1.4603,  1.4919,\n",
              "          1.5236,  1.5553,  1.5871,  1.6189,  1.6505,  1.6821,  1.7136,  1.7449],\n",
              "        grad_fn=<AddBackward0>),\n",
              " tensor([0.0001, 0.0001, 0.0002, 0.0002, 0.0003, 0.0005, 0.0006, 0.0007, 0.0009,\n",
              "         0.0010, 0.0012, 0.0013, 0.0014, 0.0015, 0.0017, 0.0017, 0.0018, 0.0019,\n",
              "         0.0019, 0.0020, 0.0020, 0.0020, 0.0020, 0.0019, 0.0019, 0.0018, 0.0018,\n",
              "         0.0017, 0.0016, 0.0015, 0.0014, 0.0013, 0.0012, 0.0011, 0.0010, 0.0009,\n",
              "         0.0008, 0.0007, 0.0007, 0.0006, 0.0005, 0.0004, 0.0003, 0.0003, 0.0002,\n",
              "         0.0002, 0.0002, 0.0001, 0.0001, 0.0001, 0.0001, 0.0001, 0.0001, 0.0001,\n",
              "         0.0002, 0.0002, 0.0002, 0.0002, 0.0003, 0.0003, 0.0004, 0.0004, 0.0004,\n",
              "         0.0005, 0.0005, 0.0006, 0.0006, 0.0006, 0.0006, 0.0007, 0.0007, 0.0007,\n",
              "         0.0007, 0.0007, 0.0007, 0.0007, 0.0007, 0.0007, 0.0007, 0.0007, 0.0006,\n",
              "         0.0006, 0.0006, 0.0005, 0.0005, 0.0005, 0.0004, 0.0004, 0.0004, 0.0003,\n",
              "         0.0003, 0.0002, 0.0002, 0.0002, 0.0002, 0.0001, 0.0001, 0.0001, 0.0001,\n",
              "         0.0001, 0.0001, 0.0001, 0.0001, 0.0001, 0.0001, 0.0002, 0.0002, 0.0002,\n",
              "         0.0002, 0.0003, 0.0003, 0.0004, 0.0004, 0.0004, 0.0005, 0.0005, 0.0005,\n",
              "         0.0006, 0.0006, 0.0006, 0.0007, 0.0007, 0.0007, 0.0007, 0.0007, 0.0007,\n",
              "         0.0007, 0.0007, 0.0007, 0.0007, 0.0007, 0.0006, 0.0006, 0.0006, 0.0006,\n",
              "         0.0005, 0.0005, 0.0004, 0.0004, 0.0004, 0.0003, 0.0003, 0.0002, 0.0002,\n",
              "         0.0002, 0.0002, 0.0001, 0.0001, 0.0001, 0.0001, 0.0001, 0.0001, 0.0001,\n",
              "         0.0002, 0.0002, 0.0002, 0.0003, 0.0003, 0.0004, 0.0005, 0.0006, 0.0007,\n",
              "         0.0007, 0.0008, 0.0009, 0.0010, 0.0011, 0.0012, 0.0013, 0.0014, 0.0015,\n",
              "         0.0016, 0.0017, 0.0018, 0.0018, 0.0019, 0.0019, 0.0020, 0.0020, 0.0020,\n",
              "         0.0020, 0.0019, 0.0019, 0.0018, 0.0017, 0.0017, 0.0015, 0.0014, 0.0013,\n",
              "         0.0012, 0.0010, 0.0009, 0.0007, 0.0006, 0.0005, 0.0003, 0.0002, 0.0002,\n",
              "         0.0001, 0.0001], grad_fn=<ExpandBackward0>))"
            ]
          },
          "metadata": {},
          "execution_count": 146
        }
      ],
      "source": [
        "\n",
        "\n",
        "gpr(x_candidate)"
      ]
    },
    {
      "cell_type": "code",
      "execution_count": null,
      "metadata": {
        "id": "bk7vEi6xVc3P"
      },
      "outputs": [],
      "source": [
        "# Doing some testing.\n",
        "\n",
        "kernel_test = gp.kernels.RBF(\n",
        "    input_dim=1, variance=torch.tensor(6.0), lengthscale=torch.tensor(0.05)\n",
        ")\n",
        "gpr_test = gp.models.GPRegression(xs, ys, kernel_test, noise=torch.tensor(0.0001))\n",
        "\n"
      ]
    },
    {
      "cell_type": "code",
      "execution_count": null,
      "metadata": {
        "id": "Gc0PMVx6WDY_",
        "colab": {
          "base_uri": "https://localhost:8080/"
        },
        "outputId": "7806b6d4-0513-4ad9-89f7-7466d4a69470"
      },
      "outputs": [
        {
          "output_type": "execute_result",
          "data": {
            "text/plain": [
              "(tensor([-1.1983, -1.1437, -1.0872, -1.0287, -0.9684, -0.9062, -0.8422, -0.7766,\n",
              "         -0.7093, -0.6405, -0.5702, -0.4985, -0.4255, -0.3512, -0.2758, -0.1994,\n",
              "         -0.1220, -0.0437,  0.0353,  0.1150,  0.1952,  0.2759,  0.3570,  0.4383,\n",
              "          0.5197,  0.6012,  0.6826,  0.7638,  0.8447,  0.9252,  1.0052,  1.0845,\n",
              "          1.1632,  1.2410,  1.3179,  1.3938,  1.4685,  1.5420,  1.6142,  1.6850,\n",
              "          1.7542,  1.8219,  1.8879,  1.9521,  2.0145,  2.0750,  2.1335,  2.1899,\n",
              "          2.2442,  2.2964,  2.3463,  2.3939,  2.4393,  2.4822,  2.5228,  2.5608,\n",
              "          2.5965,  2.6296,  2.6602,  2.6883,  2.7138,  2.7367,  2.7571,  2.7750,\n",
              "          2.7903,  2.8030,  2.8132,  2.8209,  2.8262,  2.8289,  2.8292,  2.8271,\n",
              "          2.8227,  2.8159,  2.8068,  2.7956,  2.7821,  2.7665,  2.7488,  2.7291,\n",
              "          2.7075,  2.6840,  2.6586,  2.6315,  2.6027,  2.5724,  2.5404,  2.5071,\n",
              "          2.4723,  2.4363,  2.3990,  2.3606,  2.3211,  2.2807,  2.2394,  2.1973,\n",
              "          2.1544,  2.1109,  2.0669,  2.0224,  1.9775,  1.9323,  1.8869,  1.8414,\n",
              "          1.7958,  1.7502,  1.7048,  1.6595,  1.6145,  1.5699,  1.5256,  1.4819,\n",
              "          1.4387,  1.3961,  1.3542,  1.3131,  1.2728,  1.2335,  1.1950,  1.1576,\n",
              "          1.1212,  1.0860,  1.0519,  1.0190,  0.9874,  0.9571,  0.9281,  0.9005,\n",
              "          0.8743,  0.8495,  0.8263,  0.8045,  0.7842,  0.7655,  0.7483,  0.7328,\n",
              "          0.7187,  0.7063,  0.6955,  0.6862,  0.6786,  0.6725,  0.6681,  0.6652,\n",
              "          0.6638,  0.6640,  0.6657,  0.6689,  0.6736,  0.6798,  0.6874,  0.6963,\n",
              "          0.7066,  0.7183,  0.7312,  0.7453,  0.7606,  0.7771,  0.7947,  0.8133,\n",
              "          0.8329,  0.8534,  0.8749,  0.8972,  0.9202,  0.9440,  0.9684,  0.9934,\n",
              "          1.0189,  1.0449,  1.0713,  1.0981,  1.1251,  1.1524,  1.1798,  1.2073,\n",
              "          1.2349,  1.2623,  1.2897,  1.3170,  1.3440,  1.3708,  1.3972,  1.4232,\n",
              "          1.4487,  1.4738,  1.4983,  1.5222,  1.5454,  1.5679,  1.5897,  1.6107,\n",
              "          1.6308,  1.6501,  1.6684,  1.6858,  1.7022,  1.7176,  1.7319,  1.7452],\n",
              "        grad_fn=<AddBackward0>),\n",
              " tensor([1.0109e-04, 2.3985e-03, 8.9722e-03, 1.9345e-02, 3.3014e-02, 4.9503e-02,\n",
              "         6.8295e-02, 8.8915e-02, 1.1087e-01, 1.3371e-01, 1.5697e-01, 1.8023e-01,\n",
              "         2.0307e-01, 2.2514e-01, 2.4607e-01, 2.6553e-01, 2.8326e-01, 2.9902e-01,\n",
              "         3.1259e-01, 3.2380e-01, 3.3252e-01, 3.3867e-01, 3.4220e-01, 3.4309e-01,\n",
              "         3.4138e-01, 3.3712e-01, 3.3042e-01, 3.2141e-01, 3.1025e-01, 2.9712e-01,\n",
              "         2.8224e-01, 2.6583e-01, 2.4816e-01, 2.2948e-01, 2.1006e-01, 1.9018e-01,\n",
              "         1.7011e-01, 1.5014e-01, 1.3054e-01, 1.1156e-01, 9.3463e-02, 7.6468e-02,\n",
              "         6.0788e-02, 4.6619e-02, 3.4128e-02, 2.3449e-02, 1.4696e-02, 7.9556e-03,\n",
              "         3.2778e-03, 6.7997e-04, 1.6499e-04, 1.6890e-03, 5.1813e-03, 1.0558e-02,\n",
              "         1.7691e-02, 2.6435e-02, 3.6629e-02, 4.8087e-02, 6.0602e-02, 7.3965e-02,\n",
              "         8.7949e-02, 1.0232e-01, 1.1685e-01, 1.3129e-01, 1.4543e-01, 1.5904e-01,\n",
              "         1.7190e-01, 1.8381e-01, 1.9459e-01, 2.0407e-01, 2.1211e-01, 2.1860e-01,\n",
              "         2.2343e-01, 2.2653e-01, 2.2786e-01, 2.2741e-01, 2.2518e-01, 2.2123e-01,\n",
              "         2.1560e-01, 2.0839e-01, 1.9973e-01, 1.8974e-01, 1.7857e-01, 1.6642e-01,\n",
              "         1.5346e-01, 1.3990e-01, 1.2594e-01, 1.1180e-01, 9.7704e-02, 8.3861e-02,\n",
              "         7.0485e-02, 5.7787e-02, 4.5951e-02, 3.5169e-02, 2.5599e-02, 1.7390e-02,\n",
              "         1.0670e-02, 5.5323e-03, 2.0666e-03, 3.2043e-04, 3.1853e-04, 2.0666e-03,\n",
              "         5.5332e-03, 1.0669e-02, 1.7391e-02, 2.5600e-02, 3.5169e-02, 4.5952e-02,\n",
              "         5.7786e-02, 7.0487e-02, 8.3861e-02, 9.7705e-02, 1.1180e-01, 1.2594e-01,\n",
              "         1.3990e-01, 1.5346e-01, 1.6642e-01, 1.7858e-01, 1.8974e-01, 1.9972e-01,\n",
              "         2.0839e-01, 2.1560e-01, 2.2122e-01, 2.2518e-01, 2.2741e-01, 2.2786e-01,\n",
              "         2.2653e-01, 2.2343e-01, 2.1860e-01, 2.1211e-01, 2.0407e-01, 1.9458e-01,\n",
              "         1.8380e-01, 1.7189e-01, 1.5904e-01, 1.4543e-01, 1.3130e-01, 1.1685e-01,\n",
              "         1.0232e-01, 8.7946e-02, 7.3962e-02, 6.0601e-02, 4.8087e-02, 3.6628e-02,\n",
              "         2.6435e-02, 1.7688e-02, 1.0558e-02, 5.1813e-03, 1.6880e-03, 1.6308e-04,\n",
              "         6.7806e-04, 3.2730e-03, 7.9546e-03, 1.4692e-02, 2.3446e-02, 3.4127e-02,\n",
              "         4.6617e-02, 6.0787e-02, 7.6467e-02, 9.3461e-02, 1.1156e-01, 1.3054e-01,\n",
              "         1.5014e-01, 1.7011e-01, 1.9017e-01, 2.1005e-01, 2.2948e-01, 2.4816e-01,\n",
              "         2.6584e-01, 2.8224e-01, 2.9712e-01, 3.1024e-01, 3.2141e-01, 3.3042e-01,\n",
              "         3.3712e-01, 3.4138e-01, 3.4309e-01, 3.4220e-01, 3.3867e-01, 3.3253e-01,\n",
              "         3.2380e-01, 3.1259e-01, 2.9902e-01, 2.8327e-01, 2.6553e-01, 2.4606e-01,\n",
              "         2.2514e-01, 2.0307e-01, 1.8023e-01, 1.5698e-01, 1.3371e-01, 1.1088e-01,\n",
              "         8.8915e-02, 6.8299e-02, 4.9502e-02, 3.3015e-02, 1.9345e-02, 8.9731e-03,\n",
              "         2.4004e-03, 1.0014e-04], grad_fn=<ExpandBackward0>))"
            ]
          },
          "metadata": {},
          "execution_count": 148
        }
      ],
      "source": [
        "gpr_test.forward(x_candidate)"
      ]
    },
    {
      "cell_type": "code",
      "execution_count": null,
      "metadata": {
        "id": "ZwAWhsVhWNXd"
      },
      "outputs": [],
      "source": [
        "means_f = torch.tensor([])\n",
        "variances_f = torch.tensor([])\n",
        "pyro.clear_param_store()\n",
        "\n",
        "for i in range(1000):\n",
        "    pyro.clear_param_store()\n",
        "    \n",
        "    kernels_f = gp.kernels.RBF(input_dim = 1, variance = posterior_vs[i], lengthscale=posterior_ls[i])\n",
        "    \n",
        "    gprs_f = gp.models.GPRegression(xs,ys,kernel=kernels_f,noise=torch.tensor([0.0001]))\n",
        "    \n",
        "    means_f = torch.cat((means_f,gprs.forward(x_candidate)[0]),-1)\n",
        "\n",
        "    variances_f = torch.cat((variances_f,gprs.forward(x_candidate)[1]),0)\n"
      ]
    },
    {
      "cell_type": "code",
      "execution_count": null,
      "metadata": {
        "id": "LeiLCBvkcIWU"
      },
      "outputs": [],
      "source": [
        "means_f = torch.reshape( means_f, (200,1000) )\n",
        "\n",
        "means_f_estimates = torch.mean( means_f, dim=1 )"
      ]
    },
    {
      "cell_type": "code",
      "execution_count": null,
      "metadata": {
        "id": "o5lyHMQ6as4Y"
      },
      "outputs": [],
      "source": [
        "variances_f = torch.reshape( variances_f, (200,1000) )\n",
        "\n",
        "variances_f_estimates = torch.mean( variances_f, dim=1 )"
      ]
    },
    {
      "cell_type": "code",
      "execution_count": null,
      "metadata": {
        "id": "m3KPg3TlcGkO",
        "colab": {
          "base_uri": "https://localhost:8080/"
        },
        "outputId": "c6d411a9-bb2f-41af-ce29-32ab33fab5f9"
      },
      "outputs": [
        {
          "output_type": "execute_result",
          "data": {
            "text/plain": [
              "torch.Size([200])"
            ]
          },
          "metadata": {},
          "execution_count": 152
        }
      ],
      "source": [
        "means_f_estimates.shape"
      ]
    },
    {
      "cell_type": "markdown",
      "metadata": {
        "id": "7OPE9xlaeew4"
      },
      "source": [
        "Now the idea is to generate a tensor of dim 200. This is $f^{*}$ values. $f^{*}$ corresponds to $x^{*} \\in [-1,1]$."
      ]
    },
    {
      "cell_type": "code",
      "execution_count": null,
      "metadata": {
        "id": "yXkIs-EKcrYR"
      },
      "outputs": [],
      "source": [
        "f_asterisk = torch.tensor([])\n",
        "\n",
        "for i in range(200):\n",
        "    # torch.manual_seed(1) — If I add this, then it will of course be the same value you get.\n",
        "    f_asterisk = torch.cat( ( f_asterisk, torch.normal(mean=means_f_estimates[i].data,std=torch.sqrt(variances_f_estimates[i]).data, size=(1,)) ), dim=-1)\n",
        "\n"
      ]
    },
    {
      "cell_type": "code",
      "execution_count": null,
      "metadata": {
        "id": "j43yk7NxfyO6",
        "colab": {
          "base_uri": "https://localhost:8080/"
        },
        "outputId": "5a9cfda4-822b-47e4-c5d6-57f995d6c5e0"
      },
      "outputs": [
        {
          "output_type": "execute_result",
          "data": {
            "text/plain": [
              "tensor([0.2214])"
            ]
          },
          "metadata": {},
          "execution_count": 154
        }
      ],
      "source": [
        "torch.normal(mean=0.0,std=1.0, size=(1,))"
      ]
    },
    {
      "cell_type": "code",
      "execution_count": null,
      "metadata": {
        "id": "-yban8fRhM0_",
        "colab": {
          "base_uri": "https://localhost:8080/"
        },
        "outputId": "4ee675d5-5d68-4db0-f43a-d2cb41226a82"
      },
      "outputs": [
        {
          "output_type": "execute_result",
          "data": {
            "text/plain": [
              "tensor(1.3601, grad_fn=<SelectBackward0>)"
            ]
          },
          "metadata": {},
          "execution_count": 155
        }
      ],
      "source": [
        "means_f_estimates[3]"
      ]
    },
    {
      "cell_type": "code",
      "execution_count": null,
      "metadata": {
        "id": "gIIs5ci8jOwB",
        "colab": {
          "base_uri": "https://localhost:8080/"
        },
        "outputId": "a1dfb834-21a0-4f66-84d4-3c69e8ad0e45"
      },
      "outputs": [
        {
          "output_type": "execute_result",
          "data": {
            "text/plain": [
              "tensor([1.3520])"
            ]
          },
          "metadata": {},
          "execution_count": 156
        }
      ],
      "source": [
        "torch.normal(mean=means_f_estimates[1].data,std=variances_f_estimates[1].data, size=(1,)) "
      ]
    },
    {
      "cell_type": "code",
      "execution_count": null,
      "metadata": {
        "id": "HWo7p4u8jsrC",
        "colab": {
          "base_uri": "https://localhost:8080/"
        },
        "outputId": "193a863f-7943-405e-8779-62ef94065a2d"
      },
      "outputs": [
        {
          "output_type": "execute_result",
          "data": {
            "text/plain": [
              "tensor(1.3601)"
            ]
          },
          "metadata": {},
          "execution_count": 157
        }
      ],
      "source": [
        "means_f_estimates[1].data"
      ]
    },
    {
      "cell_type": "code",
      "execution_count": null,
      "metadata": {
        "id": "SmmZnvInkI0I",
        "colab": {
          "base_uri": "https://localhost:8080/"
        },
        "outputId": "0858b30c-ea42-478e-8066-8736654b25e3"
      },
      "outputs": [
        {
          "output_type": "execute_result",
          "data": {
            "text/plain": [
              "tensor([1.6107, 1.4612, 1.3834, 1.5955, 1.1888, 1.2971, 0.7831, 1.5047, 0.9707,\n",
              "        1.1467, 1.0220, 1.3380, 1.2860, 0.9942, 1.5201, 1.4613, 1.2005, 1.1665,\n",
              "        0.7642, 1.3134, 2.7192, 0.6662, 1.9658, 0.8762, 1.4834, 1.1785, 1.8826,\n",
              "        2.3182, 1.5157, 0.9857, 1.0160, 1.5655, 1.4018, 0.5041, 1.5899, 1.3076,\n",
              "        1.6749, 1.2662, 1.0558, 1.4497, 1.4683, 1.6214, 1.1202, 1.6933, 1.1008,\n",
              "        1.5318, 1.4704, 1.0449, 1.1507, 1.6008, 1.2097, 1.1111, 0.7376, 1.7315,\n",
              "        1.3441, 1.0491, 1.4788, 0.9299, 1.5030, 1.2530, 0.3875, 0.8181, 1.5499,\n",
              "        1.5661, 1.2063, 1.7898, 0.9389, 1.4927, 1.0682, 1.3043, 1.5977, 1.7744,\n",
              "        1.3956, 1.8292, 0.8501, 1.5540, 1.0974, 1.2969, 0.9812, 0.7358, 1.6669,\n",
              "        1.3811, 1.7897, 1.1582, 1.6098, 0.7552, 1.2173, 0.1847, 1.3224, 1.0868,\n",
              "        1.8416, 1.3593, 0.9451, 1.5880, 1.6247, 1.0567, 1.9429, 1.9160, 1.9645,\n",
              "        0.7811, 1.7449, 1.2835, 0.8726, 1.6719, 1.1289, 0.8690, 1.0026, 1.6133,\n",
              "        1.8006, 1.2377, 2.0717, 1.1454, 1.5122, 1.3164, 1.4802, 1.5733, 1.6883,\n",
              "        1.2264, 1.4920, 1.7909, 1.2335, 0.8021, 1.6365, 1.3104, 1.1188, 1.7552,\n",
              "        1.5458, 1.7510, 1.1331, 1.9669, 0.9533, 0.8988, 1.6053, 1.3445, 1.2928,\n",
              "        1.1706, 1.6887, 1.2565, 1.1855, 1.3225, 1.5392, 1.7408, 1.2513, 0.9198,\n",
              "        1.3705, 1.5742, 1.3557, 1.6142, 1.1733, 1.9303, 0.4786, 1.9727, 1.0180,\n",
              "        1.4259, 1.3893, 1.0062, 1.3947, 1.8882, 1.0995, 1.1684, 1.4330, 1.6314,\n",
              "        1.0524, 0.8062, 1.4483, 1.4319, 1.2765, 1.4165, 1.3638, 1.3130, 1.9169,\n",
              "        1.2104, 1.1668, 1.7830, 1.1355, 1.7045, 0.9511, 1.1043, 1.8937, 0.6607,\n",
              "        1.1458, 1.0155, 1.1747, 1.1261, 1.5054, 1.5060, 1.6590, 1.7906, 1.3166,\n",
              "        1.3532, 1.3787, 1.5219, 1.0192, 1.5614, 1.5129, 1.9103, 0.4438, 0.9089,\n",
              "        1.6239, 1.7881])"
            ]
          },
          "metadata": {},
          "execution_count": 158
        }
      ],
      "source": [
        "\n",
        "f_asterisk\n",
        "# The are all "
      ]
    },
    {
      "cell_type": "markdown",
      "metadata": {
        "id": "QFnuMcI-obt5"
      },
      "source": [
        "Either something is wrong, or the GP regression model is bad. All of the f* are positive. This seems to be very unreasonable."
      ]
    },
    {
      "cell_type": "code",
      "execution_count": null,
      "metadata": {
        "id": "sKO5UmIxliU-",
        "colab": {
          "base_uri": "https://localhost:8080/"
        },
        "outputId": "4464cac1-dbdd-45ea-8d64-8716370d1718"
      },
      "outputs": [
        {
          "output_type": "execute_result",
          "data": {
            "text/plain": [
              "tensor(87)"
            ]
          },
          "metadata": {},
          "execution_count": 159
        }
      ],
      "source": [
        "torch.argmin(f_asterisk)"
      ]
    },
    {
      "cell_type": "code",
      "execution_count": null,
      "metadata": {
        "id": "dp-pM0e-3bYp",
        "colab": {
          "base_uri": "https://localhost:8080/"
        },
        "outputId": "05dba427-743d-4854-f344-294b00f89287"
      },
      "outputs": [
        {
          "output_type": "execute_result",
          "data": {
            "text/plain": [
              "tensor(-0.1357)"
            ]
          },
          "metadata": {},
          "execution_count": 160
        }
      ],
      "source": [
        "x_candidate[86]"
      ]
    },
    {
      "cell_type": "code",
      "execution_count": null,
      "metadata": {
        "id": "5e6z-s5m-HXW",
        "colab": {
          "base_uri": "https://localhost:8080/",
          "height": 248
        },
        "outputId": "44607220-07c1-4548-fc86-9f65ff18d2e8"
      },
      "outputs": [
        {
          "output_type": "error",
          "ename": "RuntimeError",
          "evalue": "ignored",
          "traceback": [
            "\u001b[0;31m---------------------------------------------------------------------------\u001b[0m",
            "\u001b[0;31mRuntimeError\u001b[0m                              Traceback (most recent call last)",
            "\u001b[0;32m<ipython-input-169-27f12e904e5e>\u001b[0m in \u001b[0;36m<module>\u001b[0;34m\u001b[0m\n\u001b[1;32m     16\u001b[0m         \u001b[0mgprs_bo\u001b[0m \u001b[0;34m=\u001b[0m \u001b[0mgp\u001b[0m\u001b[0;34m.\u001b[0m\u001b[0mmodels\u001b[0m\u001b[0;34m.\u001b[0m\u001b[0mGPRegression\u001b[0m\u001b[0;34m(\u001b[0m\u001b[0mxs_bo\u001b[0m\u001b[0;34m,\u001b[0m\u001b[0mys_bo\u001b[0m\u001b[0;34m,\u001b[0m\u001b[0mkernel\u001b[0m\u001b[0;34m=\u001b[0m\u001b[0mkernels_bo\u001b[0m\u001b[0;34m,\u001b[0m\u001b[0mnoise\u001b[0m\u001b[0;34m=\u001b[0m\u001b[0mtorch\u001b[0m\u001b[0;34m.\u001b[0m\u001b[0mtensor\u001b[0m\u001b[0;34m(\u001b[0m\u001b[0;34m[\u001b[0m\u001b[0;36m0.0001\u001b[0m\u001b[0;34m]\u001b[0m\u001b[0;34m)\u001b[0m\u001b[0;34m)\u001b[0m\u001b[0;34m\u001b[0m\u001b[0;34m\u001b[0m\u001b[0m\n\u001b[1;32m     17\u001b[0m \u001b[0;34m\u001b[0m\u001b[0m\n\u001b[0;32m---> 18\u001b[0;31m         \u001b[0mmeans_bo\u001b[0m \u001b[0;34m=\u001b[0m \u001b[0mtorch\u001b[0m\u001b[0;34m.\u001b[0m\u001b[0mcat\u001b[0m\u001b[0;34m(\u001b[0m\u001b[0;34m(\u001b[0m\u001b[0mmeans_bo\u001b[0m\u001b[0;34m,\u001b[0m\u001b[0mgprs_bo\u001b[0m\u001b[0;34m.\u001b[0m\u001b[0mforward\u001b[0m\u001b[0;34m(\u001b[0m\u001b[0mx_asterisk\u001b[0m\u001b[0;34m)\u001b[0m\u001b[0;34m[\u001b[0m\u001b[0;36m0\u001b[0m\u001b[0;34m]\u001b[0m\u001b[0;34m)\u001b[0m\u001b[0;34m,\u001b[0m\u001b[0;36m0\u001b[0m\u001b[0;34m)\u001b[0m\u001b[0;34m\u001b[0m\u001b[0;34m\u001b[0m\u001b[0m\n\u001b[0m\u001b[1;32m     19\u001b[0m \u001b[0;34m\u001b[0m\u001b[0m\n\u001b[1;32m     20\u001b[0m         \u001b[0mvariances_bo\u001b[0m \u001b[0;34m=\u001b[0m \u001b[0mtorch\u001b[0m\u001b[0;34m.\u001b[0m\u001b[0mcat\u001b[0m\u001b[0;34m(\u001b[0m\u001b[0;34m(\u001b[0m\u001b[0mvariances_bo\u001b[0m\u001b[0;34m,\u001b[0m\u001b[0mgprs_bo\u001b[0m\u001b[0;34m.\u001b[0m\u001b[0mforward\u001b[0m\u001b[0;34m(\u001b[0m\u001b[0mx_asterisk\u001b[0m\u001b[0;34m)\u001b[0m\u001b[0;34m[\u001b[0m\u001b[0;36m1\u001b[0m\u001b[0;34m]\u001b[0m\u001b[0;34m)\u001b[0m\u001b[0;34m,\u001b[0m\u001b[0;36m0\u001b[0m\u001b[0;34m)\u001b[0m\u001b[0;34m\u001b[0m\u001b[0;34m\u001b[0m\u001b[0m\n",
            "\u001b[0;31mRuntimeError\u001b[0m: Tensors must have same number of dimensions: got 2 and 1"
          ]
        }
      ],
      "source": [
        "means_bo = torch.tensor([])\n",
        "variances_bo = torch.tensor([])\n",
        "xs_bo = xs\n",
        "ys_bo = ys\n",
        "\n",
        "x_asterisk = torch.linspace(-1,1,200)\n",
        "\n",
        "for k in range(10):\n",
        "\n",
        "    for i in range(1000):\n",
        "    \n",
        "        pyro.clear_param_store()\n",
        "    \n",
        "        kernels_bo = gp.kernels.RBF(input_dim = 1, variance = posterior_vs[i], lengthscale=posterior_ls[i])\n",
        "    \n",
        "        gprs_bo = gp.models.GPRegression(xs_bo,ys_bo,kernel=kernels_bo,noise=torch.tensor([0.0001]))\n",
        "\n",
        "        means_bo = torch.cat((means_bo,gprs_bo.forward(x_asterisk)[0]),-1)\n",
        "\n",
        "        variances_bo = torch.cat((variances_bo,gprs_bo.forward(x_asterisk)[1]),0)\n",
        "    \n",
        "    means_bo = torch.reshape( means_bo, (200,1000) )\n",
        "\n",
        "    means_bo_estimates = torch.mean( means_bo, dim=1 )\n",
        "\n",
        "    variances_bo = torch.reshape( variances_bo, (200,1000) )\n",
        "\n",
        "    variances_bo_estimates = torch.mean( variances_bo, dim=1 )\n",
        "\n",
        "\n",
        "    f_bo = torch.tensor([])\n",
        "\n",
        "    for i in range(200):\n",
        "        # torch.manual_seed(1) — If I add this, then it will of course be the same value you get.\n",
        "        f_bo = torch.cat( ( f_bo, torch.normal(mean=means_bo_estimates[i].data,std=torch.sqrt(variances_bo_estimates[i]).data, size=(1,)) ), dim=-1)\n",
        "\n",
        "    \n",
        "    ys_bo = torch.cat( (ys_bo, f(torch.argmin(f_bo)).unsqueeze(0)), dim=0 )\n",
        "    \n",
        "    xs_bo = torch.cat( (xs_bo, x_asterisk[torch.argmin(f_bo)].unsqueeze(0)), dim=0 )\n",
        "\n"
      ]
    },
    {
      "cell_type": "code",
      "execution_count": null,
      "metadata": {
        "id": "IS4A0gQ_K-Br"
      },
      "outputs": [],
      "source": [
        "\n",
        "x_asterisk = torch.linspace(-1,1,200)"
      ]
    },
    {
      "cell_type": "code",
      "execution_count": null,
      "metadata": {
        "id": "QpauQLIjK-jc"
      },
      "outputs": [],
      "source": [
        "means_bo = torch.tensor([])\n",
        "variances_bo = torch.tensor([])\n",
        "xs_bo = xs\n",
        "ys_bo = ys\n",
        "\n",
        "x_asterisk = torch.linspace(-1,1,200)\n",
        "\n",
        "\n",
        "for i in range(1000):\n",
        "    \n",
        "    pyro.clear_param_store()\n",
        "    \n",
        "    kernels_bo = gp.kernels.RBF(input_dim = 1, variance = posterior_vs[i], lengthscale=posterior_ls[i])\n",
        "    \n",
        "    gprs_bo = gp.models.GPRegression(xs_bo,ys_bo,kernel=kernels_bo,noise=torch.tensor([0.0001]))\n",
        "\n",
        "    means_bo = torch.cat((means_bo,gprs_bo.forward(x_asterisk)[0]),-1)\n",
        "\n",
        "    variances_bo = torch.cat((variances_bo,gprs_bo.forward(x_asterisk)[1]),0)"
      ]
    },
    {
      "cell_type": "code",
      "source": [
        "means_bo"
      ],
      "metadata": {
        "colab": {
          "base_uri": "https://localhost:8080/"
        },
        "id": "xFuUGq7TVWCp",
        "outputId": "d1c77908-ef5d-4cec-dcdc-59cacc338aad"
      },
      "execution_count": null,
      "outputs": [
        {
          "output_type": "execute_result",
          "data": {
            "text/plain": [
              "tensor([-1.1981, -1.1531, -1.1055,  ...,  1.7176,  1.7319,  1.7452],\n",
              "       grad_fn=<CatBackward0>)"
            ]
          },
          "metadata": {},
          "execution_count": 166
        }
      ]
    },
    {
      "cell_type": "code",
      "source": [],
      "metadata": {
        "id": "qQyg3OwHVnKf"
      },
      "execution_count": null,
      "outputs": []
    }
  ],
  "metadata": {
    "colab": {
      "provenance": [],
      "include_colab_link": true
    },
    "kernelspec": {
      "display_name": "Python 3",
      "name": "python3"
    },
    "language_info": {
      "name": "python"
    }
  },
  "nbformat": 4,
  "nbformat_minor": 0
}